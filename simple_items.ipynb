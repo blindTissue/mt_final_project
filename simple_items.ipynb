{
 "cells": [
  {
   "cell_type": "code",
   "id": "initial_id",
   "metadata": {
    "collapsed": true,
    "ExecuteTime": {
     "end_time": "2024-12-06T23:24:22.608368Z",
     "start_time": "2024-12-06T23:24:21.837582Z"
    }
   },
   "source": [
    "import pickle\n",
    "import torch\n",
    "from torch.nn.functional import cosine_similarity"
   ],
   "outputs": [],
   "execution_count": 1
  },
  {
   "metadata": {
    "ExecuteTime": {
     "end_time": "2024-12-06T23:24:29.276433Z",
     "start_time": "2024-12-06T23:24:22.610681Z"
    }
   },
   "cell_type": "code",
   "source": [
    "intermediate_3b_18 = pickle.load(open(\"tokenized/intermediate_llama_3b_18.pkl\", 'rb'))\n",
    "intermediate_10_1b = pickle.load(open(\"tokenized/first_2000/intermediate_llama_1b_10.pkl\", 'rb'))"
   ],
   "id": "9b9507c5abd9f7b3",
   "outputs": [],
   "execution_count": 2
  },
  {
   "metadata": {
    "ExecuteTime": {
     "end_time": "2024-12-06T23:24:29.370705Z",
     "start_time": "2024-12-06T23:24:29.369062Z"
    }
   },
   "cell_type": "code",
   "source": "print(len(intermediate_3b_18))",
   "id": "a2bc7c723c80651b",
   "outputs": [
    {
     "name": "stdout",
     "output_type": "stream",
     "text": [
      "2000\n"
     ]
    }
   ],
   "execution_count": 3
  },
  {
   "metadata": {
    "ExecuteTime": {
     "end_time": "2024-12-06T23:24:29.376639Z",
     "start_time": "2024-12-06T23:24:29.375532Z"
    }
   },
   "cell_type": "code",
   "source": "",
   "id": "8e9aa89c8790a14e",
   "outputs": [],
   "execution_count": null
  },
  {
   "metadata": {
    "ExecuteTime": {
     "end_time": "2024-12-06T23:24:33.697917Z",
     "start_time": "2024-12-06T23:24:29.385357Z"
    }
   },
   "cell_type": "code",
   "source": [
    "intermediate_3b_18_all = []\n",
    "intermediate_10_1b_all = []\n",
    "#for i in range(len(intermediate_3b_18)):\n",
    "for i in range(1000):\n",
    "    intermediate_3b_18_all.extend(intermediate_3b_18[i])\n",
    "    intermediate_10_1b_all.extend(intermediate_10_1b[i])\n",
    "intermediate_3b_18_all = torch.stack(intermediate_3b_18_all)\n",
    "intermediate_10_1b_all = torch.stack(intermediate_10_1b_all)"
   ],
   "id": "a0974ef06d933dcf",
   "outputs": [],
   "execution_count": 4
  },
  {
   "metadata": {
    "ExecuteTime": {
     "end_time": "2024-12-06T23:24:33.712814Z",
     "start_time": "2024-12-06T23:24:33.711166Z"
    }
   },
   "cell_type": "code",
   "source": [
    "print(intermediate_3b_18_all.shape)\n",
    "print(intermediate_10_1b_all.shape)"
   ],
   "id": "a69cdb93a9d7fea1",
   "outputs": [
    {
     "name": "stdout",
     "output_type": "stream",
     "text": [
      "torch.Size([448340, 3072])\n",
      "torch.Size([448340, 2048])\n"
     ]
    }
   ],
   "execution_count": 5
  },
  {
   "metadata": {
    "ExecuteTime": {
     "end_time": "2024-12-06T23:24:34.643784Z",
     "start_time": "2024-12-06T23:24:33.729913Z"
    }
   },
   "cell_type": "code",
   "source": [
    "del intermediate_3b_18\n",
    "del intermediate_10_1b"
   ],
   "id": "1e2d69c5e4d3491e",
   "outputs": [],
   "execution_count": 6
  },
  {
   "metadata": {
    "ExecuteTime": {
     "end_time": "2024-12-06T23:24:34.650589Z",
     "start_time": "2024-12-06T23:24:34.648530Z"
    }
   },
   "cell_type": "code",
   "source": [
    "def split_data(source, target, train_ratio=0.8):\n",
    "    # Generate random permutation of indices\n",
    "    indices = torch.randperm(len(source))\n",
    "\n",
    "    # Calculate the split index\n",
    "    split_idx = int(train_ratio * len(source))\n",
    "\n",
    "    # Split indices into train and validation sets\n",
    "    train_indices = indices[:split_idx]\n",
    "    val_indices = indices[split_idx:]\n",
    "\n",
    "    # Use the indices to split the data\n",
    "    source_train = source[train_indices]\n",
    "    target_train = target[train_indices]\n",
    "    source_val = source[val_indices]\n",
    "    target_val = target[val_indices]\n",
    "\n",
    "    del source, target\n",
    "\n",
    "    return source_train, target_train, source_val, target_val"
   ],
   "id": "90199ecac1d0b564",
   "outputs": [],
   "execution_count": 7
  },
  {
   "metadata": {
    "ExecuteTime": {
     "end_time": "2024-12-06T23:24:34.656269Z",
     "start_time": "2024-12-06T23:24:34.655173Z"
    }
   },
   "cell_type": "code",
   "source": "",
   "id": "f10b63e95b6e2924",
   "outputs": [],
   "execution_count": null
  },
  {
   "metadata": {
    "ExecuteTime": {
     "end_time": "2024-12-06T23:24:34.662457Z",
     "start_time": "2024-12-06T23:24:34.660642Z"
    }
   },
   "cell_type": "code",
   "source": [
    "from torch.utils.data import Dataset, DataLoader\n",
    "class MappingDataset(Dataset):\n",
    "    def __init__(self, source, target, device):\n",
    "        self.source = source.to(device)\n",
    "        self.target = target.to(device)\n",
    "    def __len__(self):\n",
    "        return len(self.source)\n",
    "    def __getitem__(self, idx):\n",
    "        return self.source[idx], self.target[idx]"
   ],
   "id": "317134dbe3a5ac99",
   "outputs": [],
   "execution_count": 8
  },
  {
   "metadata": {
    "ExecuteTime": {
     "end_time": "2024-12-06T23:36:20.251419Z",
     "start_time": "2024-12-06T23:36:15.500187Z"
    }
   },
   "cell_type": "code",
   "source": [
    "s_train, t_train, s_val, t_val = split_data(intermediate_3b_18_all, intermediate_10_1b_all)\n",
    "train_loader = DataLoader(MappingDataset(s_train, t_train, 'mps'), batch_size=128, shuffle=True)\n",
    "val_loader = DataLoader(MappingDataset(s_val, t_val, 'mps'), batch_size=128, shuffle=True)"
   ],
   "id": "d1b557882ddd279d",
   "outputs": [],
   "execution_count": 23
  },
  {
   "metadata": {
    "ExecuteTime": {
     "end_time": "2024-12-06T23:36:39.723778Z",
     "start_time": "2024-12-06T23:36:39.388994Z"
    }
   },
   "cell_type": "code",
   "source": "del s_train, t_train, s_val, t_val",
   "id": "c6de105af5603e05",
   "outputs": [],
   "execution_count": 24
  },
  {
   "metadata": {
    "ExecuteTime": {
     "end_time": "2024-12-06T23:36:40.372680Z",
     "start_time": "2024-12-06T23:36:40.369828Z"
    }
   },
   "cell_type": "code",
   "source": [
    "print(len(train_loader))\n",
    "print(len(val_loader))"
   ],
   "id": "8f2c5794dd2510c",
   "outputs": [
    {
     "name": "stdout",
     "output_type": "stream",
     "text": [
      "2803\n",
      "701\n"
     ]
    }
   ],
   "execution_count": 25
  },
  {
   "metadata": {
    "ExecuteTime": {
     "end_time": "2024-12-06T23:36:48.610492Z",
     "start_time": "2024-12-06T23:36:48.604864Z"
    }
   },
   "cell_type": "code",
   "source": [
    "import torch\n",
    "import torch.nn as nn\n",
    "\n",
    "class SimpleEncoderDecoder(nn.Module):\n",
    "    def __init__(self, input_size, hidden_size, output_size):\n",
    "        super(SimpleEncoderDecoder, self).__init__()\n",
    "        self.encoder = nn.Linear(input_size, hidden_size)\n",
    "        self.decoder = nn.Linear(hidden_size, output_size)\n",
    "        self.relu = nn.ReLU()\n",
    "\n",
    "    def forward(self, x):\n",
    "        encoded = self.relu(self.encoder(x))\n",
    "        decoded = self.decoder(encoded)\n",
    "        return decoded"
   ],
   "id": "30a5f61ba1c3ae76",
   "outputs": [],
   "execution_count": 26
  },
  {
   "metadata": {
    "ExecuteTime": {
     "end_time": "2024-12-07T00:02:28.793416Z",
     "start_time": "2024-12-07T00:02:28.789598Z"
    }
   },
   "cell_type": "code",
   "source": [
    "import torch\n",
    "import torch.nn as nn\n",
    "\n",
    "class denseModel(nn.Module):\n",
    "    def __init__(self, input_size, hidden_size, output_size):\n",
    "        super(denseModel, self).__init__()\n",
    "        layers = [\n",
    "            nn.Linear(input_size, hidden_size),\n",
    "            nn.GELU(),\n",
    "            nn.Linear(hidden_size, hidden_size),\n",
    "            nn.GELU(),\n",
    "            nn.Linear(hidden_size, output_size)\n",
    "        ]\n",
    "        self.model = nn.Sequential(*layers)\n",
    "    def forward(self, x):\n",
    "        return self.model(x)\n",
    "\n"
   ],
   "id": "826a75c0884744e4",
   "outputs": [],
   "execution_count": 36
  },
  {
   "metadata": {
    "ExecuteTime": {
     "end_time": "2024-12-06T23:24:36.037621Z",
     "start_time": "2024-12-06T23:24:36.035809Z"
    }
   },
   "cell_type": "code",
   "source": [
    "class CustomLoss(nn.Module):\n",
    "    def __init__(self, model, lambda_reg=0.01):\n",
    "        super(CustomLoss, self).__init__()\n",
    "        self.model = model\n",
    "        self.lambda_reg = lambda_reg\n",
    "    def forward(self, predictions, targets):\n",
    "        mse = nn.MSELoss(reduction='sum')\n",
    "        mse_loss = mse(predictions, targets)\n",
    "        reg_loss = self.lambda_reg * torch.norm(self.model.decoder.weight, p=1)\n",
    "        return mse_loss + reg_loss\n",
    "\n"
   ],
   "id": "780a238b27d3bfa9",
   "outputs": [],
   "execution_count": 13
  },
  {
   "metadata": {
    "ExecuteTime": {
     "end_time": "2024-12-07T00:08:50.276132Z",
     "start_time": "2024-12-07T00:08:50.172630Z"
    }
   },
   "cell_type": "code",
   "source": [
    "# Training\n",
    "import torch.optim as optim\n",
    "from tqdm import tqdm\n",
    "#model = SimpleEncoderDecoder(3072, 1024, 2048)\n",
    "model = denseModel(3072, 1024, 2048)\n",
    "model.to('mps')\n",
    "optimizer = optim.Adam(model.parameters(), lr=0.001)\n",
    "#criterion = CustomLoss(model, 0.01)\n",
    "#criterion = nn.MSELoss()\n",
    "criterion = nn.CosineEmbeddingLoss()\n",
    "epochs = 10"
   ],
   "id": "f3c39c0551328a78",
   "outputs": [],
   "execution_count": 45
  },
  {
   "metadata": {
    "ExecuteTime": {
     "end_time": "2024-12-07T00:08:50.923737Z",
     "start_time": "2024-12-07T00:08:50.921476Z"
    }
   },
   "cell_type": "code",
   "source": "import copy",
   "id": "85c6c8bf64e31952",
   "outputs": [],
   "execution_count": 46
  },
  {
   "metadata": {
    "ExecuteTime": {
     "end_time": "2024-12-07T00:11:41.217924Z",
     "start_time": "2024-12-07T00:08:53.142441Z"
    }
   },
   "cell_type": "code",
   "source": [
    "prev_val_loss = float('inf')\n",
    "patience_counter = 0\n",
    "train_losses = []\n",
    "val_losses = []\n",
    "best_model = None\n",
    "for epoch in range(epochs):\n",
    "    model.train()\n",
    "    train_loss = 0\n",
    "    for i, data in enumerate(tqdm(train_loader)):\n",
    "        optimizer.zero_grad()\n",
    "        inputs, targets = data\n",
    "        outputs = model(inputs)\n",
    "        loss = criterion(outputs, targets, torch.ones(len(inputs)).to('mps'))\n",
    "        loss.backward()\n",
    "        optimizer.step()\n",
    "        train_loss += loss.item()\n",
    "    train_loss = train_loss / (len(train_loader))\n",
    "    train_losses.append(train_loss)\n",
    "    print(f\"Epoch {epoch}, Train Loss: {train_loss}\")\n",
    "    model.eval()\n",
    "    val_loss = 0\n",
    "    with torch.no_grad():\n",
    "        for i, data in enumerate(val_loader):\n",
    "            inputs, targets = data\n",
    "            outputs = model(inputs)\n",
    "            loss = criterion(outputs, targets, torch.ones(len(inputs)).to('mps'))\n",
    "            val_loss += loss.item()\n",
    "        val_loss = val_loss / (len(val_loader))\n",
    "        val_losses.append(val_loss)\n",
    "        print(f\"Epoch {epoch}, Val Loss: {val_loss}\")\n",
    "        if val_loss < prev_val_loss:\n",
    "            prev_val_loss = val_loss\n",
    "            patience_counter = 0\n",
    "            # set the best model\n",
    "            best_model = copy.deepcopy(model)\n",
    "        else:\n",
    "            patience_counter += 1\n",
    "        if patience_counter > 5:\n",
    "            print(\"Early stopping\")\n",
    "            break"
   ],
   "id": "1b4c07f849f9ae4a",
   "outputs": [
    {
     "name": "stderr",
     "output_type": "stream",
     "text": [
      "100%|██████████| 2803/2803 [00:14<00:00, 187.69it/s]\n"
     ]
    },
    {
     "name": "stdout",
     "output_type": "stream",
     "text": [
      "Epoch 0, Train Loss: 0.16981781875602356\n",
      "Epoch 0, Val Loss: 0.14800141904816647\n"
     ]
    },
    {
     "name": "stderr",
     "output_type": "stream",
     "text": [
      "100%|██████████| 2803/2803 [00:14<00:00, 192.64it/s]\n"
     ]
    },
    {
     "name": "stdout",
     "output_type": "stream",
     "text": [
      "Epoch 1, Train Loss: 0.13889075032077514\n",
      "Epoch 1, Val Loss: 0.13974080401633504\n"
     ]
    },
    {
     "name": "stderr",
     "output_type": "stream",
     "text": [
      "100%|██████████| 2803/2803 [00:14<00:00, 190.55it/s]\n"
     ]
    },
    {
     "name": "stdout",
     "output_type": "stream",
     "text": [
      "Epoch 2, Train Loss: 0.1332511874344406\n",
      "Epoch 2, Val Loss: 0.13483011496177583\n"
     ]
    },
    {
     "name": "stderr",
     "output_type": "stream",
     "text": [
      "100%|██████████| 2803/2803 [00:14<00:00, 191.18it/s]\n"
     ]
    },
    {
     "name": "stdout",
     "output_type": "stream",
     "text": [
      "Epoch 3, Train Loss: 0.1299610064151327\n",
      "Epoch 3, Val Loss: 0.132697249838442\n"
     ]
    },
    {
     "name": "stderr",
     "output_type": "stream",
     "text": [
      "100%|██████████| 2803/2803 [00:14<00:00, 191.92it/s]\n"
     ]
    },
    {
     "name": "stdout",
     "output_type": "stream",
     "text": [
      "Epoch 4, Train Loss: 0.12763793444340032\n",
      "Epoch 4, Val Loss: 0.1300234413478582\n"
     ]
    },
    {
     "name": "stderr",
     "output_type": "stream",
     "text": [
      "100%|██████████| 2803/2803 [00:14<00:00, 191.49it/s]\n"
     ]
    },
    {
     "name": "stdout",
     "output_type": "stream",
     "text": [
      "Epoch 5, Train Loss: 0.12590219139723194\n",
      "Epoch 5, Val Loss: 0.12909492772715578\n"
     ]
    },
    {
     "name": "stderr",
     "output_type": "stream",
     "text": [
      "100%|██████████| 2803/2803 [00:14<00:00, 192.90it/s]\n"
     ]
    },
    {
     "name": "stdout",
     "output_type": "stream",
     "text": [
      "Epoch 6, Train Loss: 0.12450952401841235\n",
      "Epoch 6, Val Loss: 0.12833930617902486\n"
     ]
    },
    {
     "name": "stderr",
     "output_type": "stream",
     "text": [
      "100%|██████████| 2803/2803 [00:14<00:00, 191.98it/s]\n"
     ]
    },
    {
     "name": "stdout",
     "output_type": "stream",
     "text": [
      "Epoch 7, Train Loss: 0.12338638802723846\n",
      "Epoch 7, Val Loss: 0.1265983259180473\n"
     ]
    },
    {
     "name": "stderr",
     "output_type": "stream",
     "text": [
      "100%|██████████| 2803/2803 [00:14<00:00, 192.76it/s]\n"
     ]
    },
    {
     "name": "stdout",
     "output_type": "stream",
     "text": [
      "Epoch 8, Train Loss: 0.12244339924421303\n",
      "Epoch 8, Val Loss: 0.1259966637944529\n"
     ]
    },
    {
     "name": "stderr",
     "output_type": "stream",
     "text": [
      "100%|██████████| 2803/2803 [00:14<00:00, 192.92it/s]\n"
     ]
    },
    {
     "name": "stdout",
     "output_type": "stream",
     "text": [
      "Epoch 9, Train Loss: 0.12164415936628666\n",
      "Epoch 9, Val Loss: 0.12504676706057982\n"
     ]
    }
   ],
   "execution_count": 47
  },
  {
   "metadata": {
    "ExecuteTime": {
     "end_time": "2024-12-07T00:11:46.700163Z",
     "start_time": "2024-12-07T00:11:46.697827Z"
    }
   },
   "cell_type": "code",
   "source": "print(prev_val_loss)",
   "id": "3da2060cf0d3b80c",
   "outputs": [
    {
     "name": "stdout",
     "output_type": "stream",
     "text": [
      "0.12504676706057982\n"
     ]
    }
   ],
   "execution_count": 48
  },
  {
   "metadata": {
    "ExecuteTime": {
     "end_time": "2024-12-07T00:16:17.938648Z",
     "start_time": "2024-12-07T00:16:17.712085Z"
    }
   },
   "cell_type": "code",
   "source": [
    "for i, d in enumerate(train_loader):\n",
    "    inputs, targets = d\n",
    "    outputs = best_model(inputs)\n",
    "    print(inputs[10])\n",
    "    print(targets[10])\n",
    "    cos = nn.CosineSimilarity(dim=-1, eps=1e-8)\n",
    "    print(cos(outputs[10], targets[10]))\n",
    "    print(torch.linalg.vector_norm(outputs[10] - targets[10]))\n",
    "    break"
   ],
   "id": "a51043bbcf7bb6d0",
   "outputs": [
    {
     "name": "stdout",
     "output_type": "stream",
     "text": [
      "tensor([ 0.0276, -0.1827, -1.4195,  ...,  0.0373,  0.0581, -0.2269],\n",
      "       device='mps:0')\n",
      "tensor([-0.0760, -0.0870, -0.5498,  ...,  0.2267, -0.0715,  0.0630],\n",
      "       device='mps:0')\n",
      "tensor(0.9060, device='mps:0', grad_fn=<SumBackward1>)\n",
      "tensor(1841.8755, device='mps:0', grad_fn=<LinalgVectorNormBackward0>)\n"
     ]
    }
   ],
   "execution_count": 62
  },
  {
   "metadata": {
    "ExecuteTime": {
     "end_time": "2024-12-07T00:17:59.930274Z",
     "start_time": "2024-12-07T00:17:59.858412Z"
    }
   },
   "cell_type": "code",
   "source": "torch.save(best_model, \"simple_encoder_decoder_3_layers_cosine.pth\")",
   "id": "f78b0e41b40b36b5",
   "outputs": [],
   "execution_count": 63
  },
  {
   "metadata": {
    "ExecuteTime": {
     "end_time": "2024-12-06T23:27:20.066860Z",
     "start_time": "2024-12-06T23:27:20.065728Z"
    }
   },
   "cell_type": "code",
   "source": "",
   "id": "ec3ee87650aad074",
   "outputs": [],
   "execution_count": null
  }
 ],
 "metadata": {
  "kernelspec": {
   "display_name": "Python 3",
   "language": "python",
   "name": "python3"
  },
  "language_info": {
   "codemirror_mode": {
    "name": "ipython",
    "version": 2
   },
   "file_extension": ".py",
   "mimetype": "text/x-python",
   "name": "python",
   "nbconvert_exporter": "python",
   "pygments_lexer": "ipython2",
   "version": "2.7.6"
  }
 },
 "nbformat": 4,
 "nbformat_minor": 5
}
