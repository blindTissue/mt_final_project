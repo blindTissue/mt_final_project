{
 "cells": [
  {
   "cell_type": "code",
   "id": "initial_id",
   "metadata": {
    "collapsed": true,
    "ExecuteTime": {
     "end_time": "2024-11-19T14:03:57.471042Z",
     "start_time": "2024-11-19T14:03:57.468767Z"
    }
   },
   "source": "from transformers import AutoTokenizer, AutoModelForCausalLM",
   "outputs": [],
   "execution_count": 98
  },
  {
   "metadata": {
    "ExecuteTime": {
     "end_time": "2024-11-19T11:43:49.056563Z",
     "start_time": "2024-11-19T11:43:49.054909Z"
    }
   },
   "cell_type": "code",
   "source": "#!pip install ipywidgets",
   "id": "364a466029e1fe7a",
   "outputs": [],
   "execution_count": 3
  },
  {
   "metadata": {
    "ExecuteTime": {
     "end_time": "2024-11-19T11:43:49.255380Z",
     "start_time": "2024-11-19T11:43:49.060801Z"
    }
   },
   "cell_type": "code",
   "source": "llama_1b = AutoModelForCausalLM.from_pretrained(\"models/meta-llama/llama-3.2-1B\")",
   "id": "e933c910da0c195a",
   "outputs": [],
   "execution_count": 4
  },
  {
   "metadata": {
    "ExecuteTime": {
     "end_time": "2024-11-19T11:43:49.465727Z",
     "start_time": "2024-11-19T11:43:49.259853Z"
    }
   },
   "cell_type": "code",
   "source": "tokenizer = AutoTokenizer.from_pretrained(\"tokenizers/meta-llama/llama-3.2-1B\")",
   "id": "f98de5e339fc09b1",
   "outputs": [],
   "execution_count": 5
  },
  {
   "metadata": {
    "ExecuteTime": {
     "end_time": "2024-11-19T11:46:16.764747Z",
     "start_time": "2024-11-19T11:46:16.759383Z"
    }
   },
   "cell_type": "code",
   "source": "llama_1b",
   "id": "319d2e8e7b144190",
   "outputs": [
    {
     "data": {
      "text/plain": [
       "LlamaForCausalLM(\n",
       "  (model): LlamaModel(\n",
       "    (embed_tokens): Embedding(128256, 2048)\n",
       "    (layers): ModuleList(\n",
       "      (0-15): 16 x LlamaDecoderLayer(\n",
       "        (self_attn): LlamaSdpaAttention(\n",
       "          (q_proj): Linear(in_features=2048, out_features=2048, bias=False)\n",
       "          (k_proj): Linear(in_features=2048, out_features=512, bias=False)\n",
       "          (v_proj): Linear(in_features=2048, out_features=512, bias=False)\n",
       "          (o_proj): Linear(in_features=2048, out_features=2048, bias=False)\n",
       "          (rotary_emb): LlamaRotaryEmbedding()\n",
       "        )\n",
       "        (mlp): LlamaMLP(\n",
       "          (gate_proj): Linear(in_features=2048, out_features=8192, bias=False)\n",
       "          (up_proj): Linear(in_features=2048, out_features=8192, bias=False)\n",
       "          (down_proj): Linear(in_features=8192, out_features=2048, bias=False)\n",
       "          (act_fn): SiLU()\n",
       "        )\n",
       "        (input_layernorm): LlamaRMSNorm((2048,), eps=1e-05)\n",
       "        (post_attention_layernorm): LlamaRMSNorm((2048,), eps=1e-05)\n",
       "      )\n",
       "    )\n",
       "    (norm): LlamaRMSNorm((2048,), eps=1e-05)\n",
       "    (rotary_emb): LlamaRotaryEmbedding()\n",
       "  )\n",
       "  (lm_head): Linear(in_features=2048, out_features=128256, bias=False)\n",
       ")"
      ]
     },
     "execution_count": 7,
     "metadata": {},
     "output_type": "execute_result"
    }
   ],
   "execution_count": 7
  },
  {
   "metadata": {
    "ExecuteTime": {
     "end_time": "2024-11-19T19:44:24.720362Z",
     "start_time": "2024-11-19T19:44:19.654147Z"
    }
   },
   "cell_type": "code",
   "source": [
    "# example outputs\n",
    "input_string = \"What is the meaning of life?\"\n",
    "tokenized_string = tokenizer(input_string, return_tensors=\"pt\")\n",
    "print(tokenized_string)\n",
    "output = llama_1b.generate(tokenized_string[\"input_ids\"], max_length=100)\n",
    "print(output)\n",
    "output_string = tokenizer.decode(output[0])\n",
    "print(output_string)"
   ],
   "id": "774d9c93be0e3137",
   "outputs": [
    {
     "name": "stderr",
     "output_type": "stream",
     "text": [
      "The attention mask and the pad token id were not set. As a consequence, you may observe unexpected behavior. Please pass your input's `attention_mask` to obtain reliable results.\n",
      "Setting `pad_token_id` to `eos_token_id`:None for open-end generation.\n"
     ]
    },
    {
     "name": "stdout",
     "output_type": "stream",
     "text": [
      "{'input_ids': tensor([[128000,   3923,    374,    279,   7438,    315,   2324,     30]]), 'attention_mask': tensor([[1, 1, 1, 1, 1, 1, 1, 1]])}\n",
      "tensor([[128000,   3923,    374,    279,   7438,    315,   2324,     30,   3639,\n",
      "            374,    279,   7580,    315,   2324,     30,   3639,    374,    279,\n",
      "           7438,    315,  14209,     30,   4314,    527,   4860,    430,    617,\n",
      "           1027,   4691,    369,  24552,     13,   3639,    374,    279,   7438,\n",
      "            315,   2324,     30,   1102,    374,    264,   3488,    430,    706,\n",
      "          87420,  61787,     11,  90602,   5493,     11,    323,  14248,    369,\n",
      "          24552,     13,    578,   4320,    311,    420,   3488,    374,    539,\n",
      "            264,   4382,    832,     11,    323,    433,    374,    264,   3488,\n",
      "            430,    706,    912,   3254,   4320,     13,   4452,     11,   1070,\n",
      "            527,   1063,   4689,  16565,    430,    649,    387,   1511,    311,\n",
      "           4320,    420,   3488,    627,    791,   1176,  17966,    374,    430,\n",
      "            279]])\n",
      "<|begin_of_text|>What is the meaning of life? What is the purpose of life? What is the meaning of existence? These are questions that have been asked for centuries. What is the meaning of life? It is a question that has puzzled philosophers, theologians, and scientists for centuries. The answer to this question is not a simple one, and it is a question that has no single answer. However, there are some general principles that can be used to answer this question.\n",
      "The first principle is that the\n"
     ]
    }
   ],
   "execution_count": 116
  },
  {
   "metadata": {
    "ExecuteTime": {
     "end_time": "2024-11-19T12:07:32.268587Z",
     "start_time": "2024-11-19T12:07:32.265541Z"
    }
   },
   "cell_type": "code",
   "source": "print(llama_1b.model)",
   "id": "3588c8a36f0aa6a1",
   "outputs": [
    {
     "name": "stdout",
     "output_type": "stream",
     "text": [
      "LlamaModel(\n",
      "  (embed_tokens): Embedding(128256, 2048)\n",
      "  (layers): ModuleList(\n",
      "    (0-15): 16 x LlamaDecoderLayer(\n",
      "      (self_attn): LlamaSdpaAttention(\n",
      "        (q_proj): Linear(in_features=2048, out_features=2048, bias=False)\n",
      "        (k_proj): Linear(in_features=2048, out_features=512, bias=False)\n",
      "        (v_proj): Linear(in_features=2048, out_features=512, bias=False)\n",
      "        (o_proj): Linear(in_features=2048, out_features=2048, bias=False)\n",
      "        (rotary_emb): LlamaRotaryEmbedding()\n",
      "      )\n",
      "      (mlp): LlamaMLP(\n",
      "        (gate_proj): Linear(in_features=2048, out_features=8192, bias=False)\n",
      "        (up_proj): Linear(in_features=2048, out_features=8192, bias=False)\n",
      "        (down_proj): Linear(in_features=8192, out_features=2048, bias=False)\n",
      "        (act_fn): SiLU()\n",
      "      )\n",
      "      (input_layernorm): LlamaRMSNorm((2048,), eps=1e-05)\n",
      "      (post_attention_layernorm): LlamaRMSNorm((2048,), eps=1e-05)\n",
      "    )\n",
      "  )\n",
      "  (norm): LlamaRMSNorm((2048,), eps=1e-05)\n",
      "  (rotary_emb): LlamaRotaryEmbedding()\n",
      ")\n"
     ]
    }
   ],
   "execution_count": 14
  },
  {
   "metadata": {},
   "cell_type": "code",
   "outputs": [],
   "execution_count": null,
   "source": "print(llama_1b)",
   "id": "420f9041a5208ed"
  },
  {
   "metadata": {
    "ExecuteTime": {
     "end_time": "2024-11-19T19:31:28.955020Z",
     "start_time": "2024-11-19T19:31:28.825020Z"
    }
   },
   "cell_type": "code",
   "source": "out = llama_1b(tokenized_string[\"input_ids\"], output_hidden_states=True)",
   "id": "70f8c6a4a8a0f331",
   "outputs": [],
   "execution_count": 99
  },
  {
   "metadata": {
    "ExecuteTime": {
     "end_time": "2024-11-19T19:41:28.980092Z",
     "start_time": "2024-11-19T19:41:28.977963Z"
    }
   },
   "cell_type": "code",
   "source": "print(out.hidden_states[2].shape)",
   "id": "aed8e9e1ca81d246",
   "outputs": [
    {
     "name": "stdout",
     "output_type": "stream",
     "text": [
      "torch.Size([1, 8, 2048])\n"
     ]
    }
   ],
   "execution_count": 114
  },
  {
   "metadata": {
    "ExecuteTime": {
     "end_time": "2024-11-19T12:44:16.981347Z",
     "start_time": "2024-11-19T12:44:16.979120Z"
    }
   },
   "cell_type": "code",
   "source": "out.__class__",
   "id": "2acfb767c63bc5d1",
   "outputs": [
    {
     "data": {
      "text/plain": [
       "transformers.modeling_outputs.CausalLMOutputWithPast"
      ]
     },
     "execution_count": 60,
     "metadata": {},
     "output_type": "execute_result"
    }
   ],
   "execution_count": 60
  },
  {
   "metadata": {
    "ExecuteTime": {
     "end_time": "2024-11-19T12:44:17.817320Z",
     "start_time": "2024-11-19T12:44:17.814963Z"
    }
   },
   "cell_type": "code",
   "source": "print(out.loss)",
   "id": "bab52ad183750ade",
   "outputs": [
    {
     "name": "stdout",
     "output_type": "stream",
     "text": [
      "None\n"
     ]
    }
   ],
   "execution_count": 61
  },
  {
   "metadata": {
    "ExecuteTime": {
     "end_time": "2024-11-19T12:44:18.579973Z",
     "start_time": "2024-11-19T12:44:18.577460Z"
    }
   },
   "cell_type": "code",
   "source": "print(out.logits.shape)",
   "id": "60c8df0a65405f75",
   "outputs": [
    {
     "name": "stdout",
     "output_type": "stream",
     "text": [
      "torch.Size([1, 8, 128256])\n"
     ]
    }
   ],
   "execution_count": 62
  },
  {
   "metadata": {
    "ExecuteTime": {
     "end_time": "2024-11-19T12:44:19.426608Z",
     "start_time": "2024-11-19T12:44:19.424268Z"
    }
   },
   "cell_type": "code",
   "source": "print(len(out.past_key_values))",
   "id": "bc5fce0d697dae10",
   "outputs": [
    {
     "name": "stdout",
     "output_type": "stream",
     "text": [
      "16\n"
     ]
    }
   ],
   "execution_count": 63
  },
  {
   "metadata": {
    "ExecuteTime": {
     "end_time": "2024-11-19T12:44:20.110637Z",
     "start_time": "2024-11-19T12:44:20.107126Z"
    }
   },
   "cell_type": "code",
   "source": "dir(out)",
   "id": "85aa07f92f4b154",
   "outputs": [
    {
     "data": {
      "text/plain": [
       "['__annotations__',\n",
       " '__class__',\n",
       " '__class_getitem__',\n",
       " '__contains__',\n",
       " '__dataclass_fields__',\n",
       " '__dataclass_params__',\n",
       " '__delattr__',\n",
       " '__delitem__',\n",
       " '__dict__',\n",
       " '__dir__',\n",
       " '__doc__',\n",
       " '__eq__',\n",
       " '__format__',\n",
       " '__ge__',\n",
       " '__getattribute__',\n",
       " '__getitem__',\n",
       " '__getstate__',\n",
       " '__gt__',\n",
       " '__hash__',\n",
       " '__init__',\n",
       " '__init_subclass__',\n",
       " '__ior__',\n",
       " '__iter__',\n",
       " '__le__',\n",
       " '__len__',\n",
       " '__lt__',\n",
       " '__match_args__',\n",
       " '__module__',\n",
       " '__ne__',\n",
       " '__new__',\n",
       " '__or__',\n",
       " '__post_init__',\n",
       " '__reduce__',\n",
       " '__reduce_ex__',\n",
       " '__repr__',\n",
       " '__reversed__',\n",
       " '__ror__',\n",
       " '__setattr__',\n",
       " '__setitem__',\n",
       " '__sizeof__',\n",
       " '__str__',\n",
       " '__subclasshook__',\n",
       " 'attentions',\n",
       " 'clear',\n",
       " 'copy',\n",
       " 'fromkeys',\n",
       " 'get',\n",
       " 'hidden_states',\n",
       " 'items',\n",
       " 'keys',\n",
       " 'logits',\n",
       " 'loss',\n",
       " 'move_to_end',\n",
       " 'past_key_values',\n",
       " 'pop',\n",
       " 'popitem',\n",
       " 'setdefault',\n",
       " 'to_tuple',\n",
       " 'update',\n",
       " 'values']"
      ]
     },
     "execution_count": 64,
     "metadata": {},
     "output_type": "execute_result"
    }
   ],
   "execution_count": 64
  },
  {
   "metadata": {
    "ExecuteTime": {
     "end_time": "2024-11-19T12:44:20.850593Z",
     "start_time": "2024-11-19T12:44:20.843426Z"
    }
   },
   "cell_type": "code",
   "source": "print(out.hidden_states)",
   "id": "f5ec667b27369764",
   "outputs": [
    {
     "name": "stdout",
     "output_type": "stream",
     "text": [
      "(tensor([[[ 0.0028,  0.0033, -0.0099,  ..., -0.0018,  0.0008,  0.0007],\n",
      "         [ 0.0188, -0.0120, -0.0014,  ..., -0.0022, -0.0006, -0.0016],\n",
      "         [ 0.0092,  0.0172,  0.0228,  ..., -0.0090,  0.0087,  0.0086],\n",
      "         ...,\n",
      "         [-0.0022, -0.0160,  0.0078,  ...,  0.0043,  0.0198,  0.0171],\n",
      "         [ 0.0337, -0.0021,  0.0104,  ...,  0.0044, -0.0051,  0.0070],\n",
      "         [-0.0156, -0.0146,  0.0135,  ..., -0.0275, -0.0090,  0.0057]]],\n",
      "       grad_fn=<EmbeddingBackward0>), tensor([[[ 0.0131, -0.0472,  0.0412,  ..., -0.0090,  0.0760, -0.0241],\n",
      "         [ 0.0382,  0.0042, -0.0756,  ...,  0.0247, -0.0014,  0.0290],\n",
      "         [ 0.0586,  0.0652, -0.0506,  ..., -0.0425,  0.0301,  0.0548],\n",
      "         ...,\n",
      "         [ 0.0230,  0.0195,  0.0107,  ...,  0.0272,  0.0553,  0.0011],\n",
      "         [ 0.0118, -0.0009, -0.0320,  ...,  0.0254, -0.0473,  0.0020],\n",
      "         [-0.0074, -0.0153, -0.0286,  ..., -0.0382, -0.0061,  0.0389]]],\n",
      "       grad_fn=<AddBackward0>), tensor([[[ 2.1497e-01, -3.2983e-01,  1.0380e+00,  ...,  4.0265e-01,\n",
      "           9.1004e-01,  4.0307e-01],\n",
      "         [ 3.8117e-02, -2.5835e-02, -6.2493e-02,  ...,  4.2225e-02,\n",
      "           5.3512e-04,  4.5066e-02],\n",
      "         [ 1.2315e-01, -1.5480e-02, -9.7847e-02,  ..., -1.0177e-02,\n",
      "          -8.9634e-03,  4.7679e-02],\n",
      "         ...,\n",
      "         [ 6.1266e-02, -7.6702e-02,  2.5235e-02,  ...,  4.1833e-02,\n",
      "           8.7784e-02,  1.0773e-02],\n",
      "         [ 5.3760e-02, -3.1237e-02, -2.5576e-02,  ..., -6.0928e-02,\n",
      "          -1.7159e-02,  3.3625e-02],\n",
      "         [ 6.6536e-03, -3.4472e-02, -4.4706e-02,  ..., -2.7383e-02,\n",
      "          -2.6666e-02,  1.4461e-02]]], grad_fn=<AddBackward0>), tensor([[[ 0.2181, -0.3543,  1.0459,  ...,  0.3998,  0.9639,  0.3820],\n",
      "         [ 0.1248, -0.0034, -0.0538,  ...,  0.0424, -0.1053,  0.0639],\n",
      "         [ 0.1018,  0.0812, -0.0977,  ...,  0.0871, -0.0995,  0.0417],\n",
      "         ...,\n",
      "         [ 0.0511,  0.0291,  0.0552,  ...,  0.0429, -0.0289, -0.0273],\n",
      "         [-0.0583, -0.0084, -0.0540,  ..., -0.0431,  0.0261,  0.0800],\n",
      "         [-0.0361, -0.0213, -0.0048,  ...,  0.0064, -0.0845,  0.0257]]],\n",
      "       grad_fn=<AddBackward0>), tensor([[[ 0.2205, -0.3596,  1.0412,  ...,  0.3985,  0.9957,  0.3721],\n",
      "         [ 0.0752, -0.0011, -0.0902,  ...,  0.0110, -0.1425,  0.0816],\n",
      "         [ 0.1156,  0.0706, -0.1377,  ...,  0.0802, -0.1095,  0.1438],\n",
      "         ...,\n",
      "         [ 0.0418,  0.0622,  0.0436,  ..., -0.0621, -0.0265, -0.0308],\n",
      "         [-0.0014,  0.0326, -0.0033,  ...,  0.0737,  0.0824,  0.0528],\n",
      "         [ 0.0184,  0.0040, -0.0011,  ...,  0.0679, -0.0405,  0.0200]]],\n",
      "       grad_fn=<AddBackward0>), tensor([[[ 2.5594e-01, -3.4723e-01,  1.0691e+00,  ...,  4.2737e-01,\n",
      "           9.5196e-01,  3.8152e-01],\n",
      "         [ 7.8831e-02, -8.1075e-02, -8.2132e-02,  ...,  1.1383e-02,\n",
      "          -1.6770e-01,  4.2774e-02],\n",
      "         [-9.1894e-03,  7.1943e-02, -1.6981e-01,  ..., -6.8023e-04,\n",
      "          -1.4677e-01,  1.2365e-01],\n",
      "         ...,\n",
      "         [ 3.4266e-02,  1.0242e-02,  7.8811e-02,  ..., -4.7803e-02,\n",
      "          -1.0349e-01, -3.8772e-02],\n",
      "         [-2.8316e-02, -1.0437e-01,  8.9047e-03,  ..., -4.5793e-02,\n",
      "           1.0094e-01,  4.4377e-02],\n",
      "         [ 5.3167e-02, -1.3712e-01, -5.3255e-02,  ...,  6.9335e-02,\n",
      "          -1.1794e-02,  9.6399e-03]]], grad_fn=<AddBackward0>), tensor([[[ 0.2254, -0.2942,  1.0759,  ...,  0.4203,  0.9925,  0.3384],\n",
      "         [ 0.0147,  0.0053, -0.0524,  ...,  0.0391, -0.1152,  0.0676],\n",
      "         [-0.0218, -0.0013, -0.1686,  ...,  0.0427, -0.0666,  0.1587],\n",
      "         ...,\n",
      "         [ 0.0531, -0.1214,  0.1186,  ...,  0.0139,  0.0341, -0.0242],\n",
      "         [-0.0940, -0.1272,  0.0161,  ...,  0.0758,  0.0315,  0.0907],\n",
      "         [ 0.0531, -0.0295, -0.0395,  ...,  0.1099, -0.0395,  0.0690]]],\n",
      "       grad_fn=<AddBackward0>), tensor([[[ 0.2090, -0.2567,  1.0573,  ...,  0.4162,  1.0264,  0.3742],\n",
      "         [ 0.0014,  0.0375, -0.0165,  ...,  0.0182, -0.1898,  0.0792],\n",
      "         [ 0.0053,  0.0715, -0.1568,  ..., -0.0522, -0.1460,  0.1044],\n",
      "         ...,\n",
      "         [ 0.1092, -0.0566,  0.1289,  ...,  0.0176,  0.0056, -0.0345],\n",
      "         [ 0.0018,  0.0115,  0.0417,  ...,  0.0479, -0.0822, -0.0924],\n",
      "         [ 0.1301,  0.0561,  0.0027,  ...,  0.1306, -0.0653, -0.0449]]],\n",
      "       grad_fn=<AddBackward0>), tensor([[[ 0.2278, -0.1952,  1.0512,  ...,  0.4470,  0.9027,  0.4017],\n",
      "         [ 0.0192, -0.0385,  0.0069,  ..., -0.0078, -0.1485,  0.0662],\n",
      "         [ 0.0314, -0.0270, -0.1381,  ..., -0.0734, -0.0647,  0.0697],\n",
      "         ...,\n",
      "         [ 0.1189, -0.1298,  0.1344,  ...,  0.0232, -0.0916,  0.0319],\n",
      "         [-0.0570, -0.0595,  0.0556,  ..., -0.0140, -0.0858,  0.0263],\n",
      "         [-0.0674,  0.0964, -0.0318,  ...,  0.0424, -0.0314, -0.0220]]],\n",
      "       grad_fn=<AddBackward0>), tensor([[[ 0.2289, -0.1673,  0.9565,  ...,  0.4329,  0.8266,  0.4639],\n",
      "         [-0.0105, -0.1134,  0.1365,  ..., -0.0541, -0.0824,  0.1321],\n",
      "         [-0.0802, -0.0795, -0.0025,  ...,  0.0370, -0.0670,  0.0530],\n",
      "         ...,\n",
      "         [ 0.0063, -0.1798,  0.1513,  ...,  0.0562, -0.1484, -0.0625],\n",
      "         [-0.0783,  0.0207,  0.0560,  ..., -0.0967, -0.0747, -0.0233],\n",
      "         [-0.0931,  0.0285, -0.0224,  ..., -0.0423, -0.0381, -0.1626]]],\n",
      "       grad_fn=<AddBackward0>), tensor([[[ 0.1367, -0.1160,  0.9267,  ...,  0.4339,  0.7350,  0.5163],\n",
      "         [ 0.0852, -0.0824,  0.1441,  ..., -0.1097, -0.1118,  0.1346],\n",
      "         [-0.0559, -0.0050,  0.0687,  ...,  0.1086, -0.1638, -0.0896],\n",
      "         ...,\n",
      "         [ 0.0556, -0.1056,  0.1539,  ...,  0.1058, -0.0909, -0.2150],\n",
      "         [-0.1411,  0.0519,  0.0446,  ...,  0.0104,  0.0062, -0.0374],\n",
      "         [-0.1101,  0.0684,  0.0393,  ...,  0.1060,  0.0463, -0.0165]]],\n",
      "       grad_fn=<AddBackward0>), tensor([[[ 0.1000, -0.0806,  0.8457,  ...,  0.5050,  0.6346,  0.5210],\n",
      "         [-0.0612, -0.1708,  0.1677,  ...,  0.0950, -0.0022,  0.2217],\n",
      "         [-0.1396, -0.0672,  0.0726,  ...,  0.0979,  0.0616, -0.0619],\n",
      "         ...,\n",
      "         [ 0.0967, -0.1604,  0.2144,  ..., -0.0084, -0.1465, -0.1621],\n",
      "         [-0.2087, -0.0144,  0.0855,  ...,  0.0203,  0.1238, -0.0990],\n",
      "         [-0.2386,  0.0448,  0.0281,  ..., -0.0024,  0.0444, -0.0673]]],\n",
      "       grad_fn=<AddBackward0>), tensor([[[ 0.0779, -0.0740,  0.7980,  ...,  0.5455,  0.5763,  0.4882],\n",
      "         [ 0.1050, -0.1898,  0.2719,  ...,  0.1877, -0.3280,  0.1371],\n",
      "         [ 0.0124, -0.1232,  0.1257,  ...,  0.1019, -0.0549, -0.2598],\n",
      "         ...,\n",
      "         [ 0.1691, -0.2134,  0.3172,  ..., -0.0257, -0.2449, -0.2400],\n",
      "         [-0.1365, -0.1019,  0.1883,  ..., -0.0553,  0.2071, -0.1464],\n",
      "         [-0.2457,  0.0464,  0.1025,  ..., -0.0405,  0.0299,  0.0826]]],\n",
      "       grad_fn=<AddBackward0>), tensor([[[ 0.0693, -0.1014,  0.7789,  ...,  0.4804,  0.5241,  0.5129],\n",
      "         [ 0.0632, -0.1983,  0.2451,  ...,  0.1579, -0.1090,  0.2030],\n",
      "         [-0.0535, -0.0690,  0.2409,  ...,  0.1007,  0.0357, -0.2093],\n",
      "         ...,\n",
      "         [ 0.1729, -0.2332,  0.3721,  ...,  0.1327, -0.1892, -0.2309],\n",
      "         [-0.0828, -0.0229,  0.2296,  ...,  0.0423,  0.1767,  0.0552],\n",
      "         [-0.1014,  0.0376,  0.1407,  ..., -0.0595,  0.0454,  0.2012]]],\n",
      "       grad_fn=<AddBackward0>), tensor([[[-1.1520e-01, -1.6206e-01,  6.6590e-01,  ...,  6.0467e-01,\n",
      "           4.2825e-01,  1.0738e+00],\n",
      "         [ 5.5763e-02, -3.1566e-01,  2.3892e-01,  ..., -1.9324e-02,\n",
      "          -1.1109e-01,  4.0437e-01],\n",
      "         [ 8.3338e-02, -8.9437e-03,  3.1526e-01,  ..., -1.1619e-01,\n",
      "           7.1955e-04, -3.1694e-01],\n",
      "         ...,\n",
      "         [ 2.7120e-01, -1.8645e-01,  4.3611e-01,  ...,  1.3468e-02,\n",
      "          -2.0112e-01, -2.2011e-01],\n",
      "         [-1.8615e-01,  6.5487e-02,  2.1318e-01,  ...,  1.0925e-01,\n",
      "           2.3611e-01,  1.6541e-01],\n",
      "         [-8.0751e-02, -7.6564e-03,  1.2436e-01,  ..., -8.0046e-02,\n",
      "           1.6317e-02,  1.5268e-01]]], grad_fn=<AddBackward0>), tensor([[[-0.3707, -1.0131,  0.6679,  ...,  2.6773, -1.0951,  2.9024],\n",
      "         [ 0.1199, -0.3353,  0.3750,  ...,  0.0484, -0.2627,  0.3283],\n",
      "         [ 0.0591,  0.0878,  0.4381,  ..., -0.1516,  0.0599, -0.4623],\n",
      "         ...,\n",
      "         [ 0.3060, -0.1083,  0.5935,  ..., -0.0284, -0.1247, -0.3915],\n",
      "         [-0.0536,  0.4488,  0.3785,  ...,  0.1251,  0.2222,  0.1003],\n",
      "         [-0.0525,  0.0106,  0.4997,  ...,  0.0326, -0.0358, -0.1820]]],\n",
      "       grad_fn=<AddBackward0>), tensor([[[ 1.5497, -1.5041,  2.7453,  ..., -0.6332,  0.6005, -1.0105],\n",
      "         [ 1.1252,  1.1726,  2.4338,  ..., -3.5093, -5.7870,  2.5837],\n",
      "         [ 1.1425,  3.4667,  2.0797,  ..., -4.5215, -4.1725, -0.2317],\n",
      "         ...,\n",
      "         [ 2.0055,  2.2405,  2.8306,  ..., -4.2340, -3.9496, -0.3167],\n",
      "         [ 0.2050,  4.6732,  2.6992,  ..., -2.2607, -2.0595,  0.7706],\n",
      "         [ 0.9288,  2.7651,  2.7964,  ..., -5.0561, -2.9116,  1.3401]]],\n",
      "       grad_fn=<MulBackward0>))\n"
     ]
    }
   ],
   "execution_count": 65
  },
  {
   "metadata": {
    "ExecuteTime": {
     "end_time": "2024-11-19T12:44:39.260044Z",
     "start_time": "2024-11-19T12:44:39.258017Z"
    }
   },
   "cell_type": "code",
   "source": "print(len(out.attentions))",
   "id": "5400d367a7a9faa2",
   "outputs": [
    {
     "name": "stdout",
     "output_type": "stream",
     "text": [
      "16\n"
     ]
    }
   ],
   "execution_count": 68
  },
  {
   "metadata": {
    "ExecuteTime": {
     "end_time": "2024-11-19T12:46:47.367977Z",
     "start_time": "2024-11-19T12:46:47.365913Z"
    }
   },
   "cell_type": "code",
   "source": "print(out.attentions[2].shape)",
   "id": "e8d006b2099e39cb",
   "outputs": [
    {
     "name": "stdout",
     "output_type": "stream",
     "text": [
      "torch.Size([1, 32, 8, 8])\n"
     ]
    }
   ],
   "execution_count": 75
  },
  {
   "metadata": {
    "ExecuteTime": {
     "end_time": "2024-11-19T13:14:49.130876Z",
     "start_time": "2024-11-19T13:14:49.003003Z"
    }
   },
   "cell_type": "code",
   "source": [
    "import matplotlib.pyplot as plt\n",
    "# show the scores\n",
    "\n",
    "plt.imshow(out.attentions[0][0].squeeze()[12].detach().numpy())\n",
    "plt.show()\n"
   ],
   "id": "ce8652c544ad7f6a",
   "outputs": [
    {
     "data": {
      "text/plain": [
       "<Figure size 640x480 with 1 Axes>"
      ],
      "image/png": "[encoded data removed]"
     },
     "metadata": {},
     "output_type": "display_data"
    }
   ],
   "execution_count": 96
  },
  {
   "metadata": {
    "ExecuteTime": {
     "end_time": "2024-11-19T12:52:42.770398Z",
     "start_time": "2024-11-19T12:52:42.768349Z"
    }
   },
   "cell_type": "code",
   "source": "print(llama_1b.model.layers[0].self_attn.num_heads)",
   "id": "f4d8b8b301df8fdd",
   "outputs": [
    {
     "name": "stdout",
     "output_type": "stream",
     "text": [
      "32\n"
     ]
    }
   ],
   "execution_count": 81
  },
  {
   "metadata": {
    "ExecuteTime": {
     "end_time": "2024-11-19T12:55:46.687017Z",
     "start_time": "2024-11-19T12:55:46.570755Z"
    }
   },
   "cell_type": "code",
   "source": [
    "from transformers import AutoConfig\n",
    "config = AutoConfig.from_pretrained(\"meta-llama/llama-3.2-1B\")"
   ],
   "id": "46c99c936dfd3dee",
   "outputs": [],
   "execution_count": 82
  },
  {
   "metadata": {
    "ExecuteTime": {
     "end_time": "2024-11-19T13:16:13.776405Z",
     "start_time": "2024-11-19T13:16:13.774556Z"
    }
   },
   "cell_type": "code",
   "source": "print(llama_1b.training)",
   "id": "2f466a062f388d01",
   "outputs": [
    {
     "name": "stdout",
     "output_type": "stream",
     "text": [
      "False\n"
     ]
    }
   ],
   "execution_count": 97
  },
  {
   "metadata": {
    "ExecuteTime": {
     "end_time": "2024-11-19T12:55:48.356334Z",
     "start_time": "2024-11-19T12:55:48.352887Z"
    }
   },
   "cell_type": "code",
   "source": "config",
   "id": "8a9ecdacb3af218a",
   "outputs": [
    {
     "data": {
      "text/plain": [
       "LlamaConfig {\n",
       "  \"_name_or_path\": \"meta-llama/llama-3.2-1B\",\n",
       "  \"architectures\": [\n",
       "    \"LlamaForCausalLM\"\n",
       "  ],\n",
       "  \"attention_bias\": false,\n",
       "  \"attention_dropout\": 0.0,\n",
       "  \"bos_token_id\": 128000,\n",
       "  \"eos_token_id\": 128001,\n",
       "  \"head_dim\": 64,\n",
       "  \"hidden_act\": \"silu\",\n",
       "  \"hidden_size\": 2048,\n",
       "  \"initializer_range\": 0.02,\n",
       "  \"intermediate_size\": 8192,\n",
       "  \"max_position_embeddings\": 131072,\n",
       "  \"mlp_bias\": false,\n",
       "  \"model_type\": \"llama\",\n",
       "  \"num_attention_heads\": 32,\n",
       "  \"num_hidden_layers\": 16,\n",
       "  \"num_key_value_heads\": 8,\n",
       "  \"pretraining_tp\": 1,\n",
       "  \"rms_norm_eps\": 1e-05,\n",
       "  \"rope_scaling\": {\n",
       "    \"factor\": 32.0,\n",
       "    \"high_freq_factor\": 4.0,\n",
       "    \"low_freq_factor\": 1.0,\n",
       "    \"original_max_position_embeddings\": 8192,\n",
       "    \"rope_type\": \"llama3\"\n",
       "  },\n",
       "  \"rope_theta\": 500000.0,\n",
       "  \"tie_word_embeddings\": true,\n",
       "  \"torch_dtype\": \"bfloat16\",\n",
       "  \"transformers_version\": \"4.46.3\",\n",
       "  \"use_cache\": true,\n",
       "  \"vocab_size\": 128256\n",
       "}"
      ]
     },
     "execution_count": 83,
     "metadata": {},
     "output_type": "execute_result"
    }
   ],
   "execution_count": 83
  },
  {
   "metadata": {
    "ExecuteTime": {
     "end_time": "2024-11-19T13:02:32.240702Z",
     "start_time": "2024-11-19T13:02:32.237621Z"
    }
   },
   "cell_type": "code",
   "source": "llama_1b.config",
   "id": "2946cb39b750bd3b",
   "outputs": [
    {
     "data": {
      "text/plain": [
       "LlamaConfig {\n",
       "  \"_attn_implementation_autoset\": true,\n",
       "  \"_name_or_path\": \"models/meta-llama/llama-3.2-1B\",\n",
       "  \"architectures\": [\n",
       "    \"LlamaForCausalLM\"\n",
       "  ],\n",
       "  \"attention_bias\": false,\n",
       "  \"attention_dropout\": 0.0,\n",
       "  \"bos_token_id\": 128000,\n",
       "  \"eos_token_id\": 128001,\n",
       "  \"head_dim\": 64,\n",
       "  \"hidden_act\": \"silu\",\n",
       "  \"hidden_size\": 2048,\n",
       "  \"initializer_range\": 0.02,\n",
       "  \"intermediate_size\": 8192,\n",
       "  \"max_position_embeddings\": 131072,\n",
       "  \"mlp_bias\": false,\n",
       "  \"model_type\": \"llama\",\n",
       "  \"num_attention_heads\": 32,\n",
       "  \"num_hidden_layers\": 16,\n",
       "  \"num_key_value_heads\": 8,\n",
       "  \"pretraining_tp\": 1,\n",
       "  \"rms_norm_eps\": 1e-05,\n",
       "  \"rope_scaling\": {\n",
       "    \"factor\": 32.0,\n",
       "    \"high_freq_factor\": 4.0,\n",
       "    \"low_freq_factor\": 1.0,\n",
       "    \"original_max_position_embeddings\": 8192,\n",
       "    \"rope_type\": \"llama3\"\n",
       "  },\n",
       "  \"rope_theta\": 500000.0,\n",
       "  \"tie_word_embeddings\": true,\n",
       "  \"torch_dtype\": \"float32\",\n",
       "  \"transformers_version\": \"4.46.3\",\n",
       "  \"use_cache\": true,\n",
       "  \"vocab_size\": 128256\n",
       "}"
      ]
     },
     "execution_count": 84,
     "metadata": {},
     "output_type": "execute_result"
    }
   ],
   "execution_count": 84
  },
  {
   "metadata": {
    "ExecuteTime": {
     "end_time": "2024-11-19T19:50:43.607563Z",
     "start_time": "2024-11-19T19:50:43.573348Z"
    }
   },
   "cell_type": "code",
   "source": "llama_1b_truncated = AutoModelForCausalLM.from_pretrained(\"models/meta-llama/llama-3.2-1B\")",
   "id": "759d2eca55b2372d",
   "outputs": [],
   "execution_count": 117
  },
  {
   "metadata": {
    "ExecuteTime": {
     "end_time": "2024-11-19T19:52:02.479463Z",
     "start_time": "2024-11-19T19:52:02.476437Z"
    }
   },
   "cell_type": "code",
   "source": "llama_1b_truncated.model.layers = llama_1b_truncated.model.layers[10:]",
   "id": "55de5c281f8f50b7",
   "outputs": [],
   "execution_count": 120
  },
  {
   "metadata": {
    "ExecuteTime": {
     "end_time": "2024-11-19T19:52:08.804513Z",
     "start_time": "2024-11-19T19:52:08.801203Z"
    }
   },
   "cell_type": "code",
   "source": "llama_1b_truncated.model",
   "id": "93ace3d2e8d459db",
   "outputs": [
    {
     "data": {
      "text/plain": [
       "LlamaModel(\n",
       "  (embed_tokens): Embedding(128256, 2048)\n",
       "  (layers): ModuleList(\n",
       "    (0-5): 6 x LlamaDecoderLayer(\n",
       "      (self_attn): LlamaSdpaAttention(\n",
       "        (q_proj): Linear(in_features=2048, out_features=2048, bias=False)\n",
       "        (k_proj): Linear(in_features=2048, out_features=512, bias=False)\n",
       "        (v_proj): Linear(in_features=2048, out_features=512, bias=False)\n",
       "        (o_proj): Linear(in_features=2048, out_features=2048, bias=False)\n",
       "        (rotary_emb): LlamaRotaryEmbedding()\n",
       "      )\n",
       "      (mlp): LlamaMLP(\n",
       "        (gate_proj): Linear(in_features=2048, out_features=8192, bias=False)\n",
       "        (up_proj): Linear(in_features=2048, out_features=8192, bias=False)\n",
       "        (down_proj): Linear(in_features=8192, out_features=2048, bias=False)\n",
       "        (act_fn): SiLU()\n",
       "      )\n",
       "      (input_layernorm): LlamaRMSNorm((2048,), eps=1e-05)\n",
       "      (post_attention_layernorm): LlamaRMSNorm((2048,), eps=1e-05)\n",
       "    )\n",
       "  )\n",
       "  (norm): LlamaRMSNorm((2048,), eps=1e-05)\n",
       "  (rotary_emb): LlamaRotaryEmbedding()\n",
       ")"
      ]
     },
     "execution_count": 121,
     "metadata": {},
     "output_type": "execute_result"
    }
   ],
   "execution_count": 121
  },
  {
   "metadata": {
    "ExecuteTime": {
     "end_time": "2024-11-19T21:21:01.827108Z",
     "start_time": "2024-11-19T21:21:01.694744Z"
    }
   },
   "cell_type": "code",
   "source": "llama_out = llama_1b(tokenized_string[\"input_ids\"], output_hidden_states=False)",
   "id": "b932822283414bdc",
   "outputs": [],
   "execution_count": 216
  },
  {
   "metadata": {
    "ExecuteTime": {
     "end_time": "2024-11-19T21:21:02.278774Z",
     "start_time": "2024-11-19T21:21:02.275368Z"
    }
   },
   "cell_type": "code",
   "source": [
    "\n",
    "token_ids = torch.argmax(llama_out.logits, dim=-1)\n",
    "print(token_ids)\n",
    "print(tokenizer.decode(token_ids[0]))\n"
   ],
   "id": "3ebde3732ebbff0c",
   "outputs": [
    {
     "name": "stdout",
     "output_type": "stream",
     "text": [
      "tensor([[14924,   374,   279,  6864,   315,   279,    30,  2209]])\n",
      "Question is the capital of the? Is\n"
     ]
    }
   ],
   "execution_count": 217
  },
  {
   "metadata": {
    "ExecuteTime": {
     "end_time": "2024-11-19T21:21:08.697779Z",
     "start_time": "2024-11-19T21:21:08.630847Z"
    }
   },
   "cell_type": "code",
   "source": "a = llama_1b_truncated(inputs_embeds=out.hidden_states[10])",
   "id": "2186b4d497ce22c9",
   "outputs": [],
   "execution_count": 218
  },
  {
   "metadata": {
    "ExecuteTime": {
     "end_time": "2024-11-19T21:21:09.136125Z",
     "start_time": "2024-11-19T21:21:09.127195Z"
    }
   },
   "cell_type": "code",
   "source": "a.",
   "id": "49d7b9db7e94cbad",
   "outputs": [
    {
     "ename": "AttributeError",
     "evalue": "'CausalLMOutputWithPast' object has no attribute 'detach'",
     "output_type": "error",
     "traceback": [
      "\u001B[0;31m---------------------------------------------------------------------------\u001B[0m",
      "\u001B[0;31mAttributeError\u001B[0m                            Traceback (most recent call last)",
      "Cell \u001B[0;32mIn[219], line 1\u001B[0m\n\u001B[0;32m----> 1\u001B[0m \u001B[43ma\u001B[49m\u001B[38;5;241;43m.\u001B[39;49m\u001B[43mdetach\u001B[49m()\u001B[38;5;241m.\u001B[39mnumpy()\n",
      "\u001B[0;31mAttributeError\u001B[0m: 'CausalLMOutputWithPast' object has no attribute 'detach'"
     ]
    }
   ],
   "execution_count": 219
  },
  {
   "metadata": {
    "ExecuteTime": {
     "end_time": "2024-11-19T20:02:45.250496Z",
     "start_time": "2024-11-19T20:02:45.247764Z"
    }
   },
   "cell_type": "code",
   "source": "print((a.logits - llama_out.logits))",
   "id": "5dde69f6b0f13ef",
   "outputs": [
    {
     "name": "stdout",
     "output_type": "stream",
     "text": [
      "tensor([[[0., 0., 0.,  ..., 0., 0., 0.],\n",
      "         [0., 0., 0.,  ..., 0., 0., 0.],\n",
      "         [0., 0., 0.,  ..., 0., 0., 0.],\n",
      "         ...,\n",
      "         [0., 0., 0.,  ..., 0., 0., 0.],\n",
      "         [0., 0., 0.,  ..., 0., 0., 0.],\n",
      "         [0., 0., 0.,  ..., 0., 0., 0.]]], grad_fn=<SubBackward0>)\n"
     ]
    }
   ],
   "execution_count": 178
  },
  {
   "metadata": {
    "ExecuteTime": {
     "end_time": "2024-11-19T20:00:03.109554Z",
     "start_time": "2024-11-19T20:00:03.107915Z"
    }
   },
   "cell_type": "code",
   "source": "import torch",
   "id": "53e158b0be98d5ef",
   "outputs": [],
   "execution_count": 159
  },
  {
   "metadata": {
    "ExecuteTime": {
     "end_time": "2024-11-19T20:00:03.292702Z",
     "start_time": "2024-11-19T20:00:03.289983Z"
    }
   },
   "cell_type": "code",
   "source": [
    "print(a.logits.shape)\n",
    "token_ids = torch.argmax(a.logits, dim=-1)"
   ],
   "id": "84c2209c23849791",
   "outputs": [
    {
     "name": "stdout",
     "output_type": "stream",
     "text": [
      "torch.Size([1, 8, 128256])\n"
     ]
    }
   ],
   "execution_count": 160
  },
  {
   "metadata": {
    "ExecuteTime": {
     "end_time": "2024-11-19T20:00:03.467411Z",
     "start_time": "2024-11-19T20:00:03.465076Z"
    }
   },
   "cell_type": "code",
   "source": "print(token_ids)",
   "id": "52661170234c84c4",
   "outputs": [
    {
     "name": "stdout",
     "output_type": "stream",
     "text": [
      "tensor([[14924,   374,   279,  6864,   315,   279,    30,  2209]])\n"
     ]
    }
   ],
   "execution_count": 161
  },
  {
   "metadata": {
    "ExecuteTime": {
     "end_time": "2024-11-19T20:00:03.631686Z",
     "start_time": "2024-11-19T20:00:03.629750Z"
    }
   },
   "cell_type": "code",
   "source": "a_decoded = tokenizer.decode(token_ids[0])",
   "id": "8a99398bae689e45",
   "outputs": [],
   "execution_count": 162
  },
  {
   "metadata": {},
   "cell_type": "code",
   "outputs": [],
   "execution_count": null,
   "source": " 374,    279,   7438,    315,   2324,     30])",
   "id": "e39e5e0b3dd8a551"
  },
  {
   "metadata": {
    "ExecuteTime": {
     "end_time": "2024-11-19T20:57:22.834467Z",
     "start_time": "2024-11-19T20:57:22.831258Z"
    }
   },
   "cell_type": "code",
   "source": "tokenizer.decode([128000,   3923, 374,])",
   "id": "5c6292edce9920d9",
   "outputs": [
    {
     "data": {
      "text/plain": [
       "'<|begin_of_text|>What is'"
      ]
     },
     "execution_count": 186,
     "metadata": {},
     "output_type": "execute_result"
    }
   ],
   "execution_count": 186
  },
  {
   "metadata": {
    "ExecuteTime": {
     "end_time": "2024-11-19T20:00:03.802617Z",
     "start_time": "2024-11-19T20:00:03.800045Z"
    }
   },
   "cell_type": "code",
   "source": "a_decoded",
   "id": "584b698733a3f3a1",
   "outputs": [
    {
     "data": {
      "text/plain": [
       "'Question is the capital of the? Is'"
      ]
     },
     "execution_count": 163,
     "metadata": {},
     "output_type": "execute_result"
    }
   ],
   "execution_count": 163
  },
  {
   "metadata": {
    "ExecuteTime": {
     "end_time": "2024-11-19T21:07:54.681163Z",
     "start_time": "2024-11-19T21:07:53.720431Z"
    }
   },
   "cell_type": "code",
   "source": [
    "from datasets import load_from_disk\n",
    "wikitext2 = load_from_disk(\"data/wikitext-2\")\n",
    "wikitext2_train = wikitext2[\"train\"]"
   ],
   "id": "5e338592edabc00e",
   "outputs": [
    {
     "name": "stderr",
     "output_type": "stream",
     "text": [
      "huggingface/tokenizers: The current process just got forked, after parallelism has already been used. Disabling parallelism to avoid deadlocks...\n",
      "To disable this warning, you can either:\n",
      "\t- Avoid using `tokenizers` before the fork if possible\n",
      "\t- Explicitly set the environment variable TOKENIZERS_PARALLELISM=(true | false)\n"
     ]
    }
   ],
   "execution_count": 187
  },
  {
   "metadata": {
    "ExecuteTime": {
     "end_time": "2024-11-19T21:12:13.349866Z",
     "start_time": "2024-11-19T21:12:13.316989Z"
    }
   },
   "cell_type": "code",
   "source": "wikitext2_train['text'].__class__",
   "id": "e689724fe37d622a",
   "outputs": [
    {
     "data": {
      "text/plain": [
       "list"
      ]
     },
     "execution_count": 199,
     "metadata": {},
     "output_type": "execute_result"
    }
   ],
   "execution_count": 199
  },
  {
   "metadata": {
    "ExecuteTime": {
     "end_time": "2024-11-19T21:12:26.901313Z",
     "start_time": "2024-11-19T21:12:26.872716Z"
    }
   },
   "cell_type": "code",
   "source": "text_only = wikitext2_train['text']",
   "id": "a5d88df1a017aa3e",
   "outputs": [],
   "execution_count": 200
  },
  {
   "metadata": {
    "ExecuteTime": {
     "end_time": "2024-11-19T21:13:15.552305Z",
     "start_time": "2024-11-19T21:13:12.195979Z"
    }
   },
   "cell_type": "code",
   "source": "tokenized_text = [tokenizer(item, return_tensors=\"pt\") for item in text_only]",
   "id": "46d1e2b9dc396320",
   "outputs": [],
   "execution_count": 203
  },
  {
   "metadata": {
    "ExecuteTime": {
     "end_time": "2024-11-19T21:13:29.351345Z",
     "start_time": "2024-11-19T21:13:29.346973Z"
    }
   },
   "cell_type": "code",
   "source": "tokenized_text_only = [item['input_ids'] for item in tokenized_text]",
   "id": "106696587cbef55",
   "outputs": [],
   "execution_count": 205
  },
  {
   "metadata": {
    "ExecuteTime": {
     "end_time": "2024-11-19T21:14:03.626532Z",
     "start_time": "2024-11-19T21:14:03.618084Z"
    }
   },
   "cell_type": "code",
   "source": [
    "total_length = [item.shape[1] for item in tokenized_text_only]\n",
    "total_length = sum(total_length)"
   ],
   "id": "fce4241314a406b6",
   "outputs": [],
   "execution_count": 208
  },
  {
   "metadata": {
    "ExecuteTime": {
     "end_time": "2024-11-19T21:14:06.391521Z",
     "start_time": "2024-11-19T21:14:06.388667Z"
    }
   },
   "cell_type": "code",
   "source": "total_length",
   "id": "dd438388da56f097",
   "outputs": [
    {
     "data": {
      "text/plain": [
       "2471740"
      ]
     },
     "execution_count": 209,
     "metadata": {},
     "output_type": "execute_result"
    }
   ],
   "execution_count": 209
  },
  {
   "metadata": {
    "ExecuteTime": {
     "end_time": "2024-11-19T21:15:04.612179Z",
     "start_time": "2024-11-19T21:15:04.609281Z"
    }
   },
   "cell_type": "code",
   "source": "(2471740 * 20) / (1024 * 1024)",
   "id": "527e39c1aba048b3",
   "outputs": [
    {
     "data": {
      "text/plain": [
       "47.14469909667969"
      ]
     },
     "execution_count": 212,
     "metadata": {},
     "output_type": "execute_result"
    }
   ],
   "execution_count": 212
  },
  {
   "metadata": {
    "ExecuteTime": {
     "end_time": "2024-11-19T21:19:48.341561Z",
     "start_time": "2024-11-19T21:19:48.339627Z"
    }
   },
   "cell_type": "code",
   "source": "from tqdm import tqdm",
   "id": "3d2cb8c0128b0f0a",
   "outputs": [],
   "execution_count": 213
  },
  {
   "metadata": {
    "ExecuteTime": {
     "end_time": "2024-11-19T21:26:21.632971Z",
     "start_time": "2024-11-19T21:26:20.973494Z"
    }
   },
   "cell_type": "code",
   "source": "llama_3b = AutoModelForCausalLM.from_pretrained(\"models/meta-llama/llama-3.2-3B\")",
   "id": "2764754cf020ce",
   "outputs": [
    {
     "data": {
      "text/plain": [
       "Loading checkpoint shards:   0%|          | 0/3 [00:00<?, ?it/s]"
      ],
      "application/vnd.jupyter.widget-view+json": {
       "version_major": 2,
       "version_minor": 0,
       "model_id": "247bb4ac89d441718644f4ec88b21fc0"
      }
     },
     "metadata": {},
     "output_type": "display_data"
    }
   ],
   "execution_count": 229
  },
  {
   "metadata": {
    "ExecuteTime": {
     "end_time": "2024-11-19T21:43:13.283082Z",
     "start_time": "2024-11-19T21:30:11.474598Z"
    }
   },
   "cell_type": "code",
   "source": [
    "llama_1b_10_outputs = []\n",
    "llama_3b_18_outputs = []\n",
    "llama_1b.to(\"mps\")\n",
    "llama_3b.to(\"mps\")\n",
    "for i in tqdm(tokenized_text):\n",
    "    if len(i['input_ids'][0]) == 1:\n",
    "        continue\n",
    "    i.to(\"mps\")\n",
    "    output_1b = llama_1b(i[\"input_ids\"], output_hidden_states=True)\n",
    "    output_3b = llama_3b(i[\"input_ids\"], output_hidden_states=True)\n",
    "    llama_1b_10_outputs.append(output_1b.hidden_states[10].detach())\n",
    "    llama_3b_18_outputs.append(output_3b.hidden_states[18].detach())\n",
    "\n",
    "\n"
   ],
   "id": "db3760862251d99",
   "outputs": [
    {
     "name": "stderr",
     "output_type": "stream",
     "text": [
      "  4%|▍         | 1410/36718 [13:01<5:26:01,  1.80it/s]  \n"
     ]
    },
    {
     "ename": "KeyboardInterrupt",
     "evalue": "",
     "output_type": "error",
     "traceback": [
      "\u001B[0;31m---------------------------------------------------------------------------\u001B[0m",
      "\u001B[0;31mKeyboardInterrupt\u001B[0m                         Traceback (most recent call last)",
      "Cell \u001B[0;32mIn[236], line 10\u001B[0m\n\u001B[1;32m      8\u001B[0m i\u001B[38;5;241m.\u001B[39mto(\u001B[38;5;124m\"\u001B[39m\u001B[38;5;124mmps\u001B[39m\u001B[38;5;124m\"\u001B[39m)\n\u001B[1;32m      9\u001B[0m output_1b \u001B[38;5;241m=\u001B[39m llama_1b(i[\u001B[38;5;124m\"\u001B[39m\u001B[38;5;124minput_ids\u001B[39m\u001B[38;5;124m\"\u001B[39m], output_hidden_states\u001B[38;5;241m=\u001B[39m\u001B[38;5;28;01mTrue\u001B[39;00m)\n\u001B[0;32m---> 10\u001B[0m output_3b \u001B[38;5;241m=\u001B[39m \u001B[43mllama_3b\u001B[49m\u001B[43m(\u001B[49m\u001B[43mi\u001B[49m\u001B[43m[\u001B[49m\u001B[38;5;124;43m\"\u001B[39;49m\u001B[38;5;124;43minput_ids\u001B[39;49m\u001B[38;5;124;43m\"\u001B[39;49m\u001B[43m]\u001B[49m\u001B[43m,\u001B[49m\u001B[43m \u001B[49m\u001B[43moutput_hidden_states\u001B[49m\u001B[38;5;241;43m=\u001B[39;49m\u001B[38;5;28;43;01mTrue\u001B[39;49;00m\u001B[43m)\u001B[49m\n\u001B[1;32m     11\u001B[0m llama_1b_10_outputs\u001B[38;5;241m.\u001B[39mappend(output_1b\u001B[38;5;241m.\u001B[39mhidden_states[\u001B[38;5;241m10\u001B[39m]\u001B[38;5;241m.\u001B[39mdetach())\n\u001B[1;32m     12\u001B[0m llama_3b_18_outputs\u001B[38;5;241m.\u001B[39mappend(output_3b\u001B[38;5;241m.\u001B[39mhidden_states[\u001B[38;5;241m18\u001B[39m]\u001B[38;5;241m.\u001B[39mdetach())\n",
      "File \u001B[0;32m~/pycharm/MT Final/.venv/lib/python3.12/site-packages/torch/nn/modules/module.py:1736\u001B[0m, in \u001B[0;36mModule._wrapped_call_impl\u001B[0;34m(self, *args, **kwargs)\u001B[0m\n\u001B[1;32m   1734\u001B[0m     \u001B[38;5;28;01mreturn\u001B[39;00m \u001B[38;5;28mself\u001B[39m\u001B[38;5;241m.\u001B[39m_compiled_call_impl(\u001B[38;5;241m*\u001B[39margs, \u001B[38;5;241m*\u001B[39m\u001B[38;5;241m*\u001B[39mkwargs)  \u001B[38;5;66;03m# type: ignore[misc]\u001B[39;00m\n\u001B[1;32m   1735\u001B[0m \u001B[38;5;28;01melse\u001B[39;00m:\n\u001B[0;32m-> 1736\u001B[0m     \u001B[38;5;28;01mreturn\u001B[39;00m \u001B[38;5;28;43mself\u001B[39;49m\u001B[38;5;241;43m.\u001B[39;49m\u001B[43m_call_impl\u001B[49m\u001B[43m(\u001B[49m\u001B[38;5;241;43m*\u001B[39;49m\u001B[43margs\u001B[49m\u001B[43m,\u001B[49m\u001B[43m \u001B[49m\u001B[38;5;241;43m*\u001B[39;49m\u001B[38;5;241;43m*\u001B[39;49m\u001B[43mkwargs\u001B[49m\u001B[43m)\u001B[49m\n",
      "File \u001B[0;32m~/pycharm/MT Final/.venv/lib/python3.12/site-packages/torch/nn/modules/module.py:1747\u001B[0m, in \u001B[0;36mModule._call_impl\u001B[0;34m(self, *args, **kwargs)\u001B[0m\n\u001B[1;32m   1742\u001B[0m \u001B[38;5;66;03m# If we don't have any hooks, we want to skip the rest of the logic in\u001B[39;00m\n\u001B[1;32m   1743\u001B[0m \u001B[38;5;66;03m# this function, and just call forward.\u001B[39;00m\n\u001B[1;32m   1744\u001B[0m \u001B[38;5;28;01mif\u001B[39;00m \u001B[38;5;129;01mnot\u001B[39;00m (\u001B[38;5;28mself\u001B[39m\u001B[38;5;241m.\u001B[39m_backward_hooks \u001B[38;5;129;01mor\u001B[39;00m \u001B[38;5;28mself\u001B[39m\u001B[38;5;241m.\u001B[39m_backward_pre_hooks \u001B[38;5;129;01mor\u001B[39;00m \u001B[38;5;28mself\u001B[39m\u001B[38;5;241m.\u001B[39m_forward_hooks \u001B[38;5;129;01mor\u001B[39;00m \u001B[38;5;28mself\u001B[39m\u001B[38;5;241m.\u001B[39m_forward_pre_hooks\n\u001B[1;32m   1745\u001B[0m         \u001B[38;5;129;01mor\u001B[39;00m _global_backward_pre_hooks \u001B[38;5;129;01mor\u001B[39;00m _global_backward_hooks\n\u001B[1;32m   1746\u001B[0m         \u001B[38;5;129;01mor\u001B[39;00m _global_forward_hooks \u001B[38;5;129;01mor\u001B[39;00m _global_forward_pre_hooks):\n\u001B[0;32m-> 1747\u001B[0m     \u001B[38;5;28;01mreturn\u001B[39;00m \u001B[43mforward_call\u001B[49m\u001B[43m(\u001B[49m\u001B[38;5;241;43m*\u001B[39;49m\u001B[43margs\u001B[49m\u001B[43m,\u001B[49m\u001B[43m \u001B[49m\u001B[38;5;241;43m*\u001B[39;49m\u001B[38;5;241;43m*\u001B[39;49m\u001B[43mkwargs\u001B[49m\u001B[43m)\u001B[49m\n\u001B[1;32m   1749\u001B[0m result \u001B[38;5;241m=\u001B[39m \u001B[38;5;28;01mNone\u001B[39;00m\n\u001B[1;32m   1750\u001B[0m called_always_called_hooks \u001B[38;5;241m=\u001B[39m \u001B[38;5;28mset\u001B[39m()\n",
      "File \u001B[0;32m~/pycharm/MT Final/.venv/lib/python3.12/site-packages/transformers/models/llama/modeling_llama.py:1190\u001B[0m, in \u001B[0;36mLlamaForCausalLM.forward\u001B[0;34m(self, input_ids, attention_mask, position_ids, past_key_values, inputs_embeds, labels, use_cache, output_attentions, output_hidden_states, return_dict, cache_position, num_logits_to_keep, **loss_kwargs)\u001B[0m\n\u001B[1;32m   1187\u001B[0m return_dict \u001B[38;5;241m=\u001B[39m return_dict \u001B[38;5;28;01mif\u001B[39;00m return_dict \u001B[38;5;129;01mis\u001B[39;00m \u001B[38;5;129;01mnot\u001B[39;00m \u001B[38;5;28;01mNone\u001B[39;00m \u001B[38;5;28;01melse\u001B[39;00m \u001B[38;5;28mself\u001B[39m\u001B[38;5;241m.\u001B[39mconfig\u001B[38;5;241m.\u001B[39muse_return_dict\n\u001B[1;32m   1189\u001B[0m \u001B[38;5;66;03m# decoder outputs consists of (dec_features, layer_state, dec_hidden, dec_attn)\u001B[39;00m\n\u001B[0;32m-> 1190\u001B[0m outputs \u001B[38;5;241m=\u001B[39m \u001B[38;5;28;43mself\u001B[39;49m\u001B[38;5;241;43m.\u001B[39;49m\u001B[43mmodel\u001B[49m\u001B[43m(\u001B[49m\n\u001B[1;32m   1191\u001B[0m \u001B[43m    \u001B[49m\u001B[43minput_ids\u001B[49m\u001B[38;5;241;43m=\u001B[39;49m\u001B[43minput_ids\u001B[49m\u001B[43m,\u001B[49m\n\u001B[1;32m   1192\u001B[0m \u001B[43m    \u001B[49m\u001B[43mattention_mask\u001B[49m\u001B[38;5;241;43m=\u001B[39;49m\u001B[43mattention_mask\u001B[49m\u001B[43m,\u001B[49m\n\u001B[1;32m   1193\u001B[0m \u001B[43m    \u001B[49m\u001B[43mposition_ids\u001B[49m\u001B[38;5;241;43m=\u001B[39;49m\u001B[43mposition_ids\u001B[49m\u001B[43m,\u001B[49m\n\u001B[1;32m   1194\u001B[0m \u001B[43m    \u001B[49m\u001B[43mpast_key_values\u001B[49m\u001B[38;5;241;43m=\u001B[39;49m\u001B[43mpast_key_values\u001B[49m\u001B[43m,\u001B[49m\n\u001B[1;32m   1195\u001B[0m \u001B[43m    \u001B[49m\u001B[43minputs_embeds\u001B[49m\u001B[38;5;241;43m=\u001B[39;49m\u001B[43minputs_embeds\u001B[49m\u001B[43m,\u001B[49m\n\u001B[1;32m   1196\u001B[0m \u001B[43m    \u001B[49m\u001B[43muse_cache\u001B[49m\u001B[38;5;241;43m=\u001B[39;49m\u001B[43muse_cache\u001B[49m\u001B[43m,\u001B[49m\n\u001B[1;32m   1197\u001B[0m \u001B[43m    \u001B[49m\u001B[43moutput_attentions\u001B[49m\u001B[38;5;241;43m=\u001B[39;49m\u001B[43moutput_attentions\u001B[49m\u001B[43m,\u001B[49m\n\u001B[1;32m   1198\u001B[0m \u001B[43m    \u001B[49m\u001B[43moutput_hidden_states\u001B[49m\u001B[38;5;241;43m=\u001B[39;49m\u001B[43moutput_hidden_states\u001B[49m\u001B[43m,\u001B[49m\n\u001B[1;32m   1199\u001B[0m \u001B[43m    \u001B[49m\u001B[43mreturn_dict\u001B[49m\u001B[38;5;241;43m=\u001B[39;49m\u001B[43mreturn_dict\u001B[49m\u001B[43m,\u001B[49m\n\u001B[1;32m   1200\u001B[0m \u001B[43m    \u001B[49m\u001B[43mcache_position\u001B[49m\u001B[38;5;241;43m=\u001B[39;49m\u001B[43mcache_position\u001B[49m\u001B[43m,\u001B[49m\n\u001B[1;32m   1201\u001B[0m \u001B[43m\u001B[49m\u001B[43m)\u001B[49m\n\u001B[1;32m   1203\u001B[0m hidden_states \u001B[38;5;241m=\u001B[39m outputs[\u001B[38;5;241m0\u001B[39m]\n\u001B[1;32m   1204\u001B[0m \u001B[38;5;28;01mif\u001B[39;00m \u001B[38;5;28mself\u001B[39m\u001B[38;5;241m.\u001B[39mconfig\u001B[38;5;241m.\u001B[39mpretraining_tp \u001B[38;5;241m>\u001B[39m \u001B[38;5;241m1\u001B[39m:\n",
      "File \u001B[0;32m~/pycharm/MT Final/.venv/lib/python3.12/site-packages/torch/nn/modules/module.py:1736\u001B[0m, in \u001B[0;36mModule._wrapped_call_impl\u001B[0;34m(self, *args, **kwargs)\u001B[0m\n\u001B[1;32m   1734\u001B[0m     \u001B[38;5;28;01mreturn\u001B[39;00m \u001B[38;5;28mself\u001B[39m\u001B[38;5;241m.\u001B[39m_compiled_call_impl(\u001B[38;5;241m*\u001B[39margs, \u001B[38;5;241m*\u001B[39m\u001B[38;5;241m*\u001B[39mkwargs)  \u001B[38;5;66;03m# type: ignore[misc]\u001B[39;00m\n\u001B[1;32m   1735\u001B[0m \u001B[38;5;28;01melse\u001B[39;00m:\n\u001B[0;32m-> 1736\u001B[0m     \u001B[38;5;28;01mreturn\u001B[39;00m \u001B[38;5;28;43mself\u001B[39;49m\u001B[38;5;241;43m.\u001B[39;49m\u001B[43m_call_impl\u001B[49m\u001B[43m(\u001B[49m\u001B[38;5;241;43m*\u001B[39;49m\u001B[43margs\u001B[49m\u001B[43m,\u001B[49m\u001B[43m \u001B[49m\u001B[38;5;241;43m*\u001B[39;49m\u001B[38;5;241;43m*\u001B[39;49m\u001B[43mkwargs\u001B[49m\u001B[43m)\u001B[49m\n",
      "File \u001B[0;32m~/pycharm/MT Final/.venv/lib/python3.12/site-packages/torch/nn/modules/module.py:1747\u001B[0m, in \u001B[0;36mModule._call_impl\u001B[0;34m(self, *args, **kwargs)\u001B[0m\n\u001B[1;32m   1742\u001B[0m \u001B[38;5;66;03m# If we don't have any hooks, we want to skip the rest of the logic in\u001B[39;00m\n\u001B[1;32m   1743\u001B[0m \u001B[38;5;66;03m# this function, and just call forward.\u001B[39;00m\n\u001B[1;32m   1744\u001B[0m \u001B[38;5;28;01mif\u001B[39;00m \u001B[38;5;129;01mnot\u001B[39;00m (\u001B[38;5;28mself\u001B[39m\u001B[38;5;241m.\u001B[39m_backward_hooks \u001B[38;5;129;01mor\u001B[39;00m \u001B[38;5;28mself\u001B[39m\u001B[38;5;241m.\u001B[39m_backward_pre_hooks \u001B[38;5;129;01mor\u001B[39;00m \u001B[38;5;28mself\u001B[39m\u001B[38;5;241m.\u001B[39m_forward_hooks \u001B[38;5;129;01mor\u001B[39;00m \u001B[38;5;28mself\u001B[39m\u001B[38;5;241m.\u001B[39m_forward_pre_hooks\n\u001B[1;32m   1745\u001B[0m         \u001B[38;5;129;01mor\u001B[39;00m _global_backward_pre_hooks \u001B[38;5;129;01mor\u001B[39;00m _global_backward_hooks\n\u001B[1;32m   1746\u001B[0m         \u001B[38;5;129;01mor\u001B[39;00m _global_forward_hooks \u001B[38;5;129;01mor\u001B[39;00m _global_forward_pre_hooks):\n\u001B[0;32m-> 1747\u001B[0m     \u001B[38;5;28;01mreturn\u001B[39;00m \u001B[43mforward_call\u001B[49m\u001B[43m(\u001B[49m\u001B[38;5;241;43m*\u001B[39;49m\u001B[43margs\u001B[49m\u001B[43m,\u001B[49m\u001B[43m \u001B[49m\u001B[38;5;241;43m*\u001B[39;49m\u001B[38;5;241;43m*\u001B[39;49m\u001B[43mkwargs\u001B[49m\u001B[43m)\u001B[49m\n\u001B[1;32m   1749\u001B[0m result \u001B[38;5;241m=\u001B[39m \u001B[38;5;28;01mNone\u001B[39;00m\n\u001B[1;32m   1750\u001B[0m called_always_called_hooks \u001B[38;5;241m=\u001B[39m \u001B[38;5;28mset\u001B[39m()\n",
      "File \u001B[0;32m~/pycharm/MT Final/.venv/lib/python3.12/site-packages/transformers/models/llama/modeling_llama.py:945\u001B[0m, in \u001B[0;36mLlamaModel.forward\u001B[0;34m(self, input_ids, attention_mask, position_ids, past_key_values, inputs_embeds, use_cache, output_attentions, output_hidden_states, return_dict, cache_position)\u001B[0m\n\u001B[1;32m    933\u001B[0m     layer_outputs \u001B[38;5;241m=\u001B[39m \u001B[38;5;28mself\u001B[39m\u001B[38;5;241m.\u001B[39m_gradient_checkpointing_func(\n\u001B[1;32m    934\u001B[0m         decoder_layer\u001B[38;5;241m.\u001B[39m\u001B[38;5;21m__call__\u001B[39m,\n\u001B[1;32m    935\u001B[0m         hidden_states,\n\u001B[0;32m   (...)\u001B[0m\n\u001B[1;32m    942\u001B[0m         position_embeddings,\n\u001B[1;32m    943\u001B[0m     )\n\u001B[1;32m    944\u001B[0m \u001B[38;5;28;01melse\u001B[39;00m:\n\u001B[0;32m--> 945\u001B[0m     layer_outputs \u001B[38;5;241m=\u001B[39m \u001B[43mdecoder_layer\u001B[49m\u001B[43m(\u001B[49m\n\u001B[1;32m    946\u001B[0m \u001B[43m        \u001B[49m\u001B[43mhidden_states\u001B[49m\u001B[43m,\u001B[49m\n\u001B[1;32m    947\u001B[0m \u001B[43m        \u001B[49m\u001B[43mattention_mask\u001B[49m\u001B[38;5;241;43m=\u001B[39;49m\u001B[43mcausal_mask\u001B[49m\u001B[43m,\u001B[49m\n\u001B[1;32m    948\u001B[0m \u001B[43m        \u001B[49m\u001B[43mposition_ids\u001B[49m\u001B[38;5;241;43m=\u001B[39;49m\u001B[43mposition_ids\u001B[49m\u001B[43m,\u001B[49m\n\u001B[1;32m    949\u001B[0m \u001B[43m        \u001B[49m\u001B[43mpast_key_value\u001B[49m\u001B[38;5;241;43m=\u001B[39;49m\u001B[43mpast_key_values\u001B[49m\u001B[43m,\u001B[49m\n\u001B[1;32m    950\u001B[0m \u001B[43m        \u001B[49m\u001B[43moutput_attentions\u001B[49m\u001B[38;5;241;43m=\u001B[39;49m\u001B[43moutput_attentions\u001B[49m\u001B[43m,\u001B[49m\n\u001B[1;32m    951\u001B[0m \u001B[43m        \u001B[49m\u001B[43muse_cache\u001B[49m\u001B[38;5;241;43m=\u001B[39;49m\u001B[43muse_cache\u001B[49m\u001B[43m,\u001B[49m\n\u001B[1;32m    952\u001B[0m \u001B[43m        \u001B[49m\u001B[43mcache_position\u001B[49m\u001B[38;5;241;43m=\u001B[39;49m\u001B[43mcache_position\u001B[49m\u001B[43m,\u001B[49m\n\u001B[1;32m    953\u001B[0m \u001B[43m        \u001B[49m\u001B[43mposition_embeddings\u001B[49m\u001B[38;5;241;43m=\u001B[39;49m\u001B[43mposition_embeddings\u001B[49m\u001B[43m,\u001B[49m\n\u001B[1;32m    954\u001B[0m \u001B[43m    \u001B[49m\u001B[43m)\u001B[49m\n\u001B[1;32m    956\u001B[0m hidden_states \u001B[38;5;241m=\u001B[39m layer_outputs[\u001B[38;5;241m0\u001B[39m]\n\u001B[1;32m    958\u001B[0m \u001B[38;5;28;01mif\u001B[39;00m use_cache:\n",
      "File \u001B[0;32m~/pycharm/MT Final/.venv/lib/python3.12/site-packages/torch/nn/modules/module.py:1736\u001B[0m, in \u001B[0;36mModule._wrapped_call_impl\u001B[0;34m(self, *args, **kwargs)\u001B[0m\n\u001B[1;32m   1734\u001B[0m     \u001B[38;5;28;01mreturn\u001B[39;00m \u001B[38;5;28mself\u001B[39m\u001B[38;5;241m.\u001B[39m_compiled_call_impl(\u001B[38;5;241m*\u001B[39margs, \u001B[38;5;241m*\u001B[39m\u001B[38;5;241m*\u001B[39mkwargs)  \u001B[38;5;66;03m# type: ignore[misc]\u001B[39;00m\n\u001B[1;32m   1735\u001B[0m \u001B[38;5;28;01melse\u001B[39;00m:\n\u001B[0;32m-> 1736\u001B[0m     \u001B[38;5;28;01mreturn\u001B[39;00m \u001B[38;5;28;43mself\u001B[39;49m\u001B[38;5;241;43m.\u001B[39;49m\u001B[43m_call_impl\u001B[49m\u001B[43m(\u001B[49m\u001B[38;5;241;43m*\u001B[39;49m\u001B[43margs\u001B[49m\u001B[43m,\u001B[49m\u001B[43m \u001B[49m\u001B[38;5;241;43m*\u001B[39;49m\u001B[38;5;241;43m*\u001B[39;49m\u001B[43mkwargs\u001B[49m\u001B[43m)\u001B[49m\n",
      "File \u001B[0;32m~/pycharm/MT Final/.venv/lib/python3.12/site-packages/torch/nn/modules/module.py:1747\u001B[0m, in \u001B[0;36mModule._call_impl\u001B[0;34m(self, *args, **kwargs)\u001B[0m\n\u001B[1;32m   1742\u001B[0m \u001B[38;5;66;03m# If we don't have any hooks, we want to skip the rest of the logic in\u001B[39;00m\n\u001B[1;32m   1743\u001B[0m \u001B[38;5;66;03m# this function, and just call forward.\u001B[39;00m\n\u001B[1;32m   1744\u001B[0m \u001B[38;5;28;01mif\u001B[39;00m \u001B[38;5;129;01mnot\u001B[39;00m (\u001B[38;5;28mself\u001B[39m\u001B[38;5;241m.\u001B[39m_backward_hooks \u001B[38;5;129;01mor\u001B[39;00m \u001B[38;5;28mself\u001B[39m\u001B[38;5;241m.\u001B[39m_backward_pre_hooks \u001B[38;5;129;01mor\u001B[39;00m \u001B[38;5;28mself\u001B[39m\u001B[38;5;241m.\u001B[39m_forward_hooks \u001B[38;5;129;01mor\u001B[39;00m \u001B[38;5;28mself\u001B[39m\u001B[38;5;241m.\u001B[39m_forward_pre_hooks\n\u001B[1;32m   1745\u001B[0m         \u001B[38;5;129;01mor\u001B[39;00m _global_backward_pre_hooks \u001B[38;5;129;01mor\u001B[39;00m _global_backward_hooks\n\u001B[1;32m   1746\u001B[0m         \u001B[38;5;129;01mor\u001B[39;00m _global_forward_hooks \u001B[38;5;129;01mor\u001B[39;00m _global_forward_pre_hooks):\n\u001B[0;32m-> 1747\u001B[0m     \u001B[38;5;28;01mreturn\u001B[39;00m \u001B[43mforward_call\u001B[49m\u001B[43m(\u001B[49m\u001B[38;5;241;43m*\u001B[39;49m\u001B[43margs\u001B[49m\u001B[43m,\u001B[49m\u001B[43m \u001B[49m\u001B[38;5;241;43m*\u001B[39;49m\u001B[38;5;241;43m*\u001B[39;49m\u001B[43mkwargs\u001B[49m\u001B[43m)\u001B[49m\n\u001B[1;32m   1749\u001B[0m result \u001B[38;5;241m=\u001B[39m \u001B[38;5;28;01mNone\u001B[39;00m\n\u001B[1;32m   1750\u001B[0m called_always_called_hooks \u001B[38;5;241m=\u001B[39m \u001B[38;5;28mset\u001B[39m()\n",
      "File \u001B[0;32m~/pycharm/MT Final/.venv/lib/python3.12/site-packages/transformers/models/llama/modeling_llama.py:691\u001B[0m, in \u001B[0;36mLlamaDecoderLayer.forward\u001B[0;34m(self, hidden_states, attention_mask, position_ids, past_key_value, output_attentions, use_cache, cache_position, position_embeddings, **kwargs)\u001B[0m\n\u001B[1;32m    689\u001B[0m \u001B[38;5;66;03m# Fully Connected\u001B[39;00m\n\u001B[1;32m    690\u001B[0m residual \u001B[38;5;241m=\u001B[39m hidden_states\n\u001B[0;32m--> 691\u001B[0m hidden_states \u001B[38;5;241m=\u001B[39m \u001B[38;5;28;43mself\u001B[39;49m\u001B[38;5;241;43m.\u001B[39;49m\u001B[43mpost_attention_layernorm\u001B[49m\u001B[43m(\u001B[49m\u001B[43mhidden_states\u001B[49m\u001B[43m)\u001B[49m\n\u001B[1;32m    692\u001B[0m hidden_states \u001B[38;5;241m=\u001B[39m \u001B[38;5;28mself\u001B[39m\u001B[38;5;241m.\u001B[39mmlp(hidden_states)\n\u001B[1;32m    693\u001B[0m hidden_states \u001B[38;5;241m=\u001B[39m residual \u001B[38;5;241m+\u001B[39m hidden_states\n",
      "File \u001B[0;32m~/pycharm/MT Final/.venv/lib/python3.12/site-packages/torch/nn/modules/module.py:1736\u001B[0m, in \u001B[0;36mModule._wrapped_call_impl\u001B[0;34m(self, *args, **kwargs)\u001B[0m\n\u001B[1;32m   1734\u001B[0m     \u001B[38;5;28;01mreturn\u001B[39;00m \u001B[38;5;28mself\u001B[39m\u001B[38;5;241m.\u001B[39m_compiled_call_impl(\u001B[38;5;241m*\u001B[39margs, \u001B[38;5;241m*\u001B[39m\u001B[38;5;241m*\u001B[39mkwargs)  \u001B[38;5;66;03m# type: ignore[misc]\u001B[39;00m\n\u001B[1;32m   1735\u001B[0m \u001B[38;5;28;01melse\u001B[39;00m:\n\u001B[0;32m-> 1736\u001B[0m     \u001B[38;5;28;01mreturn\u001B[39;00m \u001B[38;5;28;43mself\u001B[39;49m\u001B[38;5;241;43m.\u001B[39;49m\u001B[43m_call_impl\u001B[49m\u001B[43m(\u001B[49m\u001B[38;5;241;43m*\u001B[39;49m\u001B[43margs\u001B[49m\u001B[43m,\u001B[49m\u001B[43m \u001B[49m\u001B[38;5;241;43m*\u001B[39;49m\u001B[38;5;241;43m*\u001B[39;49m\u001B[43mkwargs\u001B[49m\u001B[43m)\u001B[49m\n",
      "File \u001B[0;32m~/pycharm/MT Final/.venv/lib/python3.12/site-packages/torch/nn/modules/module.py:1747\u001B[0m, in \u001B[0;36mModule._call_impl\u001B[0;34m(self, *args, **kwargs)\u001B[0m\n\u001B[1;32m   1742\u001B[0m \u001B[38;5;66;03m# If we don't have any hooks, we want to skip the rest of the logic in\u001B[39;00m\n\u001B[1;32m   1743\u001B[0m \u001B[38;5;66;03m# this function, and just call forward.\u001B[39;00m\n\u001B[1;32m   1744\u001B[0m \u001B[38;5;28;01mif\u001B[39;00m \u001B[38;5;129;01mnot\u001B[39;00m (\u001B[38;5;28mself\u001B[39m\u001B[38;5;241m.\u001B[39m_backward_hooks \u001B[38;5;129;01mor\u001B[39;00m \u001B[38;5;28mself\u001B[39m\u001B[38;5;241m.\u001B[39m_backward_pre_hooks \u001B[38;5;129;01mor\u001B[39;00m \u001B[38;5;28mself\u001B[39m\u001B[38;5;241m.\u001B[39m_forward_hooks \u001B[38;5;129;01mor\u001B[39;00m \u001B[38;5;28mself\u001B[39m\u001B[38;5;241m.\u001B[39m_forward_pre_hooks\n\u001B[1;32m   1745\u001B[0m         \u001B[38;5;129;01mor\u001B[39;00m _global_backward_pre_hooks \u001B[38;5;129;01mor\u001B[39;00m _global_backward_hooks\n\u001B[1;32m   1746\u001B[0m         \u001B[38;5;129;01mor\u001B[39;00m _global_forward_hooks \u001B[38;5;129;01mor\u001B[39;00m _global_forward_pre_hooks):\n\u001B[0;32m-> 1747\u001B[0m     \u001B[38;5;28;01mreturn\u001B[39;00m \u001B[43mforward_call\u001B[49m\u001B[43m(\u001B[49m\u001B[38;5;241;43m*\u001B[39;49m\u001B[43margs\u001B[49m\u001B[43m,\u001B[49m\u001B[43m \u001B[49m\u001B[38;5;241;43m*\u001B[39;49m\u001B[38;5;241;43m*\u001B[39;49m\u001B[43mkwargs\u001B[49m\u001B[43m)\u001B[49m\n\u001B[1;32m   1749\u001B[0m result \u001B[38;5;241m=\u001B[39m \u001B[38;5;28;01mNone\u001B[39;00m\n\u001B[1;32m   1750\u001B[0m called_always_called_hooks \u001B[38;5;241m=\u001B[39m \u001B[38;5;28mset\u001B[39m()\n",
      "File \u001B[0;32m~/pycharm/MT Final/.venv/lib/python3.12/site-packages/transformers/models/llama/modeling_llama.py:74\u001B[0m, in \u001B[0;36mLlamaRMSNorm.forward\u001B[0;34m(self, hidden_states)\u001B[0m\n\u001B[1;32m     72\u001B[0m variance \u001B[38;5;241m=\u001B[39m hidden_states\u001B[38;5;241m.\u001B[39mpow(\u001B[38;5;241m2\u001B[39m)\u001B[38;5;241m.\u001B[39mmean(\u001B[38;5;241m-\u001B[39m\u001B[38;5;241m1\u001B[39m, keepdim\u001B[38;5;241m=\u001B[39m\u001B[38;5;28;01mTrue\u001B[39;00m)\n\u001B[1;32m     73\u001B[0m hidden_states \u001B[38;5;241m=\u001B[39m hidden_states \u001B[38;5;241m*\u001B[39m torch\u001B[38;5;241m.\u001B[39mrsqrt(variance \u001B[38;5;241m+\u001B[39m \u001B[38;5;28mself\u001B[39m\u001B[38;5;241m.\u001B[39mvariance_epsilon)\n\u001B[0;32m---> 74\u001B[0m \u001B[38;5;28;01mreturn\u001B[39;00m \u001B[38;5;28;43mself\u001B[39;49m\u001B[38;5;241;43m.\u001B[39;49m\u001B[43mweight\u001B[49m \u001B[38;5;241m*\u001B[39m hidden_states\u001B[38;5;241m.\u001B[39mto(input_dtype)\n",
      "File \u001B[0;32m~/pycharm/MT Final/.venv/lib/python3.12/site-packages/torch/nn/modules/module.py:1918\u001B[0m, in \u001B[0;36mModule.__getattr__\u001B[0;34m(self, name)\u001B[0m\n\u001B[1;32m   1909\u001B[0m         \u001B[38;5;28mself\u001B[39m\u001B[38;5;241m.\u001B[39m_backward_pre_hooks \u001B[38;5;241m=\u001B[39m OrderedDict()\n\u001B[1;32m   1911\u001B[0m \u001B[38;5;66;03m# On the return type:\u001B[39;00m\n\u001B[1;32m   1912\u001B[0m \u001B[38;5;66;03m# We choose to return `Any` in the `__getattr__` type signature instead of a more strict `Union[Tensor, Module]`.\u001B[39;00m\n\u001B[1;32m   1913\u001B[0m \u001B[38;5;66;03m# This is done for better interop with various type checkers for the end users.\u001B[39;00m\n\u001B[0;32m   (...)\u001B[0m\n\u001B[1;32m   1916\u001B[0m \u001B[38;5;66;03m# See full discussion on the problems with returning `Union` here\u001B[39;00m\n\u001B[1;32m   1917\u001B[0m \u001B[38;5;66;03m# https://github.com/microsoft/pyright/issues/4213\u001B[39;00m\n\u001B[0;32m-> 1918\u001B[0m \u001B[38;5;28;01mdef\u001B[39;00m \u001B[38;5;21m__getattr__\u001B[39m(\u001B[38;5;28mself\u001B[39m, name: \u001B[38;5;28mstr\u001B[39m) \u001B[38;5;241m-\u001B[39m\u001B[38;5;241m>\u001B[39m Any:\n\u001B[1;32m   1919\u001B[0m     \u001B[38;5;28;01mif\u001B[39;00m \u001B[38;5;124m\"\u001B[39m\u001B[38;5;124m_parameters\u001B[39m\u001B[38;5;124m\"\u001B[39m \u001B[38;5;129;01min\u001B[39;00m \u001B[38;5;28mself\u001B[39m\u001B[38;5;241m.\u001B[39m\u001B[38;5;18m__dict__\u001B[39m:\n\u001B[1;32m   1920\u001B[0m         _parameters \u001B[38;5;241m=\u001B[39m \u001B[38;5;28mself\u001B[39m\u001B[38;5;241m.\u001B[39m\u001B[38;5;18m__dict__\u001B[39m[\u001B[38;5;124m\"\u001B[39m\u001B[38;5;124m_parameters\u001B[39m\u001B[38;5;124m\"\u001B[39m]\n",
      "\u001B[0;31mKeyboardInterrupt\u001B[0m: "
     ]
    }
   ],
   "execution_count": 236
  },
  {
   "metadata": {
    "ExecuteTime": {
     "end_time": "2024-11-20T03:18:12.430598Z",
     "start_time": "2024-11-20T03:18:12.421700Z"
    }
   },
   "cell_type": "code",
   "source": [
    "import pickle\n",
    "with open ('data/chunked_wikitext2/train.pkl', 'rb') as f:\n",
    "    test_data = pickle.load(f)\n"
   ],
   "id": "276e9300710afe2f",
   "outputs": [],
   "execution_count": 13
  },
  {
   "metadata": {
    "ExecuteTime": {
     "end_time": "2024-11-20T03:18:14.128038Z",
     "start_time": "2024-11-20T03:18:14.125410Z"
    }
   },
   "cell_type": "code",
   "source": "print(test_data[2])",
   "id": "819adc3e62eeb4a8",
   "outputs": [
    {
     "name": "stdout",
     "output_type": "stream",
     "text": [
      " = Cicely Mary Barker = \n",
      " Cicely Mary Barker ( 28 June 1895 – 16 February 1973 ) was an English illustrator best known for a series of fantasy illustrations depicting fairies and flowers . Barker 's art education began in girlhood with correspondence courses and instruction at the Croydon School of Art . Her earliest professional work included greeting cards and juvenile magazine illustrations , and her first book , Flower Fairies of the Spring , was published in 1923 . Similar books were published in the following decades . \n",
      " Barker was a devout Anglican , and donated her artworks to Christian fundraisers and missionary organizations . She produced a few Christian @-@ themed books such as The Children ’ s Book of Hymns and , in collaboration with her sister Dorothy , He Leadeth Me . She designed a stained glass window for St. Edmund 's Church , Pitlake , and her painting of the Christ Child , The Darling of the World Has Come , was purchased by Queen Mary . \n",
      " Barker was equally proficient in watercolour , pen and ink , oils , and pastels . Kate Greenaway and the Pre @-@ Raphaelites were the principal influences on her work . She claimed to paint instinctively and rejected artistic theories . Barker died in 1973 . Though she published Flower Fairy books with spring , summer , and autumn themes , it wasn 't until 1985 that a winter collection was assembled from her remaining work and published posthumously . \n",
      " = = Biography = = \n",
      " = = = Early life = = = \n",
      " Barker was born the second daughter and youngest child of Walter Barker , a partner in a seed supply company and an amateur artist , and his wife Mary Eleanor ( Oswald ) Barker on 28 June 1895 at home at 66 Waddon Road in Croydon , Surrey , England . Barker was an epileptic as a child , and cared for at home by her parents . Later , her sister and elder by two years , Dorothy Oswald Barker , continued the care . \n",
      " The family of four was moderately well off , and belonged to the lower end of the upper middle class . A nanny , a governess , and a cook to prepare special meals for Barker were hired . She spent much time in bed at home amusing herself with painting books and a nursery library that included the works of Kate Greenaway and Randolph Caldecott – two artists who exerted strong influences on her later art . \n",
      " = = = Art education and first professional work = = = \n",
      " Barker took correspondence courses in art , probably until about 1919 . In 1908 at 13 years , she entered an evening class at the Croydon School of Art , and attended the school into the 1940s . In time , she received a teaching position . \n",
      " In 1911 , Raphael Tuck & Sons bought four of Barker 's \" little drawings \" for half a sovereign , and published them as postcards . In October 1911 , she won second prize in the Croydon Art Society 's poster competition , and shortly afterward was elected the youngest member of the Society . The art critic for the Croydon Advertiser remarked , \" Her drawings show a remarkable freedom of spirit . She has distinct promise . \" \n",
      " Following her father ’ s death in June 1912 , the seventeen @-@ year @-@ old Barker submitted art and poetry to My Magazine , Child ’ s Own , Leading Strings , and Raphael Tuck annuals in an effort to support both her mother and sister . Her sister Dorothy taught kindergarten in two private schools before opening a kindergarten at home . She brought in some money for the family 's support while supervising the household . \n",
      " = = = Flower Fairies of the Spring , 1923 = = = \n",
      " Fairies became a popular theme in art and literature in the early 20th century following the releases of The Coming of the Fairies by Sir Arthur Conan Doyle , Peter Pan by J.M. Barrie , and the fairy @-@ themed work of Australian Ida Rentoul Outhwaite . Queen Mary made such themes even more popular by sending Outhwaite postcards to friends during the 1920s . In 1918 , Barker produced a postcard series depicting elves and fairies . \n",
      " In 1923 , Barker sent her flower fairy paintings to various publishers . Blackie paid £ 25 for 24 paintings with accompanying verses , but it wasn 't until publication of Flower Fairies of the Summer in 1925 that Barker received royalties for her work . Mary Violet Clayton Calthrop , wife of author Dion Clayton Calthrop , wrote in April 1925 about Barker and Flower Fairies of the Spring : \" She has such exquisite taste , besides draughtsmanship . \" \n",
      " = = = The Waldrons = = = \n",
      " In 1924 , the family moved into a four @-@ level , semi @-@ detached Victorian house at 23 The Waldrons . Barker had a studio built in the garden and her sister conducted a kindergarten in a room at the back of the house . The family lived frugally and attended both St. Edmund 's and St. Andrew 's in Croydon – \" low \" churches for the less privileged . Barker sometimes incorporated portraits of her fellow parishioners in her religious works . She was described by Canon Ingram Hill as \" one of the pillars \" of St. Andrew 's . \n",
      " The children in the kindergarten modelled for the Flower Fairies until the kindergarten closed in 1940 . In an interview in 1958 , Barker said , \" My sister ran a kindergarten and I used to borrow her students for models . For many years I had an atmosphere of children about me – I never forgot it . \" She also painted the children of relatives as well as Gladys Tidy , the Barkers ' young housekeeper , who posed for the Primrose Fairy in 1923 . The plants were painted from life , and if a specimen was not readily at hand , Kew Gardens staff would provide her the specimens needed . Barker designed and built the Flower Fairy costumes , and based each on the flowers and leaves of the particular plant to be illustrated . The costumes were kept in a trunk in her studio along with wings made of twigs and gauze . Each was broken down after an illustration was completed and the parts recycled for other costumes . She often referred to Dion Clayton Calthrop 's English Costume . \n",
      " = = = Middle years = = = \n",
      " In the late 1920s , Barker began to doubt she was doing enough for the church and considered focusing solely on sacred works . Family and friends recommended she continue secular and sacred works , which she did . \n",
      " Barker continued to attend evening classes at the Croydon Art School between the 1920s and the 1940s , eventually receiving a teaching position . She took sketching trips to Amberley and Storrington in Sussex and to Cornwall and the southern coast with family and friends . She visited and stayed with artist Margaret Tarrant in Gomshall , Surrey and with family in Ugglebarnby , Near Whitby , North Yorkshire . \n",
      " In 1940 , the Barker 's live @-@ in maid retired , and Dorothy Barker closed her school at the back of the house in The Waldrons . She continued to supervise the household , and to give both her mother and sister the care they needed . Dorothy and her sister collaborated upon only two books : Our Darling 's First Book and the Christian @-@ themed , He Leadeth Me . In 1954 Dorothy Barker died of a heart attack . Barker was unable to pursue her art to any significant extent following her sister 's death , as all the care of her aged mother devolved upon her , but she did manage to begin planning a stained glass window design in her sister 's memory for St. Edmund 's , Pitlake . \n",
      " = = = Later life and death = = = \n",
      " Barker 's mother died in 1960 , and , in 1961 , Barker moved from 23 The Waldrons to 6 Duppas Avenue in Croydon . She restored a maisonette in Storrington , Sussex , England , bequeathed by her friend Edith Major , and named it St. Andrew 's . After taking up residence , her health began to deteriorate . She was in and out of nursing and convalescent homes , and tended by relatives and friends . \n",
      " Barker died at Worthing Hospital on 16 February 1973 , aged 77 years . Two funeral services were held – one in Storrington Church and one in Barker 's maisonette . Her ashes were scattered in Storrington churchyard . In 1989 , Frederick Warne , a division of Penguin Books since 1983 , acquired the Flower Fairies properties . \n",
      " = = Art = = \n",
      " Barker worked principally in watercolor with pen @-@ and @-@ ink , but she was equally competent in black @-@ and @-@ white , in oils , and in pastels . She carried a sketchbook with her for capturing interesting children . She once indicated , \" I have always tried to paint instinctively in a way that comes naturally to me , without any real thought or attention to artistic theories . \" \n",
      " Kate Greenaway was a childhood favorite and an influence on her art . Barker 's child subjects wear nostalgic clothing as Greenaway 's children do , though Barker 's children are less melancholy and less flat in appearance , due perhaps to advances in printing technology . Barker studied flowers with an analytical eye and was friend to children 's illustrator , Margaret Tarrant . Along with Greenaway , illustrator Alice B. Woodward also influenced Barker 's work . \n",
      " The Pre @-@ Raphaelites were a strong , lifelong influence on Barker . She once indicated , \" I am to some extent influenced by them — not in any technical sense , but in the choice of subject matter and the feeling and atmosphere they could achieve . \" She admitted a fondness for the early paintings of John Everett Millais and \" the wonderful things \" of Edward Burne @-@ Jones . \n",
      " = = = Depictions of children = = = \n",
      " Barker 's sketches , drawings , and paintings of children were given to friends or to the parents of the subjects , donated to charitable institutions and church sponsored events , or exhibited through various art organizations . She illustrated magazine covers , dust jackets , and produced series of postcards for Raphael Tuck and other publishers such as Picturesque Children of the Allies ( 1915 ) , Seaside Holidays ( 1918 ) , and Shakespeare 's Boy and Girl Characters ( 1917 , 1920 ) . Her own Old Rhymes for All Times ( 1928 ) and The Lord of the Rushie River ( 1938 ) , a tale about a girl who lives among swans on a riverbank , were critically well received . Set about 1800 , Groundsel and Necklaces ( 1943 ) tells of a girl named Jenny who rescues her family from poverty through the agency of the fairies . The story features an old Scrooge @-@ like man called Mr. Petercoo and tonally suggests a Dickensian social consciousness . Simon the Swan , intended as a sequel to Rushie River was outlined in 1943 with Groundsel , but only developed in 1953 . It was published posthumously in 1988 and is critically considered less successful than Groundsel . \n",
      " = = = Christian @-@ themed works = = = \n",
      " Barker was a devout Christian , and produced religious @-@ themed works throughout her life . She published eight postcards and five guardian angel birthday cards for the Society for Promoting Christian Knowledge in 1916 and in 1923 respectively . Christmas cards were designed for The Girls ' Friendly Society over a 20 @-@ year period , and the first three designs sold out a combined printing of 46 @,@ 500 in 1923 . An original design for the society called The Darling of the World Has Come was purchased by Queen Mary for ₤ 5 @.@ 5 @.@ 0 in 1926 . The Croydon Art Society hung Barker 's booklet cover design for the Society for the Propagation of the Gospel in its November 1919 exhibition . \n",
      " Religious @-@ themed books include The Children 's Book of Hymns ( 1929 ) and He Leadeth Me ( 1933 ) , the latter written in collaboration with her sister . Major religious works include the triptychs in oil , The Feeding of the Five Thousand ( 1929 ) , for the chapel in Llandaff House , a home for destitute women at Penarth , Wales , and The Parable of the Great Supper ( 1934 ) for St. George 's Chapel , Waddon . The Feeding has since disappeared , and only a black @-@ and @-@ white photograph dated 1929 reproduces the work . In 1941 , she completed oil panels on the subject of the seven sacraments for the baptismal font at St. Andrew 's , South Croydon . She designed baptismal rolls for the wall behind the font in 1948 and 1962 . In 1946 , she completed the 4 x 7 ft. oil painting , Out of Great Tribulation , for the Memorial Chapel of Norbury Methodist Church . Following the death of her sister in 1954 , Barker began designs for a stained glass memorial window depicting Christ preparing to wash the feet of his disciples . Her last religious @-@ themed work , it was installed in St. Edmund 's , Pitlake , in 1962 . \n",
      " = = Works = = \n",
      " = = = Cards = = = \n",
      " Picturesque Children of the Allies ; J. Salmon , 1916 \n",
      " National Mission ; Society for the Preservation of Christian Knowledge , 1916 \n",
      " Shakespeare 's Boy Characters ; C. W. Faulkner , 1917 \n",
      " Shakespeare 's Girl Characters ; C. W. Faulkner , 1920 \n",
      " Seaside Holiday ; J. Salmon , 1918 , 1921 \n",
      " Elves and Fairies ; S. Harvey , 1918 \n",
      " Guardian Angel ; Society for the Preservation of Christian Knowledge , 1923 \n",
      " Christmas cards ; Girls ' Friendly Society , 1920s , 1930s \n",
      " Christmas cards ( US ) ; Barton @-@ Colton , 1920s , 1930s \n",
      " Beautiful Bible Pictures ; Blackie , 1932 \n",
      " = = = Books = = = \n",
      " Flower Fairies of the Spring ; Blackie , 1923 \n",
      " Spring Songs with Music ; Blackie , 1923 \n",
      " Flower Fairies of the Summer ; Blackie , 1925 \n",
      " Child Thoughts in Picture and Verse ( by M. K. Westcott ) ; Blackie , 1925 \n",
      " Flower Fairies of the Autumn ; Blackie , 1926 \n",
      " Summer Songs with Music ; Blackie , 1926 \n",
      " The Book of the Flower Fairies ; Blackie , 1927 \n",
      " Autumn Songs with Music ; Blackie , 1927 \n",
      " Old Rhymes for All Times ; Blackie , 1928 \n",
      " The Children ’ s Book of Hymns ; Blackie , 1929 ; rep . 1933 \n",
      " Our Darling ’ s First Book ( written in collaboration with Dorothy Barker ) ; Blackie , 1929 \n",
      " The Little Picture Hymn Book ; Blackie , 1933 \n",
      " Rhymes New and Old ; Blackie , 1933 \n",
      " A Flower Fairy Alphabet ; Blackie , 1934 \n",
      " A Little Book of Old Rhymes ; Blackie , 1936 \n",
      " He Leadeth Me ( written in collaboration with Dorothy Barker ) ; Blackie , 1936 \n",
      " A Little Book of Rhymes New and Old ; Blackie , 1937 \n",
      " The Lord of the Rushie River ; Blackie , 1938 \n",
      " Flower Fairies of the Trees ; Blackie , 1940 \n",
      " When Spring Came In at the Window ; Blackie , 1942 \n",
      " A Child ’ s Garden of Verses ( Robert Louis Stevenson ) ; Blackie , 1944 \n",
      " Flower Fairies of the Garden ; Blackie , 1944 \n",
      " Groundsel and Necklaces ; Blackie , 1946 ; reprinted as Fairy Necklaces \n",
      " Flower Fairies of the Wayside ; Blackie , 1948 \n",
      " Flower Fairies of the Flowers and Trees ; Blackie , 1950 \n",
      " Lively Stories ; Macmillan , 1954 \n",
      " The Flower Fairy Picture Book ; Blackie , 1955 \n",
      " Lively Numbers ; Macmillan , 1957 \n",
      " Lively Words ; Macmillan , 1961 . \n",
      " The Sand , the Sea and the Sun ; Gibson , 1970 \n",
      " = = = = Posthumously published = = = = \n",
      " Flower Fairies of the Winter ; Blackie , 1985 \n",
      " Simon the Swan ; Blackie , 1988 \n",
      " Flower Fairies of the Seasons ; Bedrick / Blackie , 1988 \n",
      " A Little Book of Prayers and Hymns ; Frederick Warne , 1994 \n",
      " A Flower Fairies Treasury ; Frederick Warne , 1997 \n",
      " Fairyopolis ; Frederick Warne , 2005 \n",
      " Wild Cherry Makes A Wish ; ( collaboration with Pippa Le Quesne ) Frederick Warne , 2006 \n",
      " How to find Flower Fairies ; Frederick Warne , 2007 \n",
      " Return to Fairyopolis ; Frederick Warne , 2008 \n",
      " = = = Book covers = = = \n",
      " A New Epiphany ; Society for the Preservation of Christian Knowledge , 1919 \n",
      " 43 Annuals ; Blackie , 1920s , 1930s \n",
      " = = = Religious works = = = \n",
      " St. Cecily 's Garden ; 1920 \n",
      " Cradle roll design ; St. Edmund 's , Pitlake , 1922 \n",
      " Banner design ; St. Mary 's , Sanderstead , 1923 \n",
      " The Feeding of the Five Thousand ; reredos triptych , chapel at Penarth , Wales ; 1929 \n",
      " The Parable of the Great Supper ; triptych , St. George 's chapel , Waddon \n",
      " The Seven Sacraments ; baptismal font panels , St. Andrew 's , Croydon \n",
      " St. John the Baptist ; central banner panel , Abesford church , 1943 \n",
      " Lettering , sword , and shield ; mount for a list of men and woman serving in the Forces , St. Andrews , Croydon , 1943 \n",
      " Baptismal rolls ; St. Andrews , Croydon , 1948 , 1962 \n",
      " The font in St Andrew 's Church , South Croydon \n",
      " Out of Great Tribulation ; memorial chapel , Norbury Medthodist church , 1948 \n",
      " I Am Among You As He That Serveth ; stained glass window design , St. Edmund 's , Pitlake , 1962 \n",
      "\n"
     ]
    }
   ],
   "execution_count": 14
  },
  {
   "metadata": {
    "ExecuteTime": {
     "end_time": "2024-11-20T03:18:17.612978Z",
     "start_time": "2024-11-20T03:18:17.403759Z"
    }
   },
   "cell_type": "code",
   "source": [
    "from transformers import AutoTokenizer\n",
    "llama_tokenizer = AutoTokenizer.from_pretrained(\"tokenizers/meta-llama/llama-3.2-1B\")"
   ],
   "id": "c82ee66560b72eb7",
   "outputs": [],
   "execution_count": 15
  },
  {
   "metadata": {
    "ExecuteTime": {
     "end_time": "2024-11-20T03:18:19.924558Z",
     "start_time": "2024-11-20T03:18:17.655962Z"
    }
   },
   "cell_type": "code",
   "source": "tokenized_text = [llama_tokenizer(item) for item in test_data]",
   "id": "e9e7d2da541afcef",
   "outputs": [],
   "execution_count": 16
  },
  {
   "metadata": {
    "ExecuteTime": {
     "end_time": "2024-11-20T03:18:19.930179Z",
     "start_time": "2024-11-20T03:18:19.928493Z"
    }
   },
   "cell_type": "code",
   "source": [
    "lengths = [len(item[\"input_ids\"]) for item in tokenized_text]\n",
    "print(sum(lengths) / len(lengths))"
   ],
   "id": "e5181852ba0fb7b8",
   "outputs": [
    {
     "name": "stdout",
     "output_type": "stream",
     "text": [
      "3872.2591414944354\n"
     ]
    }
   ],
   "execution_count": 17
  },
  {
   "metadata": {
    "ExecuteTime": {
     "end_time": "2024-11-20T03:18:21.019234Z",
     "start_time": "2024-11-20T03:18:21.017120Z"
    }
   },
   "cell_type": "code",
   "source": "print(max(lengths))",
   "id": "24654790c87be1ce",
   "outputs": [
    {
     "name": "stdout",
     "output_type": "stream",
     "text": [
      "20498\n"
     ]
    }
   ],
   "execution_count": 18
  },
  {
   "metadata": {
    "ExecuteTime": {
     "end_time": "2024-11-20T03:21:16.080073Z",
     "start_time": "2024-11-20T03:21:16.077332Z"
    }
   },
   "cell_type": "code",
   "source": [
    "max_length = 0\n",
    "index = -1\n",
    "for i, l in enumerate(lengths):\n",
    "    if l > max_length:\n",
    "        max_length = l\n",
    "        index = i\n",
    "print(index)"
   ],
   "id": "bb104abac5aae3a5",
   "outputs": [
    {
     "name": "stdout",
     "output_type": "stream",
     "text": [
      "294\n"
     ]
    }
   ],
   "execution_count": 19
  },
  {
   "metadata": {
    "ExecuteTime": {
     "end_time": "2024-11-20T03:21:45.407713Z",
     "start_time": "2024-11-20T03:21:45.404946Z"
    }
   },
   "cell_type": "code",
   "source": "print(test_data[294])",
   "id": "978a453ab543055c",
   "outputs": [
    {
     "name": "stdout",
     "output_type": "stream",
     "text": [
      " = Bob Dylan = \n",
      " Bob Dylan ( / ˈdɪlən / ; born Robert Allen Zimmerman , May 24 , 1941 ) is an American singer @-@ songwriter , artist and writer . He has been influential in popular music and culture for more than five decades . Much of his most celebrated work dates from the 1960s when his songs chronicled social unrest , although Dylan repudiated suggestions from journalists that he was a spokesman for his generation . Nevertheless , early songs such as \" Blowin ' in the Wind \" and \" The Times They Are a @-@ Changin ' \" became anthems for the American civil rights and anti @-@ war movements . After he left his initial base in the American folk music revival , his six @-@ minute single \" Like a Rolling Stone \" altered the range of popular music in 1965 . His mid @-@ 1960s recordings , backed by rock musicians , reached the top end of the United States music charts while also attracting denunciation and criticism from others in the folk movement . \n",
      " Dylan 's lyrics have incorporated various political , social , philosophical , and literary influences . They defied existing pop music conventions and appealed to the burgeoning counterculture . Initially inspired by the performances of Little Richard and the songwriting of Woody Guthrie , Robert Johnson , and Hank Williams , Dylan has amplified and personalized musical genres . His recording career , spanning more than 50 years , has explored the traditions in American song — from folk , blues , and country to gospel , rock and roll , and rockabilly to English , Scottish , and Irish folk music , embracing even jazz and the Great American Songbook . Dylan performs with guitar , keyboards , and harmonica . Backed by a changing lineup of musicians , he has toured steadily since the late 1980s on what has been dubbed the Never Ending Tour . His accomplishments as a recording artist and performer have been central to his career , but songwriting is considered his greatest contribution . \n",
      " Since 1994 , Dylan has published six books of drawings and paintings , and his work has been exhibited in major art galleries . As a musician , Dylan has sold more than 100 million records , making him one of the best @-@ selling artists of all time . He has also received numerous awards including eleven Grammy Awards , a Golden Globe Award , and an Academy Award . Dylan has been inducted into the Rock and Roll Hall of Fame , Minnesota Music Hall of Fame , Nashville Songwriters Hall of Fame , and Songwriters Hall of Fame . The Pulitzer Prize jury in 2008 awarded him a special citation for \" his profound impact on popular music and American culture , marked by lyrical compositions of extraordinary poetic power . \" In May 2012 , Dylan received the Presidential Medal of Freedom from President Barack Obama . \n",
      " = = Life and career = = \n",
      " = = = Origins and musical beginnings = = = \n",
      " Bob Dylan was born Robert Allen Zimmerman ( Hebrew name שבתאי זיסל בן אברהם [ Shabtai Zisl ben Avraham ] ) in St Mary 's Hospital on May 24 , 1941 , in Duluth , Minnesota , and raised in Hibbing , Minnesota , on the Mesabi Range west of Lake Superior . He has a younger brother , David . Dylan 's paternal grandparents , Zigman and Anna Zimmerman , emigrated from Odessa , in the Russian Empire ( now Ukraine ) , to the United States following the anti @-@ Semitic pogroms of 1905 . His maternal grandparents , Ben and Florence Stone , were Lithuanian Jews who arrived in the United States in 1902 . In his autobiography , Chronicles : Volume One , Dylan wrote that his paternal grandmother 's maiden name was Kirghiz and her family originated from Kağızman district of Kars Province in northeastern Turkey . \n",
      " Dylan 's parents , Abram Zimmerman and Beatrice \" Beatty \" Stone , were part of a small but close @-@ knit Jewish community . They lived in Duluth until Robert was six , when his father had polio and the family returned to his mother 's hometown , Hibbing , where they lived for the rest of Robert 's childhood . In his early years he listened to the radio — first to blues and country stations from Shreveport , Louisiana and later , when he was a teenager , to rock and roll . He formed several bands while attending Hibbing High School . In the Golden Chords , he performed covers of songs by Little Richard and Elvis Presley . Their performance of Danny & the Juniors ' \" Rock and Roll Is Here to Stay \" at their high school talent show was so loud that the principal cut the microphone . In 1959 , his high school yearbook carried the caption \" Robert Zimmerman : to join ' Little Richard ' . \" The same year , as Elston Gunnn [ sic ] , he performed two dates with Bobby Vee , playing piano and clapping . \n",
      " Zimmerman moved to Minneapolis in September 1959 and enrolled at the University of Minnesota . His focus on rock and roll gave way to American folk music . In 1985 , he said : \n",
      " The thing about rock 'n'roll is that for me anyway it wasn 't enough ... There were great catch @-@ phrases and driving pulse rhythms ... but the songs weren 't serious or didn 't reflect life in a realistic way . I knew that when I got into folk music , it was more of a serious type of thing . The songs are filled with more despair , more sadness , more triumph , more faith in the supernatural , much deeper feelings . \n",
      " He began to perform at the Ten O 'Clock Scholar , a coffeehouse a few blocks from campus , and became involved in the Dinkytown folk music circuit . \n",
      " During his Dinkytown days , Zimmerman began introducing himself as \" Bob Dylan \" . In his memoir , Dylan acknowledged that he had been influenced by the poetry of Dylan Thomas . Explaining his change of name in a 2004 interview , Dylan remarked , \" You 're born , you know , the wrong names , wrong parents . I mean , that happens . You call yourself what you want to call yourself . This is the land of the free . \" \n",
      " = = = 1960s = = = \n",
      " = = = = Relocation to New York and record deal = = = = \n",
      " In May 1960 , Dylan dropped out of college at the end of his first year . In January 1961 , he traveled to New York City , to perform there and visit his musical idol Woody Guthrie , who was seriously ill with Huntington 's disease in Greystone Park Psychiatric Hospital . Guthrie had been a revelation to Dylan and influenced his early performances . Describing Guthrie 's impact , he wrote : \" The songs themselves had the infinite sweep of humanity in them ... [ He ] was the true voice of the American spirit . I said to myself I was going to be Guthrie 's greatest disciple . \" As well as visiting Guthrie in hospital , Dylan befriended Guthrie 's acolyte Ramblin ' Jack Elliott . Much of Guthrie 's repertoire was channeled through Elliott , and Dylan paid tribute to Elliott in Chronicles : Volume One . \n",
      " From February 1961 , Dylan played at clubs around Greenwich Village . He befriended and picked up material from folk singers there , including Dave Van Ronk , Fred Neil , Odetta , the New Lost City Ramblers , and Irish musicians the Clancy Brothers and Tommy Makem . In September , Dylan gained public recognition when Robert Shelton wrote a review in The New York Times of a show at Gerde 's Folk City . The same month Dylan played harmonica on folk singer Carolyn Hester 's third album , which brought his talents to the attention of the album 's producer , John Hammond . Hammond signed Dylan to Columbia Records in October . The performances on his first Columbia album — Bob Dylan — in March 1962 , consisted of familiar folk , blues and gospel with two original compositions . The album sold only 5 @,@ 000 in its first year , just enough to break even . Within Columbia Records , some referred to the singer as \" Hammond 's Folly \" and suggested dropping his contract , but Hammond defended Dylan and was supported by Johnny Cash . In March 1962 , Dylan contributed harmonica and back @-@ up vocals to the album Three Kings and the Queen , accompanying Victoria Spivey and Big Joe Williams on a recording for Spivey Records . While working for Columbia , Dylan recorded under the pseudonym Blind Boy Grunt , for Broadside , a folk magazine and record label . Dylan used the pseudonym Bob Landy to record as a piano player on The Blues Project , a 1964 anthology album by Elektra Records . As Tedham Porterhouse , Dylan played harmonica on Ramblin ' Jack Elliott 's 1964 album , Jack Elliott . \n",
      " Dylan made two important career moves in August 1962 : he legally changed his name to Robert Dylan , and he signed a management contract with Albert Grossman . ( In June 1961 , Dylan had signed an agreement with Roy Silver . In 1962 , Grossman paid Silver $ 10 @,@ 000 to become sole manager . ) Grossman remained Dylan 's manager until 1970 , and was notable for his sometimes confrontational personality and for protective loyalty . Dylan said , \" He was kind of like a Colonel Tom Parker figure ... you could smell him coming . \" Tensions between Grossman and John Hammond led to Hammond 's being replaced as producer of Dylan 's second album by the young African @-@ American jazz producer , Tom Wilson . \n",
      " Dylan made his first trip to the United Kingdom from December 1962 to January 1963 . He had been invited by TV director Philip Saville to appear in a drama , Madhouse on Castle Street , which Saville was directing for BBC Television . At the end of the play , Dylan performed \" Blowin ' in the Wind \" , one of its first public performances . The film recording of Madhouse on Castle Street was destroyed by the BBC in 1968 . While in London , Dylan performed at London folk clubs , including the Troubadour , Les Cousins , and Bunjies . He also learned material from UK performers , including Martin Carthy . \n",
      " By the time of Dylan 's second album , The Freewheelin ' Bob Dylan , in May 1963 , he had begun to make his name as a singer and a songwriter . Many songs on this album were labeled protest songs , inspired partly by Guthrie and influenced by Pete Seeger 's passion for topical songs . \" Oxford Town \" , for example , was an account of James Meredith 's ordeal as the first black student to risk enrollment at the University of Mississippi . \n",
      " The first song on the Freewheelin ' album , \" Blowin ' in the Wind \" , partly derived its melody from the traditional slave song , \" No More Auction Block \" , while its lyrics questioned the social and political status quo . The song was widely recorded by other artists and became a hit for Peter , Paul and Mary . Another Freewheelin ' song , \" A Hard Rain 's a @-@ Gonna Fall \" was based on the folk ballad \" Lord Randall \" . With veiled references to an impending apocalypse , the song gained more resonance when the Cuban Missile Crisis developed a few weeks after Dylan began performing it . Like \" Blowin ' in the Wind \" , \" A Hard Rain 's a @-@ Gonna Fall \" marked a new direction in songwriting , blending a stream @-@ of @-@ consciousness , imagist lyrical attack with traditional folk form . \n",
      " Dylan 's topical songs enhanced his early reputation , and he came to be seen as more than just a songwriter . Janet Maslin wrote of Freewheelin ' : \" These were the songs that established [ Dylan ] as the voice of his generation — someone who implicitly understood how concerned young Americans felt about nuclear disarmament and the growing movement for civil rights : his mixture of moral authority and nonconformity was perhaps the most timely of his attributes . \" Freewheelin ' also included love songs and surreal talking blues . Humor was an important part of Dylan 's persona , and the range of material on the album impressed listeners , including The Beatles . George Harrison said of the album , \" We just played it , just wore it out . The content of the song lyrics and just the attitude — it was incredibly original and wonderful . \" \n",
      " The rough edge of Dylan 's singing was unsettling to some but an attraction to others . Joyce Carol Oates wrote : \" When we first heard this raw , very young , and seemingly untrained voice , frankly nasal , as if sandpaper could sing , the effect was dramatic and electrifying . \" Many early songs reached the public through more palatable versions by other performers , such as Joan Baez , who became Dylan 's advocate as well as his lover . Baez was influential in bringing Dylan to prominence by recording several of his early songs and inviting him on stage during her concerts . \n",
      " Others who had hits with Dylan 's songs in the early 1960s included the Byrds , Sonny & Cher , the Hollies , Peter , Paul and Mary , the Association , Manfred Mann and the Turtles . Most attempted a pop feel and rhythm , while Dylan and Baez performed them mostly as sparse folk songs . The covers became so ubiquitous that CBS promoted him with the slogan \" Nobody Sings Dylan Like Dylan . \" \n",
      " \" Mixed @-@ Up Confusion \" , recorded during the Freewheelin ' sessions with a backing band , was released as a single and then quickly withdrawn . In contrast to the mostly solo acoustic performances on the album , the single showed a willingness to experiment with a rockabilly sound . Cameron Crowe described it as \" a fascinating look at a folk artist with his mind wandering towards Elvis Presley and Sun Records . \" \n",
      " = = = = Protest and Another Side = = = = \n",
      " In May 1963 , Dylan 's political profile rose when he walked out of The Ed Sullivan Show . During rehearsals , Dylan had been told by CBS television 's head of program practices that \" Talkin ' John Birch Paranoid Blues \" was potentially libelous to the John Birch Society . Rather than comply with censorship , Dylan refused to appear . \n",
      " By this time , Dylan and Baez were prominent in the civil rights movement , singing together at the March on Washington on August 28 , 1963 . Dylan 's third album , The Times They Are a @-@ Changin ' , reflected a more politicized and cynical Dylan . The songs often took as their subject matter contemporary stories , with \" Only A Pawn In Their Game \" addressing the murder of civil rights worker Medgar Evers ; and the Brechtian \" The Lonesome Death of Hattie Carroll \" the death of black hotel barmaid Hattie Carroll , at the hands of young white socialite William Zantzinger . On a more general theme , \" Ballad of Hollis Brown \" and \" North Country Blues \" addressed despair engendered by the breakdown of farming and mining communities . This political material was accompanied by two personal love songs , \" Boots of Spanish Leather \" and \" One Too Many Mornings \" . \n",
      " By the end of 1963 , Dylan felt both manipulated and constrained by the folk and protest movements . Accepting the \" Tom Paine Award \" from the National Emergency Civil Liberties Committee shortly after the assassination of John F. Kennedy , an intoxicated Dylan questioned the role of the committee , characterized the members as old and balding , and claimed to see something of himself and of every man in Kennedy 's assassin , Lee Harvey Oswald . \n",
      " Another Side of Bob Dylan , recorded on a single evening in June 1964 , had a lighter mood . The humorous Dylan reemerged on \" I Shall Be Free No. 10 \" and \" Motorpsycho Nightmare \" . \" Spanish Harlem Incident \" and \" To Ramona \" are passionate love songs , while \" Black Crow Blues \" and \" I Don 't Believe You ( She Acts Like We Never Have Met ) \" suggest the rock and roll soon to dominate Dylan 's music . \" It Ain 't Me Babe \" , on the surface a song about spurned love , has been described as a rejection of the role of political spokesman thrust upon him . His newest direction was signaled by two lengthy songs : the impressionistic \" Chimes of Freedom \" , which sets social commentary against a metaphorical landscape in a style characterized by Allen Ginsberg as \" chains of flashing images , \" and \" My Back Pages \" , which attacks the simplistic and arch seriousness of his own earlier topical songs and seems to predict the backlash he was about to encounter from his former champions as he took a new direction . \n",
      " In the latter half of 1964 and 1965 , Dylan moved from folk songwriter to folk @-@ rock pop @-@ music star . His jeans and work shirts were replaced by a Carnaby Street wardrobe , sunglasses day or night , and pointed \" Beatle boots \" . A London reporter wrote : \" Hair that would set the teeth of a comb on edge . A loud shirt that would dim the neon lights of Leicester Square . He looks like an undernourished cockatoo . \" Dylan began to spar with interviewers . Appearing on the Les Crane television show and asked about a movie he planned , he told Crane it would be a cowboy horror movie . Asked if he played the cowboy , Dylan replied , \" No , I play my mother . \" \n",
      " = = = = Going electric = = = = \n",
      " Dylan 's late March 1965 album Bringing It All Back Home was another leap , featuring his first recordings with electric instruments . The first single , \" Subterranean Homesick Blues \" , owed much to Chuck Berry 's \" Too Much Monkey Business \" ; its free association lyrics described as harkening back to the energy of beat poetry and as a forerunner of rap and hip @-@ hop . The song was provided with an early video , which opened D. A. Pennebaker 's cinéma vérité presentation of Dylan 's 1965 tour of Great Britain , Dont Look Back . Instead of miming , Dylan illustrated the lyrics by throwing cue cards containing key words from the song on the ground . Pennebaker said the sequence was Dylan 's idea , and it has been imitated in music videos and advertisements . \n",
      " The second side of Bringing It All Back Home contained four long songs on which Dylan accompanied himself on acoustic guitar and harmonica . \" Mr. Tambourine Man \" became one of his best known songs when The Byrds recorded an electric version that reached number one in the US and UK . \" It 's All Over Now , Baby Blue \" and \" It 's Alright Ma ( I 'm Only Bleeding ) \" were two of Dylan 's most important compositions . \n",
      " In 1965 , heading the Newport Folk Festival , Dylan performed his first electric set since high school with a pickup group mostly from the Paul Butterfield Blues Band , featuring Mike Bloomfield ( guitar ) , Sam Lay ( drums ) and Jerome Arnold ( bass ) , plus Al Kooper ( organ ) and Barry Goldberg ( piano ) . Dylan had appeared at Newport in 1963 and 1964 , but in 1965 met with cheering and booing and left the stage after three songs . One version has it that the boos were from folk fans whom Dylan had alienated by appearing , unexpectedly , with an electric guitar . Murray Lerner , who filmed the performance , said : \" I absolutely think that they were booing Dylan going electric . \" An alternative account claims audience members were upset by poor sound and a short set . This account is supported by Kooper and one of the directors of the festival , who reports his recording proves the only boos were in reaction to the MC 's announcement that there was only enough time for a short set . \n",
      " Nevertheless , Dylan 's performance provoked a hostile response from the folk music establishment . In the September issue of Sing Out ! , Ewan MacColl wrote : \" Our traditional songs and ballads are the creations of extraordinarily talented artists working inside disciplines formulated over time ... ' But what of Bobby Dylan ? ' scream the outraged teenagers ... Only a completely non @-@ critical audience , nourished on the watery pap of pop music , could have fallen for such tenth @-@ rate drivel . \" On July 29 , four days after Newport , Dylan was back in the studio in New York , recording \" Positively 4th Street \" . The lyrics contained images of vengeance and paranoia , and it has been interpreted as Dylan 's put @-@ down of former friends from the folk community — friends he had known in clubs along West 4th Street . \n",
      " = = = = Highway 61 Revisited and Blonde on Blonde = = = = \n",
      " In July 1965 , the single \" Like a Rolling Stone \" peaked at two in the U.S. and at four in the UK charts . At over six minutes , the song altered what a pop single could convey . Bruce Springsteen , in his speech for Dylan 's inauguration into the Rock and Roll Hall of Fame , said that on first hearing the single , \" that snare shot sounded like somebody 'd kicked open the door to your mind \" . In 2004 and in 2011 , Rolling Stone listed it as number one of \" The 500 Greatest Songs of All Time \" . The song opened Dylan 's next album , Highway 61 Revisited , named after the road that led from Dylan 's Minnesota to the musical hotbed of New Orleans . The songs were in the same vein as the hit single , flavored by Mike Bloomfield 's blues guitar and Al Kooper 's organ riffs . \" Desolation Row \" , backed by acoustic guitar and understated bass , offers the sole exception , with Dylan alluding to figures in Western culture in a song described by Andy Gill as \" an 11 @-@ minute epic of entropy , which takes the form of a Fellini @-@ esque parade of grotesques and oddities featuring a huge cast of celebrated characters , some historical ( Einstein , Nero ) , some biblical ( Noah , Cain and Abel ) , some fictional ( Ophelia , Romeo , Cinderella ) , some literary ( T.S. Eliot and Ezra Pound ) , and some who fit into none of the above categories , notably Dr. Filth and his dubious nurse . \" \n",
      " In support of the album , Dylan was booked for two U.S. concerts with Al Kooper and Harvey Brooks from his studio crew and Robbie Robertson and Levon Helm , former members of Ronnie Hawkins 's backing band the Hawks . On August 28 at Forest Hills Tennis Stadium , the group was heckled by an audience still annoyed by Dylan 's electric sound . The band 's reception on September 3 at the Hollywood Bowl was more favorable . \n",
      " From September 24 , 1965 , in Austin , Texas , Dylan toured the U.S. and Canada for six months , backed by the five musicians from the Hawks who became known as the Band . While Dylan and the Hawks met increasingly receptive audiences , their studio efforts floundered . Producer Bob Johnston persuaded Dylan to record in Nashville in February 1966 , and surrounded him with top @-@ notch session men . At Dylan 's insistence , Robertson and Kooper came from New York City to play on the sessions . The Nashville sessions produced the double album Blonde on Blonde ( 1966 ) , featuring what Dylan called \" that thin wild mercury sound \" . Kooper described it as \" taking two cultures and smashing them together with a huge explosion \" : the musical world of Nashville and the world of the \" quintessential New York hipster \" Bob Dylan . \n",
      " On November 22 , 1965 , Dylan secretly married 25 @-@ year @-@ old former model Sara Lownds . Some of Dylan 's friends , including Ramblin ' Jack Elliott , say that , immediately after the event , Dylan denied he was married . Journalist Nora Ephron made the news public in the New York Post in February 1966 with the headline \" Hush ! Bob Dylan is wed . \" \n",
      " Dylan toured Australia and Europe in April and May 1966 . Each show was split in two . Dylan performed solo during the first half , accompanying himself on acoustic guitar and harmonica . In the second , backed by the Hawks , he played electrically amplified music . This contrast provoked many fans , who jeered and slow handclapped . The tour culminated in a raucous confrontation between Dylan and his audience at the Manchester Free Trade Hall in England on May 17 , 1966 . A recording of this concert was released in 1998 : The Bootleg Series Vol . 4 : Bob Dylan Live 1966 . At the climax of the evening , a member of the audience , angered by Dylan 's electric backing , shouted : \" Judas ! \" to which Dylan responded , \" I don 't believe you ... You 're a liar ! \" Dylan turned to his band and said , \" Play it fucking loud ! \" as they launched into the final song of the night — \" Like a Rolling Stone \" . \n",
      " During his 1966 tour , Dylan was described as exhausted and acting \" as if on a death trip \" . D. A. Pennebaker , the film maker accompanying the tour , described Dylan as \" taking a lot of amphetamine and who @-@ knows @-@ what @-@ else . \" In a 1969 interview with Jann Wenner , Dylan said , \" I was on the road for almost five years . It wore me down . I was on drugs , a lot of things ... just to keep going , you know ? \" In 2011 , BBC Radio 4 reported that , in an interview that Robert Shelton taped in 1966 , Dylan said he had kicked heroin in New York City : \" I got very , very strung out for a while ... I had about a $ 25 @-@ a @-@ day habit and I kicked it . \" Some journalists questioned the validity of this confession , pointing out that Dylan had \" been telling journalists wild lies about his past since the earliest days of his career . \" \n",
      " = = = = Motorcycle accident and reclusion = = = = \n",
      " After his tour , Dylan returned to New York , but the pressures increased . ABC Television had paid an advance for a TV show . His publisher , Macmillan , was demanding a manuscript of the poem / novel Tarantula . Manager Albert Grossman had scheduled a concert tour for the latter part of the year . \n",
      " On July 29 , 1966 , Dylan crashed his 500cc Triumph Tiger 100 motorcycle near his home in Woodstock , New York and was thrown to the ground . Though the extent of his injuries was never disclosed , Dylan said that he broke several vertebrae in his neck . Mystery still surrounds the circumstances of the accident since no ambulance was called to the scene and Dylan was not hospitalized . Dylan 's biographers have written that the crash offered Dylan the chance to escape the pressures around him . Dylan confirmed this interpretation in his autobiography : \" I had been in a motorcycle accident and I 'd been hurt , but I recovered . Truth was that I wanted to get out of the rat race . \" Dylan withdrew from public and , apart from a few appearances , did not tour again for almost eight years . \n",
      " Once Dylan was well enough to resume creative work , he began to edit D. A. Pennebaker 's film of his 1966 tour . A rough cut was shown to ABC Television and rejected as incomprehensible to a mainstream audience . The film was subsequently titled Eat the Document on bootleg copies , and it has been screened at a handful of film festivals . In 1967 he began recording with the Hawks at his home and in the basement of the Hawks ' nearby house , \" Big Pink \" . These songs , initially demos for other artists to record , provided hits for Julie Driscoll and the Brian Auger Trinity ( \" This Wheel 's on Fire \" ) , The Byrds ( \" You Ain 't Goin ' Nowhere \" , \" Nothing Was Delivered \" ) , and Manfred Mann ( \" Mighty Quinn \" ) . Columbia released selections in 1975 as The Basement Tapes . Over the years , more songs recorded by Dylan and his band in 1967 appeared on bootleg recordings , culminating in a five @-@ CD set titled The Genuine Basement Tapes , containing 107 songs and alternative takes . In the coming months , the Hawks recorded the album Music from Big Pink using songs they worked on in their basement in Woodstock , and renamed themselves the Band , beginning a long recording and performing career of their own . \n",
      " In October and November 1967 , Dylan returned to Nashville . Back in the studio after 19 months , he was accompanied by Charlie McCoy on bass , Kenny Buttrey on drums , and Pete Drake on steel guitar . The result was John Wesley Harding , a contemplative record of shorter songs , set in a landscape that drew on the American West and the Bible . The sparse structure and instrumentation , with lyrics that took the Judeo @-@ Christian tradition seriously , departed from Dylan 's own work and from the psychedelic fervor of the 1960s . It included \" All Along the Watchtower \" , with lyrics derived from the Book of Isaiah ( 21 : 5 – 9 ) . The song was later recorded by Jimi Hendrix , whose version Dylan acknowledged as definitive . Woody Guthrie died on October 3 , 1967 , and Dylan made his first live appearance in twenty months at a Guthrie memorial concert held at Carnegie Hall on January 20 , 1968 , where he was backed by the Band . \n",
      " Dylan 's next release , Nashville Skyline ( 1969 ) , was mainstream country featuring Nashville musicians , a mellow @-@ voiced Dylan , a duet with Johnny Cash , and the hit single \" Lay Lady Lay \" . Variety wrote , \" Dylan is definitely doing something that can be called singing . Somehow he has managed to add an octave to his range . \" Dylan and Cash also recorded a series of duets , but only their recording of Dylan 's \" Girl from the North Country \" was used on the album . \n",
      " In May 1969 , Dylan appeared on the first episode of Johnny Cash 's television show , duetting with Cash on \" Girl from the North Country \" , \" I Threw It All Away \" , and \" Living the Blues \" . Dylan next traveled to England to top the bill at the Isle of Wight festival on August 31 , 1969 , after rejecting overtures to appear at the Woodstock Festival closer to his home . \n",
      " = = = 1970s = = = \n",
      " In the early 1970s , critics charged that Dylan 's output was varied and unpredictable . Rolling Stone writer Greil Marcus asked \" What is this shit ? \" on first listening to Self Portrait , released in June 1970 . Self Portrait , a double LP including few original songs , was poorly received . In October 1970 , Dylan released New Morning , considered a return to form . This album included \" Day of the Locusts \" , a song in which Dylan gave an account of receiving an honorary degree from Princeton University on June 9 , 1970 . In November 1968 , Dylan had co @-@ written \" I 'd Have You Anytime \" with George Harrison ; Harrison recorded \" I 'd Have You Anytime \" and Dylan 's \" If Not for You \" for his 1970 solo triple album All Things Must Pass . Dylan 's surprise appearance at Harrison 's 1971 Concert for Bangladesh attracted media coverage , reflecting that Dylan 's live appearances had become rare . \n",
      " Between March 16 and 19 , 1971 , Dylan reserved three days at Blue Rock , a small studio in Greenwich Village to record with Leon Russell . These sessions resulted in \" Watching the River Flow \" and a new recording of \" When I Paint My Masterpiece \" . On November 4 , 1971 , Dylan recorded \" George Jackson \" , which he released a week later . For many , the single was a surprising return to protest material , mourning the killing of Black Panther George Jackson in San Quentin State Prison that year . Dylan contributed piano and harmony to Steve Goodman 's album , Somebody Else 's Troubles , under the pseudonym Robert Milkwood Thomas in September 1972 . \n",
      " In 1972 , Dylan signed to Sam Peckinpah 's film Pat Garrett and Billy the Kid , providing songs and backing music for the movie , and playing \" Alias \" , a member of Billy 's gang with some historical basis . Despite the film 's failure at the box office , the song \" Knockin ' on Heaven 's Door \" became one of Dylan 's most covered songs . \n",
      " = = = = Return to touring = = = = \n",
      " Dylan began 1973 by signing with a new label , David Geffen 's Asylum Records , when his contract with Columbia Records expired . On his next album , Planet Waves , he used the Band as backing group , while rehearsing for a tour . The album included two versions of \" Forever Young \" , which became one of his most popular songs . As one critic described it , the song projected \" something hymnal and heartfelt that spoke of the father in Dylan \" , and Dylan himself commented : \" I wrote it thinking about one of my boys and not wanting to be too sentimental . \" \n",
      " Columbia Records simultaneously released Dylan , a collection of studio outtakes ( almost exclusively covers ) , widely interpreted as a churlish response to Dylan 's signing with a rival record label . In January 1974 , Dylan returned to touring after seven years ; backed by the Band , he embarked on a North American tour of 40 concerts . A live double album , Before the Flood , was on Asylum Records . Soon , according to Clive Davis , Columbia Records sent word they \" will spare nothing to bring Dylan back into the fold \" . Dylan had second thoughts about Asylum , miffed that while there had been millions of unfulfilled ticket requests for the 1974 tour , Geffen had sold only 700 @,@ 000 copies of Planet Waves . Dylan returned to Columbia Records , which reissued his two Asylum albums . \n",
      " After the tour , Dylan and his wife became estranged . He filled a small red notebook with songs about relationships and ruptures , and recorded an album entitled Blood on the Tracks in September 1974 . Dylan delayed the release and re @-@ recorded half the songs at Sound 80 Studios in Minneapolis with production assistance from his brother , David Zimmerman . \n",
      " Released in early 1975 , Blood on the Tracks received mixed reviews . In the NME , Nick Kent described \" the accompaniments [ as ] often so trashy they sound like mere practice takes . \" In Rolling Stone , Jon Landau wrote that \" the record has been made with typical shoddiness . \" Over the years critics came to see it as one of Dylan 's greatest achievements . In Salon.com , Bill Wyman wrote : \" Blood on the Tracks is his only flawless album and his best produced ; the songs , each of them , are constructed in disciplined fashion . It is his kindest album and most dismayed , and seems in hindsight to have achieved a sublime balance between the logorrhea @-@ plagued excesses of his mid @-@ 1960s output and the self @-@ consciously simple compositions of his post @-@ accident years . \" Novelist Rick Moody called it \" the truest , most honest account of a love affair from tip to stern ever put down on magnetic tape . \" \n",
      " In the middle of that year , Dylan wrote a ballad championing boxer Rubin \" Hurricane \" Carter , imprisoned for a triple murder in Paterson , New Jersey , in 1966 . After visiting Carter in jail , Dylan wrote \" Hurricane \" , presenting the case for Carter 's innocence . Despite its length — over eight minutes — the song was released as a single , peaking at 33 on the U.S. Billboard chart , and performed at every 1975 date of Dylan 's next tour , the Rolling Thunder Revue . The tour featured about one hundred performers and supporters from the Greenwich Village folk scene , including T @-@ Bone Burnett , Ramblin ' Jack Elliott , Joni Mitchell , David Mansfield , Roger McGuinn , Mick Ronson , Joan Baez , and Scarlet Rivera , whom Dylan discovered walking down the street , her violin case on her back . Allen Ginsberg accompanied the troupe , staging scenes for the film Dylan was shooting . Sam Shepard was hired to write the screenplay , but ended up accompanying the tour as informal chronicler . \n",
      " Running through late 1975 and again through early 1976 , the tour encompassed the release of the album Desire , with many of Dylan 's new songs featuring a travelogue @-@ like narrative style , showing the influence of his new collaborator , playwright Jacques Levy . The 1976 half of the tour was documented by a TV concert special , Hard Rain , and the LP Hard Rain ; no concert album from the better @-@ received and better @-@ known opening half of the tour was released until 2002 's Live 1975 . \n",
      " The 1975 tour with the Revue provided the backdrop to Dylan 's nearly four @-@ hour film Renaldo and Clara , a sprawling narrative mixed with concert footage and reminiscences . Released in 1978 , the movie received poor , sometimes scathing , reviews . Later in that year , a two @-@ hour edit , dominated by the concert performances , was more widely released . \n",
      " In November 1976 , Dylan appeared at the Band 's \" farewell \" concert , with Eric Clapton , Joni Mitchell , Muddy Waters , Van Morrison and Neil Young . Martin Scorsese 's cinematic chronicle , The Last Waltz , in 1978 included about half of Dylan 's set . In 1976 , Dylan wrote and duetted on \" Sign Language \" for Eric Clapton 's No Reason To Cry . \n",
      " In 1978 , Dylan embarked on a year @-@ long world tour , performing 114 shows in Japan , the Far East , Europe and the US , to a total audience of two million . Dylan assembled an eight piece band and three backing singers . Concerts in Tokyo in February and March were released as the live double album , Bob Dylan At Budokan . Reviews were mixed . Robert Christgau awarded the album a C + rating , giving the album a derisory review , while Janet Maslin defended it in Rolling Stone , writing : \" These latest live versions of his old songs have the effect of liberating Bob Dylan from the originals . \" When Dylan brought the tour to the U.S. in September 1978 , the press described the look and sound as a ' Las Vegas Tour ' . The 1978 tour grossed more than $ 20 million , and Dylan told the Los Angeles Times that he had debts because \" I had a couple of bad years . I put a lot of money into the movie , built a big house ... and it costs a lot to get divorced in California . \" \n",
      " In April and May 1978 , Dylan took the same band and vocalists into Rundown Studios in Santa Monica , California , to record an album of new material : Street @-@ Legal . It was described by Michael Gray as , \" after Blood On The Tracks , arguably Dylan 's best record of the 1970s : a crucial album documenting a crucial period in Dylan 's own life \" . However , it had poor sound and mixing ( attributed to Dylan 's studio practices ) , muddying the instrumental detail until a remastered CD release in 1999 restored some of the songs ' strengths . \n",
      " = = = = Christian period = = = = \n",
      " In the late 1970s , Dylan became a born again Christian and released two albums of contemporary gospel music . Slow Train Coming ( 1979 ) featured the guitar accompaniment of Mark Knopfler ( of Dire Straits ) and was produced by veteran R & B producer Jerry Wexler . Wexler said that Dylan had tried to evangelize him during the recording . He replied : \" Bob , you 're dealing with a 62 @-@ year @-@ old Jewish atheist . Let 's just make an album . \" Dylan won the Grammy Award for Best Male Rock Vocal Performance for the song \" Gotta Serve Somebody \" . His second Christian @-@ themed album , Saved ( 1980 ) , received mixed reviews , described by Michael Gray as \" the nearest thing to a follow @-@ up album Dylan has ever made , Slow Train Coming II and inferior \" When touring in late 1979 and early 1980 , Dylan would not play his older , secular works , and he delivered declarations of his faith from the stage , such as : \n",
      " Years ago they ... said I was a prophet . I used to say , \" No I 'm not a prophet \" they say \" Yes you are , you 're a prophet . \" I said , \" No it 's not me . \" They used to say \" You sure are a prophet . \" They used to convince me I was a prophet . Now I come out and say Jesus Christ is the answer . They say , \" Bob Dylan 's no prophet . \" They just can 't handle it . \n",
      " Dylan 's Christianity was unpopular with some fans and musicians . Shortly before his murder , John Lennon recorded \" Serve Yourself \" in response to Dylan 's \" Gotta Serve Somebody \" . By 1981 , Stephen Holden wrote in the New York Times that \" neither age ( he 's now 40 ) nor his much @-@ publicized conversion to born @-@ again Christianity has altered his essentially iconoclastic temperament . \" \n",
      " = = = 1980s = = = \n",
      " In late 1980 , Dylan briefly played concerts billed as \" A Musical Retrospective \" , restoring popular 1960s songs to the repertoire . Shot of Love , recorded early the next year , featured his first secular compositions in more than two years , mixed with Christian songs . \" Every Grain of Sand \" reminded some of William Blake 's verses . \n",
      " In the 1980s , reception of Dylan 's recordings varied , from the well @-@ regarded Infidels in 1983 to the panned Down in the Groove in 1988 . Michael Gray condemned Dylan 's 1980s albums for carelessness in the studio and for failing to release his best songs . As an example of the latter , the Infidels recording sessions , which again employed Knopfler on lead guitar and also as the album 's producer , resulted in several notable songs that Dylan left off the album . Best regarded of these were \" Blind Willie McTell \" , a tribute to the dead blues musician and an evocation of African American history , \" Foot of Pride \" and \" Lord Protect My Child \" . These three songs were released on The Bootleg Series Volumes 1 – 3 ( Rare & Unreleased ) 1961 – 1991 . \n",
      " Between July 1984 and March 1985 , Dylan recorded Empire Burlesque . Arthur Baker , who had remixed hits for Bruce Springsteen and Cyndi Lauper , was asked to engineer and mix the album . Baker said he felt he was hired to make Dylan 's album sound \" a little bit more contemporary \" . \n",
      " Dylan sang on USA for Africa 's famine relief single \" We Are the World \" . On July 13 , 1985 , he appeared at the climax at the Live Aid concert at JFK Stadium , Philadelphia . Backed by Keith Richards and Ronnie Wood , he performed a ragged version of \" Hollis Brown \" , his ballad of rural poverty , and then said to the worldwide audience exceeding one billion people : \" I hope that some of the money ... maybe they can just take a little bit of it , maybe ... one or two million , maybe ... and use it to pay the mortgages on some of the farms and , the farmers here , owe to the banks . \" His remarks were widely criticized as inappropriate , but they did inspire Willie Nelson to organize a series of events , Farm Aid , to benefit debt @-@ ridden American farmers . \n",
      " In April 1986 , Dylan made a foray into rap music when he added vocals to the opening verse of \" Street Rock \" , featured on Kurtis Blow 's album Kingdom Blow . Dylan 's next studio album , Knocked Out Loaded , in July 1986 contained three covers ( by Little Junior Parker , Kris Kristofferson and the gospel hymn \" Precious Memories \" ) , plus three collaborations with ( Tom Petty , Sam Shepard and Carole Bayer Sager ) , and two solo compositions by Dylan . One reviewer commented that \" the record follows too many detours to be consistently compelling , and some of those detours wind down roads that are indisputably dead ends . By 1986 , such uneven records weren 't entirely unexpected by Dylan , but that didn 't make them any less frustrating . \" It was the first Dylan album since Freewheelin ' ( 1963 ) to fail to make the Top 50 . Since then , some critics have called the 11 @-@ minute epic that Dylan co @-@ wrote with Sam Shepard , \" Brownsville Girl \" , a work of genius . \n",
      " In 1986 and 1987 , Dylan toured with Tom Petty and the Heartbreakers , sharing vocals with Petty on several songs each night . Dylan also toured with the Grateful Dead in 1987 , resulting in a live album Dylan & The Dead . This received negative reviews : Allmusic said , \" Quite possibly the worst album by either Bob Dylan or the Grateful Dead . \" Dylan then initiated what came to be called the Never Ending Tour on June 7 , 1988 , performing with a back @-@ up band featuring guitarist G. E. Smith . Dylan continued to tour with a small , evolving band for the next 20 years . \n",
      " In 1987 , Dylan starred in Richard Marquand 's movie Hearts of Fire , in which he played Billy Parker , a washed @-@ up rock star turned chicken farmer whose teenage lover , ( Fiona ) , leaves him for a jaded English synth @-@ pop sensation played by Rupert Everett . Dylan also contributed two original songs to the soundtrack — \" Night After Night \" , and \" I Had a Dream About You , Baby \" , as well as a cover of John Hiatt 's \" The Usual \" . The film was a critical and commercial flop . Dylan was inducted into the Rock and Roll Hall of Fame in January 1988 , with Bruce Springsteen 's introduction declaring , \" Bob freed your mind the way Elvis freed your body . He showed us that just because music was innately physical did not mean that it was anti @-@ intellectual . \n",
      " The album Down in the Groove in May 1988 sold even more unsuccessfully than his previous studio album . Michael Gray wrote : \" The very title undercuts any idea that inspired work may lie within . Here was a further devaluing of the notion of a new Bob Dylan album as something significant . \" The critical and commercial disappointment of that album was swiftly followed by the success of the Traveling Wilburys . Dylan co @-@ founded the band with George Harrison , Jeff Lynne , Roy Orbison , and Tom Petty , and in late 1988 their multi @-@ platinum Traveling Wilburys Vol . 1 reached three on the US album chart , featuring songs that were described as Dylan 's most accessible compositions in years . Despite Orbison 's death in December 1988 , the remaining four recorded a second album in May 1990 with the title Traveling Wilburys Vol . 3 . \n",
      " Dylan finished the decade on a critical high note with Oh Mercy produced by Daniel Lanois . Michael Gray wrote that the album was : \" Attentively written , vocally distinctive , musically warm , and uncompromisingly professional , this cohesive whole is the nearest thing to a great Bob Dylan album in the 1980s . \" The track \" Most of the Time \" , a lost love composition , was later prominently featured in the film High Fidelity , while \" What Was It You Wanted ? \" has been interpreted both as a catechism and a wry comment on the expectations of critics and fans . The religious imagery of \" Ring Them Bells \" struck some critics as a re @-@ affirmation of faith . \n",
      " = = = 1990s = = = \n",
      " Dylan 's 1990s began with Under the Red Sky ( 1990 ) , an about @-@ face from the serious Oh Mercy . The album contained several apparently simple songs , including \" Under the Red Sky \" and \" Wiggle Wiggle \" . The album was dedicated to \" Gabby Goo Goo \" , a nickname for the daughter of Dylan and Carolyn Dennis , Desiree Gabrielle Dennis @-@ Dylan , who was four . Sidemen on the album included George Harrison , Slash from Guns N ' Roses , David Crosby , Bruce Hornsby , Stevie Ray Vaughan , and Elton John . Despite the line @-@ up , the record received bad reviews and sold poorly . \n",
      " In 1991 , Dylan received a Grammy Lifetime Achievement Award from American actor Jack Nicholson . The event coincided with the start of the Gulf War against Saddam Hussein , and Dylan performed \" Masters of War \" . Dylan then made a short speech , saying \" My daddy once said to me , he said , ' Son , it is possible for you to become so defiled in this world that your own mother and father will abandon you . If that happens , God will believe in your ability to mend your own ways . ' \" This sentiment was subsequently revealed to be a quote from 19th @-@ century German Jewish intellectual , Rabbi Samson Raphael Hirsch . \n",
      " The next few years saw Dylan returning to his roots with two albums covering folk and blues numbers : Good as I Been to You ( 1992 ) and World Gone Wrong ( 1993 ) , featuring interpretations and acoustic guitar work . Many critics and fans commented on the quiet beauty of the song \" Lone Pilgrim \" , written by a 19th @-@ century teacher . In November 1994 Dylan recorded two live shows for MTV Unplugged . He said his wish to perform traditional songs was overruled by Sony executives who insisted on hits . The album from it , MTV Unplugged , included \" John Brown \" , an unreleased 1962 song of how enthusiasm for war ends in mutilation and disillusionment . \n",
      " Dylan 's longtime road manager Victor Maymudes has claimed that the singer quit drinking alcohol in 1994 . Maymudes felt that Dylan sobering up made him \" more introverted and a little less social . \" \n",
      " With a collection of songs reportedly written while snowed @-@ in on his Minnesota ranch , Dylan booked recording time with Daniel Lanois at Miami 's Criteria Studios in January 1997 . The subsequent recording sessions were , by some accounts , fraught with musical tension . Before the album 's release Dylan was hospitalized with a life @-@ threatening heart infection , pericarditis , brought on by histoplasmosis . His scheduled European tour was cancelled , but Dylan made a speedy recovery and left the hospital saying , \" I really thought I 'd be seeing Elvis soon . \" He was back on the road by mid @-@ year , and performed before Pope John Paul II at the World Eucharistic Conference in Bologna , Italy . The Pope treated the audience of 200 @,@ 000 people to a homily based on Dylan 's lyric \" Blowin ' in the Wind \" . \n",
      " September saw the release of the new Lanois @-@ produced album , Time Out of Mind . With its bitter assessment of love and morbid ruminations , Dylan 's first collection of original songs in seven years was highly acclaimed . One critic wrote : \" the songs themselves are uniformly powerful , adding up to Dylan 's best overall collection in years . \" This collection of complex songs won him his first solo \" Album of the Year \" Grammy Award . \n",
      " In December 1997 , U.S. President Bill Clinton presented Dylan with a Kennedy Center Honor in the East Room of the White House , paying this tribute : \" He probably had more impact on people of my generation than any other creative artist . His voice and lyrics haven 't always been easy on the ear , but throughout his career Bob Dylan has never aimed to please . He 's disturbed the peace and discomforted the powerful . \" \n",
      " In 1999 , Dylan embarked on a North American tour with Paul Simon , where each alternated as headline act with a \" middle \" section where they performed together , starting on the first of June and ending September 18 . The collaboration was generally well @-@ received , with just one critic , Seth Rogovoy , from the Berkshire Eagle , questioning the collaboration . \n",
      " = = = 2000s = = = \n",
      " Dylan commenced the new millennium by winning the Polar Music Prize in May 2000 and his first Oscar ; his song \" Things Have Changed \" , written for the film Wonder Boys , won an Academy Award in March 2001 . The Oscar , by some reports a facsimile , tours with him , presiding over shows perched atop an amplifier . \n",
      " \" Love and Theft \" was released on September 11 , 2001 . Recorded with his touring band , Dylan produced the album himself under the pseudonym Jack Frost . The album was critically well received and earned nominations for several Grammy awards . Critics noted that Dylan was widening his musical palette to include rockabilly , Western swing , jazz , and even lounge ballads . \" Love and Theft \" generated controversy when The Wall Street Journal pointed out similarities between the album 's lyrics and Japanese author Junichi Saga 's book Confessions of a Yakuza . \n",
      " In 2003 , Dylan revisited the evangelical songs from his \" born again \" period and participated in the CD project Gotta Serve Somebody : The Gospel Songs of Bob Dylan . That year also saw the release of the film Masked & Anonymous , which Dylan co @-@ wrote with director Larry Charles under the alias Sergei Petrov . Dylan played the central character in the film , Jack Fate , alongside a cast that included Jeff Bridges , Penélope Cruz and John Goodman . The film polarised critics : many dismissed it as an \" incoherent mess \" ; a few treated it as a serious work of art . \n",
      " In October 2004 , Dylan published the first part of his autobiography , Chronicles : Volume One . Confounding expectations , Dylan devoted three chapters to his first year in New York City in 1961 – 1962 , virtually ignoring the mid @-@ 1960s when his fame was at its height . He also devoted chapters to the albums New Morning ( 1970 ) and Oh Mercy ( 1989 ) . The book reached number two on The New York Times ' Hardcover Non @-@ Fiction best seller list in December 2004 and was nominated for a National Book Award . \n",
      " No Direction Home , Martin Scorsese 's acclaimed film biography of Dylan , was first broadcast on September 26 – 27 , 2005 , on BBC Two in the UK and PBS in the US . The documentary focuses on the period from Dylan 's arrival in New York in 1961 to his motorcycle crash in 1966 , featuring interviews with Suze Rotolo , Liam Clancy , Joan Baez , Allen Ginsberg , Pete Seeger , Mavis Staples , and Dylan himself . The film received a Peabody Award in April 2006 and a Columbia @-@ duPont Award in January 2007 . The accompanying soundtrack featured unreleased songs from Dylan 's early career . \n",
      " Dylan earned yet another distinction in a 2007 study of US legal opinions and briefs that found his lyrics were quoted by judges and lawyers more than those of any other songwriter , 186 times versus 74 by the Beatles , who were second . Among those quoting Dylan were US Supreme Court Chief Justice John Roberts and Justice Antonin Scalia , both conservatives . The most widely cited lines included \" you don 't need a weatherman to know which way the wind blows \" from \" Subterranean Homesick Blues \" and \" when you ain 't got nothing , you got nothing to lose \" from \" Like a Rolling Stone \" . \n",
      " = = = = Modern Times = = = = \n",
      " May 3 , 2006 , was the premiere of Dylan 's radio presenting career , hosting a weekly radio program , Theme Time Radio Hour , for XM Satellite Radio , with song selections revolving around a chosen theme . Dylan played classic and obscure records from the 1930s to the present day , including contemporary artists as diverse as Blur , Prince , L.L. Cool J and the Streets . The show was praised by fans and critics as \" great radio , \" as Dylan told stories and made eclectic references with his sardonic humor , while achieving a thematic beauty with his musical choices . In April 2009 , Dylan broadcast the 100th show in his radio series ; the theme was \" Goodbye \" and the final record played was Woody Guthrie 's \" So Long , It 's Been Good to Know Yuh \" . This has led to speculation that Dylan 's radio series may have ended . \n",
      " On August 29 , 2006 , Dylan released his Modern Times album . Despite some coarsening of Dylan 's voice ( a critic for The Guardian characterised his singing on the album as \" a catarrhal death rattle \" ) most reviewers praised the album , and many described it as the final installment of a successful trilogy , embracing Time Out of Mind and \" Love and Theft \" . Modern Times entered the U.S. charts at number one , making it Dylan 's first album to reach that position since 1976 's Desire . The New York Times published an article exploring similarities between some of Dylan 's lyrics in Modern Times and the work of the Civil War poet Henry Timrod . \n",
      " Nominated for three Grammy Awards , Modern Times won Best Contemporary Folk / Americana Album and Bob Dylan also won Best Solo Rock Vocal Performance for \" Someday Baby \" . Modern Times was named Album of the Year , 2006 , by Rolling Stone magazine , and by Uncut in the UK . On the same day that Modern Times was released the iTunes Music Store released Bob Dylan : The Collection , a digital box set containing all of his albums ( 773 tracks in total ) , along with 42 rare and unreleased tracks . \n",
      " In August 2007 , the award @-@ winning film biography of Dylan I 'm Not There , written and directed by Todd Haynes , was released — bearing the tagline \" inspired by the music and many lives of Bob Dylan \" . The movie used six different actors to represent different aspects of Dylan 's life : Christian Bale , Cate Blanchett , Marcus Carl Franklin , Richard Gere , Heath Ledger and Ben Whishaw . Dylan 's previously unreleased 1967 recording from which the film takes its name was released for the first time on the film 's original soundtrack ; all other tracks are covers of Dylan songs , specially recorded for the movie by a diverse range of artists , including Sonic Youth , Eddie Vedder , Mason Jennings , Stephen Malkmus , Jeff Tweedy , Karen O , Willie Nelson , Cat Power , Richie Havens , and Tom Verlaine . \n",
      " On October 1 , 2007 , Columbia Records released the triple CD retrospective album Dylan , anthologising his entire career under the Dylan 07 logo . As part of this campaign , Mark Ronson produced a re @-@ mix of Dylan 's 1966 tune \" Most Likely You Go Your Way and I 'll Go Mine \" , which was released as a maxi @-@ single . This was the first time Dylan had sanctioned a re @-@ mix of one of his classic recordings . \n",
      " The sophistication of the Dylan 07 marketing campaign was a reminder that Dylan 's commercial profile had risen considerably since the 1990s . This first became evident in 2004 , when Dylan appeared in a TV advertisement for Victoria 's Secret lingerie . Three years later , in October 2007 , he participated in a multi @-@ media campaign for the 2008 Cadillac Escalade . Then , in 2009 , he gave the highest profile endorsement of his career , appearing with rapper will.i.am in a Pepsi ad that debuted during the telecast of Super Bowl XLIII . The ad , broadcast to a record audience of 98 million viewers , opened with Dylan singing the first verse of \" Forever Young \" followed by will.i.am doing a hip hop version of the song 's third and final verse . \n",
      " In October 2008 , Columbia released The Bootleg Series Vol . 8 – Tell Tale Signs as both a two @-@ CD set and a three @-@ CD version with a 150 @-@ page hardcover book . The set contains live performances and outtakes from selected studio albums from Oh Mercy to Modern Times , as well as soundtrack contributions and collaborations with David Bromberg and Ralph Stanley . The pricing of the album — the two @-@ CD set went on sale for $ 18 @.@ 99 and the three @-@ CD version for $ 129 @.@ 99 — led to complaints about \" rip @-@ off packaging \" from some fans and commentators . The release was widely acclaimed by critics . The abundance of alternative takes and unreleased material suggested to one reviewer that this volume of old outtakes \" feels like a new Bob Dylan record , not only for the astonishing freshness of the material , but also for the incredible sound quality and organic feeling of everything here . \" \n",
      " = = = = Together Through Life and Christmas in the Heart = = = = \n",
      " Bob Dylan released his album Together Through Life on April 28 , 2009 . In a conversation with music journalist Bill Flanagan , published on Dylan 's website , Dylan explained that the genesis of the record was when French film director Olivier Dahan asked him to supply a song for his new road movie , My Own Love Song ; initially only intending to record a single track , \" Life Is Hard , \" \" the record sort of took its own direction \" . Nine of the ten songs on the album are credited as co @-@ written by Bob Dylan and Robert Hunter . \n",
      " The album received largely favorable reviews , although several critics described it as a minor addition to Dylan 's canon of work . Andy Gill wrote in The Independent that the record \" features Dylan in fairly relaxed , spontaneous mood , content to grab such grooves and sentiments as flit momentarily across his radar . So while it may not contain too many landmark tracks , it 's one of the most naturally enjoyable albums you 'll hear all year . \" \n",
      " In its first week of release , the album reached number one in the Billboard 200 chart in the U.S. , making Bob Dylan ( 67 years of age ) the oldest artist to ever debut at number one on that chart . It also reached number one on the UK album chart , 39 years after Dylan 's previous UK album chart topper New Morning . This meant that Dylan currently holds the record for the longest gap between solo number one albums in the UK chart . \n",
      " On October 13 , 2009 , Dylan released a Christmas album , Christmas in the Heart , comprising such Christmas standards as \" Little Drummer Boy \" , \" Winter Wonderland \" and \" Here Comes Santa Claus \" . Dylan 's royalties from the sale of this album will benefit the charities Feeding America in the USA , Crisis in the UK , and the World Food Programme . \n",
      " The album received generally favorable reviews . The New Yorker commented that Dylan had welded a pre @-@ rock musical sound to \" some of his croakiest vocals in a while \" , and speculated that Dylan 's intentions might be ironic : \" Dylan has a long and highly publicized history with Christianity ; to claim there 's not a wink in the childish optimism of ' Here Comes Santa Claus ' or ' Winter Wonderland ' is to ignore a half @-@ century of biting satire . \" In USA Today , Edna Gundersen pointed out that Dylan was \" revisiting yuletide styles popularized by Nat King Cole , Mel Tormé , and the Ray Conniff Singers . \" Gundersen concluded that Dylan \" couldn 't sound more sentimental or sincere \" . \n",
      " In an interview published in The Big Issue , journalist Bill Flanagan asked Dylan why he had performed the songs in a straightforward style , and Dylan responded : \" There wasn 't any other way to play it . These songs are part of my life , just like folk songs . You have to play them straight too . \" \n",
      " = = = 2010s = = = \n",
      " = = = = Tempest = = = = \n",
      " On October 18 , 2010 , Dylan released Volume 9 of his Bootleg Series , The Witmark Demos . This comprised 47 demo recordings of songs taped between 1962 and 1964 for Dylan 's earliest music publishers : Leeds Music in 1962 , and Witmark Music from 1962 to 1964 . One reviewer described the set as \" a hearty glimpse of young Bob Dylan changing the music business , and the world , one note at a time . \" The critical aggregator website Metacritic awarded the album a Metascore of 86 , indicating \" universal acclaim \" . In the same week , Sony Legacy released Bob Dylan : The Original Mono Recordings , a box set that for the first time presented Dylan 's eight earliest albums , from Bob Dylan ( 1962 ) to John Wesley Harding ( 1967 ) , in their original mono mix in the CD format . The CDs were housed in miniature facsimiles of the original album covers , replete with original liner notes . The set was accompanied by a booklet featuring an essay by music critic Greil Marcus . \n",
      " On April 12 , 2011 , Legacy Recordings released Bob Dylan in Concert – Brandeis University 1963 , taped at Brandeis University on May 10 , 1963 , two weeks prior to the release of The Freewheelin ' Bob Dylan . The tape was discovered in the archive of music writer Ralph J. Gleason , and the recording carries liner notes by Michael Gray , who writes the recording captures Dylan \" from way back when Kennedy was President and the Beatles hadn 't yet reached America . It reveals him not at any Big Moment but giving a performance like his folk club sets of the period ... This is the last live performance we have of Bob Dylan before he becomes a star . \" \n",
      " The extent to which his work was studied at an academic level was demonstrated on Dylan 's 70th birthday on May 24 , 2011 , when three universities organized symposia on his work . The University of Mainz , the University of Vienna , and the University of Bristol invited literary critics and cultural historians to give papers on aspects of Dylan 's work . Other events , including tribute bands , discussions and simple singalongs , took place around the world , as reported in The Guardian : \" From Moscow to Madrid , Norway to Northampton and Malaysia to his home state of Minnesota , self @-@ confessed ' Bobcats ' will gather today to celebrate the 70th birthday of a giant of popular music . \" \n",
      " On October 4 , 2011 , Dylan 's label , Egyptian Records , released an album of previously unheard Hank Williams songs , The Lost Notebooks of Hank Williams . Dylan had helped to curate this project , in which songs unfinished when Williams died in 1953 were completed and recorded by a variety of artists , including Dylan himself , his son Jakob Dylan , Levon Helm , Norah Jones , Jack White , and others . \n",
      " On May 29 , 2012 , U.S. President Barack Obama awarded Dylan a Presidential Medal of Freedom in the White House . At the ceremony , Obama praised Dylan 's voice for its \" unique gravelly power that redefined not just what music sounded like but the message it carried and how it made people feel \" . \n",
      " On September 11 , 2012 , Dylan released his 35th studio album , Tempest . The album features a tribute to John Lennon , \" Roll On John \" , and the title track is a 14 minute song about the sinking of the Titanic . Reviewing Tempest for Rolling Stone , Will Hermes gave the album five out of five stars , writing : \" Lyrically , Dylan is at the top of his game , joking around , dropping wordplay and allegories that evade pat readings and quoting other folks ' words like a freestyle rapper on fire . \" Hermes called Tempest \" one of [ Dylan 's ] weirdest albums ever \" , and opined , \" It may also be the single darkest record in Dylan 's catalog . \" The critical aggregator website Metacritic awarded the album a score of 83 out of 100 , indicating \" universal acclaim \" . \n",
      " On August 27 , 2013 , Columbia Records released Volume 10 of Dylan 's Bootleg Series , Another Self Portrait ( 1969 – 1971 ) . The album contained 35 previously unreleased tracks , including alternate takes and demos from Dylan 's 1969 – 1971 recording sessions during the making of the Self Portrait and New Morning albums . The box set also included a live recording of Dylan 's performance with the Band at the Isle of Wight Festival in 1969 . Another Self Portrait received favorable reviews , earning a score of 81 on the critical aggregator , Metacritic , indicating \" universal acclaim \" . AllMusic critic Thom Jurek wrote , \" For fans , this is more than a curiosity , it 's an indispensable addition to the catalog . \" \n",
      " On November 4 , 2013 , Columbia Records released Bob Dylan : Complete Album Collection : Vol . One , a boxed set containing all 35 of Dylan 's studio albums , six albums of live recordings , and a collection , entitled Sidetracks , of singles , songs from films and non @-@ album material . The box includes new album @-@ by @-@ album liner notes written by Clinton Heylin with an introduction by Bill Flanagan . On the same date , Columbia released a compilation , The Very Best of Bob Dylan , which is available in both single CD and double CD formats . To publicize the 35 album box set , an innovative video of the song \" Like a Rolling Stone \" was released on Dylan 's website . The interactive video , created by director Vania Heymann , allowed viewers to switch between 16 simulated TV channels , all featuring characters who are lip @-@ synching the lyrics of the 48 @-@ year @-@ old song . \n",
      " On February 2 , 2014 , Dylan appeared in a commercial for the Chrysler 200 car which was screened during the 2014 Super Bowl American football game . At the end of the commercial , Dylan says : \" So let Germany brew your beer , let Switzerland make your watch , let Asia assemble your phone . We will build your car . \" Dylan 's Super Bowl commercial generated controversy and op @-@ ed pieces discussing the protectionist implications of his words , and whether the singer had \" sold out \" to corporate interests . \n",
      " In 2013 and 2014 , auction house sales demonstrated the high cultural value attached to Dylan 's mid @-@ 1960s work , and the record prices that collectors were willing to pay for artefacts from this period . In December 2013 , the Fender Stratocaster which Dylan had played at the 1965 Newport Folk Festival fetched $ 965 @,@ 000 , the second highest price paid for a guitar . In June 2014 , Dylan 's hand @-@ written lyrics of \" Like a Rolling Stone \" , his 1965 hit single , fetched $ 2 million dollars at auction , a record for a popular music manuscript . \n",
      " On October 28 , 2014 , Simon & Schuster published a massive 960 page , thirteen and a half pound edition of Dylan 's lyrics , Lyrics : Since 1962 . The book was edited by literary critic Christopher Ricks , Julie Nemrow and Lisa Nemrow , to offer variant versions of Dylan 's songs , sourced from out @-@ takes and live performances . A limited edition of 50 books , signed by Dylan , was priced at $ 5 @,@ 000 . \" It ’ s the biggest , most expensive book we ’ ve ever published , as far as I know , \" said Jonathan Karp , Simon & Schuster ’ s president and publisher . \n",
      " On November 4 , 2014 , Columbia Records / Legacy Recordings released The Basement Tapes Complete by Bob Dylan and The Band . These 138 tracks in a six @-@ CD box form Volume 11 of Dylan 's Bootleg Series . The 1975 album , The Basement Tapes , contained some of the songs which Dylan and the Band recorded in their homes in Woodstock , New York , in 1967 . Subsequently , over 100 recordings and alternate takes have circulated on bootleg records . The sleeve notes for the new box set are by Sid Griffin , American musician and author of Million Dollar Bash : Bob Dylan , The Band , and The Basement Tapes . \n",
      " = = = = Shadows in the Night and Fallen Angels = = = = \n",
      " On February 3 , 2015 , Dylan released Shadows in the Night , featuring ten songs written between 1923 and 1963 , which have been described as part of the Great American Songbook . All the songs on the album were recorded by Frank Sinatra but both critics and Dylan himself cautioned against seeing the record as a collection of \" Sinatra covers \" . Dylan explained , \" I don 't see myself as covering these songs in any way . They 've been covered enough . Buried , as a matter a fact . What me and my band are basically doing is uncovering them . Lifting them out of the grave and bringing them into the light of day . \" In an interview , Dylan said he had been thinking about making this record since hearing Willie Nelson 's 1978 album Stardust . \n",
      " Shadows In the Night received favorable reviews , scoring 82 on the critical aggregator Metacritic , which indicates \" universal acclaim \" . Critics praised the restrained instrumental backings and Dylan 's singing , saying that the material had elicited his best vocal performances in recent years . Bill Prince in GQ commented : \" A performer who 's had to hear his influence in virtually every white pop recording made since he debuted his own self @-@ titled album back in 1962 imagines himself into the songs of his pre @-@ rock 'n'roll early youth . \" In The Independent , Andy Gill wrote that the recordings \" have a lingering , languid charm , which ... help to liberate the material from the rusting manacles of big @-@ band and cabaret mannerisms . \" The album debuted at number one in the UK albums chart in its first week of release . \n",
      " On October 5 , 2015 , IBM launched a marketing campaign for its Watson computer system which featured Dylan . Dylan is seen conversing with the computer which says it has read all his lyrics and reports : \" My analysis shows that your major themes are that time passes and love fades . \" Dylan replies : \" That sounds about right . \" \n",
      " On November 6 , 2015 , Sony Music released The Bootleg Series Vol . 12 : The Cutting Edge 1965 – 1966 . This work consists of previously unreleased material from the three albums Dylan recorded Between January 1965 and March 1966 : Bringing It All Back Home , Highway 61 Revisited and Blonde on Blonde . The records have been released in three formats : a 2 @-@ CD \" Best Of \" version , a 6 @-@ CD \" Deluxe edition \" , and an 18 @-@ CD \" Collector 's Edition \" in a limited edition of 5 @,@ 000 units . On Dylan 's website the \" Collector 's Edition \" was described as containing \" every single note recorded by Bob Dylan in the studio in 1965 / 1966 \" . The critical aggregator website Metacritic awarded Cutting Edge a score of 99 , indicating universal acclaim . The Best of the Cutting Edge entered the Billboard Top Rock Albums chart at number one on November 18 , based on its first @-@ week sales . \n",
      " On March 2 , 2016 , it was announced that Dylan had sold an extensive archive of about 6 @,@ 000 items to the George Kaiser Family Foundation and the University of Tulsa . It was reported that the sale price was \" an estimated $ 15 million to $ 20 million \" , and the archive comprises notebooks , drafts of Dylan lyrics , recordings , and correspondence . Filmed material in the collection includes 30 hours of outtakes from the 1965 tour documentary Dont Look Back , 30 hours of footage shot on Dylan 's legendary 1966 electric tour , and 50 hours shot on the 1975 Rolling Thunder Revue . The archive will be housed at Helmerich Center for American Research , a facility at the Gilcrease Museum . \n",
      " On May 20 , 2016 , Dylan released his 37th studio album , Fallen Angels , which was described as \" a direct continuation of the work of ' uncovering ' the Great Songbook that he began on last year ’ s Shadows In the Night . \" The album contained twelve songs by classic songwriters such as Harold Arlen , Sammy Cahn and Johnny Mercer , eleven of which had been recorded by Sinatra . Jim Farber wrote in Entertainment Weekly : \" Tellingly , [ Dylan ] delivers these songs of love lost and cherished not with a burning passion but with the wistfulness of experience . They ’ re memory songs now , intoned with a present sense of commitment . Released just four days ahead of his 75th birthday , they couldn ’ t be more age @-@ appropriate . \" The album received a score of 79 on critical aggregator website Metacritic , denoting \" generally favorable reviews \" . \n",
      " = = Never Ending Tour = = \n",
      " The Never Ending Tour commenced on June 7 , 1988 , and Dylan has played roughly 100 dates a year for the entirety of the 1990s and 2000s — a heavier schedule than most performers who started out in the 1960s . By May 2013 , Dylan and his band had played more than 2 @,@ 500 shows , anchored by long @-@ time bassist Tony Garnier , drummer George Recile , multi @-@ instrumentalist Donnie Herron , and guitarist Charlie Sexton . To the dismay of some of his audience , Dylan 's performances remain unpredictable as he alters his arrangements and changes his vocal approach night after night . Critical opinion about Dylan 's shows remains divided . Critics such as Richard Williams and Andy Gill have argued that Dylan has found a successful way to present his rich legacy of material . Others have criticized his live performances for mangling and spitting out \" the greatest lyrics ever written so that they are effectively unrecognisable \" , and giving so little to the audience that \" it is difficult to understand what he is doing on stage at all . \" \n",
      " Dylan 's performances in China in April 2011 generated controversy . Some criticised him for not making any explicit comment on the political situation in China , and for , allegedly , allowing the Chinese authorities to censor his set list . Others defended Dylan 's performances , arguing that such criticism represented a misunderstanding of Dylan 's art , and that no evidence for the censorship of Dylan 's set list existed . In response to these allegations , Dylan posted a statement on his website : \" As far as censorship goes , the Chinese government had asked for the names of the songs that I would be playing . There 's no logical answer to that , so we sent them the set lists from the previous 3 months . If there were any songs , verses or lines censored , nobody ever told me about it and we played all the songs that we intended to play . \" \n",
      " Dylan commenced a tour of Japan in Tokyo on April 4 , 2016 , which concluded in Yokohama on April 28 . Dylan announced a tour of the US starting in Woodinville WA on June 4 , 2016 , and finishing in Gilford NH on July 17 . Dylan has also announced his participation in a so @-@ called \" Mega @-@ Fest \" titled Desert Trip , in California on October 7 , when he will perform at the same event as the Rolling Stones , Neil Young , Paul McCartney , the Who and Roger Waters . \n",
      " = = Visual artist = = \n",
      " The cover of Dylan 's album Self Portrait ( 1970 ) is a reproduction of a painting of a face by Dylan . Another of his paintings is reproduced on the cover of the 1974 album Planet Waves . In 1994 Random House published Drawn Blank , a book of Dylan 's drawings . In 2007 , the first public exhibition of Dylan 's paintings , The Drawn Blank Series , opened at the Kunstsammlungen in Chemnitz , Germany ; it showcased more than 200 watercolors and gouaches made from the original drawings . The exhibition coincided with the publication of Bob Dylan : The Drawn Blank Series , which includes 170 reproductions from the series . From September 2010 until April 2011 , the National Gallery of Denmark exhibited 40 large @-@ scale acrylic paintings by Dylan , The Brazil Series . \n",
      " In July 2011 , a leading contemporary art gallery , Gagosian Gallery , announced their representation of Dylan 's paintings . An exhibition of Dylan 's art , The Asia Series , opened at the Gagosian Madison Avenue Gallery on September 20 , displaying Dylan 's paintings of scenes in China and the Far East . The New York Times reported that \" some fans and Dylanologists have raised questions about whether some of these paintings are based on the singer 's own experiences and observations , or on photographs that are widely available and were not taken by Mr. Dylan . \" The Times pointed to close resemblances between Dylan 's paintings and historic photos of Japan and China , and photos taken by Dmitri Kessel and Henri Cartier @-@ Bresson . The Magnum photo agency confirmed that Dylan had licensed the reproduction rights of these photographs . \n",
      " Dylan 's second show at the Gagosian Gallery , Revisionist Art , opened in November 2012 . The show consisted of thirty paintings , transforming and satirizing popular magazines , including Playboy and Babytalk . In February 2013 , Dylan exhibited the New Orleans Series of paintings at the Palazzo Reale in Milan . In August 2013 , Britain 's National Portrait Gallery in London hosted Dylan 's first major UK exhibition , Face Value , featuring twelve pastel portraits . \n",
      " In November 2013 , the Halcyon Gallery , in London , exhibited seven wrought iron gates created by Dylan ( the exhibition was entitled Mood Swings ) . In a statement released by the gallery , Dylan said , \" I 've been around iron all my life ever since I was a kid . I was born and raised in iron ore country , where you could breathe it and smell it every day . Gates appeal to me because of the negative space they allow . They can be closed but at the same time they allow the seasons and breezes to enter and flow . They can shut you out or shut you in . And in some ways there is no difference . \" \n",
      " Since 1994 , Dylan has published six books of paintings and drawings . \n",
      " = = Discography = = \n",
      " = = Accolades = = \n",
      " Dylan has won many awards throughout his career including eleven Grammy Awards , one Academy Award and one Golden Globe Award . He has been inducted into the Rock and Roll Hall of Fame , Nashville Songwriters Hall of Fame , and Songwriters Hall of Fame . In May 2000 , Dylan was awarded the Polar Music Prize . He received the Presidential Medal of Freedom in May 2012 . In February 2015 , Dylan accepted the MusiCares Person of the Year award from the National Academy of Recording Arts and Sciences , in recognition of his philanthropic and artistic contributions to society . \n",
      " = = Personal life = = \n",
      " = = = Family = = = \n",
      " Dylan married Sara Lownds on November 22 , 1965 . Their first child , Jesse Byron Dylan , was born on January 6 , 1966 , and they had three more children : Anna Lea ( born July 11 , 1967 ) , Samuel Isaac Abram ( born July 30 , 1968 ) , and Jakob Luke ( born December 9 , 1969 ) . Dylan also adopted Sara 's daughter from a prior marriage , Maria Lownds ( later Dylan , born October 21 , 1961 ) . Bob and Sara Dylan were divorced on June 29 , 1977 . Maria married musician Peter Himmelman in 1988 . In the 1990s , Dylan 's son Jakob became well known as the lead singer of the band The Wallflowers . Jesse Dylan is a film director and a successful businessman . \n",
      " Desiree Gabrielle Dennis @-@ Dylan , Dylan 's daughter with his backup singer Carolyn Dennis ( often professionally known as Carol Dennis ) , was born on January 31 , 1986 , and Dylan married Carolyn Dennis on June 4 , 1986 . The couple divorced in October 1992 . Their marriage and child remained a closely guarded secret until the publication of Howard Sounes ' Dylan biography , Down the Highway : The Life Of Bob Dylan in 2001 . \n",
      " When not touring , Dylan is believed to live primarily in Point Dume , a promontory on the coast of Malibu , California , though he also owns property around the world . \n",
      " = = = Religious beliefs = = = \n",
      " Growing up in Hibbing , Minnesota , Dylan and his family were part of the area 's small but close @-@ knit Jewish community , and in May 1954 Dylan had his Bar Mitzvah . Around the time of his 30th birthday , in 1971 , Dylan visited Israel , and also met Rabbi Meir Kahane , founder of the New York @-@ based Jewish Defense League . Time magazine quoted him saying about Kahane , \" He 's a really sincere guy . He 's really put it all together . \" Subsequently , Dylan downplayed the extent of his contact with Kahane . \n",
      " During the late 1970s and early 1980s , Dylan converted to Christianity . From January to April 1979 , he participated in Bible study classes at the Vineyard School of Discipleship in Reseda , California . Pastor Kenn Gulliksen has recalled : \" Larry Myers and Paul Emond went over to Bob 's house and ministered to him . He responded by saying , ' Yes he did in fact want Christ in his life . ' And he prayed that day and received the Lord . \" \n",
      " By 1984 , Dylan was distancing himself from the \" born again \" label . He told Kurt Loder of Rolling Stone magazine : \" I 've never said I 'm born again . That 's just a media term . I don 't think I 've been an agnostic . I 've always thought there 's a superior power , that this is not the real world and that there 's a world to come . \" In response to Loder 's asking whether he belonged to any church or synagogue , Dylan laughingly replied , \" Not really . Uh , the Church of the Poison Mind . \" In 1997 he told David Gates of Newsweek : \n",
      " Here 's the thing with me and the religious thing . This is the flat @-@ out truth : I find the religiosity and philosophy in the music . I don 't find it anywhere else . Songs like \" Let Me Rest on a Peaceful Mountain \" or \" I Saw the Light \" — that 's my religion . I don 't adhere to rabbis , preachers , evangelists , all of that . I 've learned more from the songs than I 've learned from any of this kind of entity . The songs are my lexicon . I believe the songs . \n",
      " In an interview published in The New York Times on September 28 , 1997 , journalist Jon Pareles reported that \" Dylan says he now subscribes to no organized religion . \" \n",
      " Dylan has been a supporter of the Chabad Lubavitch movement in the last 20 years , and has privately participated in Jewish religious events , including the Bar Mitzvahs of his sons and attending Hadar Hatorah , a Chabad Lubavitch yeshiva . In September 1989 and September 1991 , he appeared on the Chabad telethon . Dylan reportedly visits Chabad synagogues ; on Yom Kippur in 2007 he attended Congregation Beth Tefillah , in Atlanta , Georgia , where he was called to the Torah for the sixth aliyah . \n",
      " Dylan has continued to perform songs from his gospel albums in concert , occasionally covering traditional religious songs . He has also made passing references to his religious faith — such as in a 2004 interview with 60 Minutes , when he told Ed Bradley that \" the only person you have to think twice about lying to is either yourself or to God . \" He also explained his constant touring schedule as part of a bargain he made a long time ago with the \" chief commander — in this earth and in the world we can 't see . \" \n",
      " In a 2009 interview with Bill Flanagan promoting Dylan 's Christmas LP , Christmas in the Heart , Flanagan commented on the \" heroic performance \" Dylan gave of \" O Little Town of Bethlehem \" and that he \" delivered the song like a true believer \" . Dylan replied : \" Well , I am a true believer . \" \n",
      " = = Legacy = = \n",
      " Dylan has been described as one of the most influential figures of the 20th century , musically and culturally . He was included in the Time 100 : The Most Important People of the Century where he was called \" master poet , caustic social critic and intrepid , guiding spirit of the counterculture generation \" . In 2008 , The Pulitzer Prize jury awarded him a special citation for \" his profound impact on popular music and American culture , marked by lyrical compositions of extraordinary poetic power . \" President Barack Obama said of Dylan in 2012 , \" There is not a bigger giant in the history of American music . \" In their 2008 assessment of the \" 100 Greatest Singers \" , Rolling Stone magazine ranked him at number seven . Rolling Stone then ranked Dylan at number two in its 2011 list of \" 100 Greatest Artists \" of all time , while \" Like A Rolling Stone \" was listed as the \" Greatest Song of all Time . \" In 2008 , it was estimated that Dylan had sold about 120 million albums worldwide . \n",
      " Initially modeling his writing style on the songs of Woody Guthrie , the blues of Robert Johnson , and what he termed the \" architectural forms \" of Hank Williams songs , Dylan added increasingly sophisticated lyrical techniques to the folk music of the early 1960s , infusing it \" with the intellectualism of classic literature and poetry \" . Paul Simon suggested that Dylan 's early compositions virtually took over the folk genre : \" [ Dylan 's ] early songs were very rich ... with strong melodies . ' Blowin ' in the Wind ' has a really strong melody . He so enlarged himself through the folk background that he incorporated it for a while . He defined the genre for a while . \" \n",
      " When Dylan made his move from acoustic folk and blues music to a rock backing , the mix became more complex . For many critics , his greatest achievement was the cultural synthesis exemplified by his mid @-@ 1960s trilogy of albums — Bringing It All Back Home , Highway 61 Revisited and Blonde on Blonde . In Mike Marqusee 's words : \n",
      " Between late 1964 and the middle of 1966 , Dylan created a body of work that remains unique . Drawing on folk , blues , country , R & B , rock 'n'roll , gospel , British beat , symbolist , modernist and Beat poetry , surrealism and Dada , advertising jargon and social commentary , Fellini and Mad magazine , he forged a coherent and original artistic voice and vision . The beauty of these albums retains the power to shock and console . \" \n",
      " Dylan 's lyrics began to receive detailed scrutiny from academics and poets . Literary critic Christopher Ricks published a 500 @-@ page analysis of Dylan 's work , placing him in the context of Eliot , Keats and Tennyson , claiming that Dylan was a poet worthy of the same close analysis . Former British poet laureate Sir Andrew Motion argued that his lyrics should be studied in schools . Since 1996 , academics have lobbied the Swedish Academy to award Dylan the Nobel Prize in Literature . \n",
      " Dylan 's voice also received critical attention . New York Times critic Robert Shelton described his early vocal style as \" a rusty voice suggesting Guthrie 's old performances , etched in gravel like Dave Van Ronk 's . \" David Bowie , in his tribute , \" Song for Bob Dylan \" , described Dylan 's singing as \" a voice like sand and glue \" . His voice continued to develop as he began to work with rock 'n'roll backing bands ; critic Michael Gray described the sound of Dylan 's vocal work on \" Like a Rolling Stone \" as \" at once young and jeeringly cynical \" . As Dylan 's voice aged during the 1980s , for some critics , it became more expressive . Christophe Lebold writes in the journal Oral Tradition , \" Dylan 's more recent broken voice enables him to present a world view at the sonic surface of the songs — this voice carries us across the landscape of a broken , fallen world . The anatomy of a broken world in \" Everything is Broken \" ( on the album Oh Mercy ) is but an example of how the thematic concern with all things broken is grounded in a concrete sonic reality . \" \n",
      " Dylan is considered a seminal influence on several musical genres , especially folk rock , country rock and Christian rock . As Edna Gundersen stated in USA Today : \" Dylan 's musical DNA has informed nearly every simple twist of pop since 1962 . \" Punk musician Joe Strummer praised Dylan for having \" laid down the template for lyric , tune , seriousness , spirituality , depth of rock music . \" Other major musicians who acknowledged Dylan 's importance include Johnny Cash , Jerry Garcia , John Lennon , Paul McCartney , Pete Townshend , Neil Young , Bruce Springsteen , David Bowie , Bryan Ferry , Nick Cave , Patti Smith , Syd Barrett Joni Mitchell , and Tom Waits . Dylan significantly contributed to the initial success of both the Byrds and the Band : the Byrds achieved chart success with their version of \" Mr. Tambourine Man \" and the subsequent album , while the Band were Dylan 's backing band on his 1966 tour , recorded The Basement Tapes with him in 1967 , and featured three previously unreleased Dylan songs on their debut album . \n",
      " Some critics have dissented from the view of Dylan as a visionary figure in popular music . In his book Awopbopaloobop Alopbamboom , Nik Cohn objected : \" I can 't take the vision of Dylan as seer , as teenage messiah , as everything else he 's been worshipped as . The way I see him , he 's a minor talent with a major gift for self @-@ hype . \" Australian critic Jack Marx credited Dylan with changing the persona of the rock star : \" What cannot be disputed is that Dylan invented the arrogant , faux @-@ cerebral posturing that has been the dominant style in rock since , with everyone from Mick Jagger to Eminem educating themselves from the Dylan handbook . \" \n",
      " Fellow musicians also presented dissenting views . Joni Mitchell described Dylan as a \" plagiarist \" and his voice as \" fake \" in a 2010 interview in the Los Angeles Times , in response to a suggestion that she and Dylan were similar since they had both created personas . Mitchell 's comment led to discussions of Dylan 's use of other people 's material , both supporting and criticizing him . In 2013 Mitchell told the Canadian Broadcasting Corporation ( CBC ) in an interview that her remarks in the Los Angeles Times had been taken \" completely out of context \" , and that the interviewer was a \" moron \" . Mitchell added : \" I like a lot of Bob 's songs . Musically he 's not very gifted . He 's borrowed his voice from old hillbillies . He 's got a lot of borrowed things . He 's not a great guitar player . He 's invented a character to deliver his songs . \" \n",
      " Talking to Mikal Gilmore in Rolling Stone in 2012 , Dylan responded to the allegation of plagiarism , including his use of Henry Timrod 's verse in his album Modern Times , by saying that it was \" part of the tradition \" . \n",
      " If Dylan 's work in the 1960s was seen as bringing intellectual ambition to popular music , critics in the 21st century described him as a figure who had greatly expanded the folk culture from which he initially emerged . Following the release of Todd Haynes ' Dylan biopic I 'm Not There , J. Hoberman wrote in his 2007 Village Voice review : \n",
      " Elvis might never have been born , but someone else would surely have brought the world rock ' n ' roll . No such logic accounts for Bob Dylan . No iron law of history demanded that a would @-@ be Elvis from Hibbing , Minnesota , would swerve through the Greenwich Village folk revival to become the world 's first and greatest rock ' n ' roll beatnik bard and then — having achieved fame and adoration beyond reckoning — vanish into a folk tradition of his own making . \n",
      " Prior to the June 2014 sale of the original lyrics of \" Like a Rolling Stone \" , written on four sheets of hotel stationery by Dylan in 1965 , Richard Austin , of Sotheby 's , New York , said : \" Before the release of Like a Rolling Stone , music charts were overrun with short and sweet love songs , many clocking in at three minutes or less . By defying convention with six and a half minutes of dark , brooding poetry , Dylan rewrote the rules for pop music . \" \n",
      "\n"
     ]
    }
   ],
   "execution_count": 21
  },
  {
   "metadata": {
    "ExecuteTime": {
     "end_time": "2024-11-20T03:16:46.536857Z",
     "start_time": "2024-11-20T03:16:46.534437Z"
    }
   },
   "cell_type": "code",
   "source": "print(16078 * 20 / (1024 * 1024))",
   "id": "7d28a89138b67e18",
   "outputs": [
    {
     "name": "stdout",
     "output_type": "stream",
     "text": [
      "0.30666351318359375\n"
     ]
    }
   ],
   "execution_count": 12
  },
  {
   "metadata": {},
   "cell_type": "code",
   "outputs": [],
   "execution_count": null,
   "source": "",
   "id": "81ae5bf33605d6af"
  }
 ],
 "metadata": {
  "kernelspec": {
   "display_name": "Python 3",
   "language": "python",
   "name": "python3"
  },
  "language_info": {
   "codemirror_mode": {
    "name": "ipython",
    "version": 2
   },
   "file_extension": ".py",
   "mimetype": "text/x-python",
   "name": "python",
   "nbconvert_exporter": "python",
   "pygments_lexer": "ipython2",
   "version": "2.7.6"
  }
 },
 "nbformat": 4,
 "nbformat_minor": 5
}
